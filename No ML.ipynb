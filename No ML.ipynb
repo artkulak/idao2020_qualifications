{
 "cells": [
  {
   "cell_type": "code",
   "execution_count": 1,
   "metadata": {},
   "outputs": [],
   "source": [
    "import pandas as pd\n",
    "import numpy as np\n",
    "import matplotlib.pyplot as plt\n",
    "from mpl_toolkits import mplot3d\n",
    "import seaborn as sns\n",
    "import gc\n",
    "from tqdm import tqdm\n",
    "\n",
    "%matplotlib inline\n",
    "\n",
    "PATH = ''"
   ]
  },
  {
   "cell_type": "code",
   "execution_count": 2,
   "metadata": {},
   "outputs": [
    {
     "name": "stdout",
     "output_type": "stream",
     "text": [
      "Wall time: 2.55 s\n"
     ]
    }
   ],
   "source": [
    "%%time\n",
    "train = pd.read_csv(PATH + 'train.csv')\n",
    "test = pd.read_csv(PATH + 'Track 1/test.csv')\n",
    "submission = pd.read_csv(PATH + 'Track 1/submission.csv')"
   ]
  },
  {
   "cell_type": "code",
   "execution_count": 12,
   "metadata": {},
   "outputs": [],
   "source": [
    "def smape(satellite_predicted_values, satellite_true_values): \n",
    "    # the division, addition and subtraction are pointwise \n",
    "    return np.mean(np.abs(satellite_predicted_values - satellite_true_values) / (np.abs(satellite_predicted_values) + np.abs(satellite_true_values)))\n",
    "\n",
    "def getLBScore(real, predicted):\n",
    "    smp = []\n",
    "    for sat_id in real['sat_id'].unique():\n",
    "        rv = real[real['sat_id'] == sat_id][['x', 'y', 'z', 'Vx', 'Vy', 'Vz']].values\n",
    "        sym = predicted[predicted['sat_id'] == sat_id][['x', 'y', 'z', 'Vx', 'Vy', 'Vz']].values\n",
    "        smp.append(smape(sym.ravel(), rv.ravel()))\n",
    "    meanSmape = np.mean(smp)\n",
    "    lbScore = 100 * (1 - meanSmape)\n",
    "    print('Mean SMAPE ', meanSmape, '; LB score ', lbScore)"
   ]
  },
  {
   "cell_type": "code",
   "execution_count": 4,
   "metadata": {},
   "outputs": [],
   "source": [
    "training_columns = ['epoch', 'sat_id', 'x_sim', 'y_sim', 'z_sim', 'Vx_sim', 'Vy_sim', 'Vz_sim']\n",
    "prediction_columns = ['x','y','z','Vx', 'Vy', 'Vz']\n",
    "X = train.loc[:, training_columns]\n",
    "Y = train.loc[:, prediction_columns]\n",
    "Xtest = test.loc[:, training_columns]"
   ]
  },
  {
   "cell_type": "code",
   "execution_count": 6,
   "metadata": {},
   "outputs": [
    {
     "name": "stderr",
     "output_type": "stream",
     "text": [
      "C:\\Anaconda3\\lib\\site-packages\\sklearn\\model_selection\\_split.py:2179: FutureWarning: From version 0.21, test_size will always complement train_size unless both are specified.\n",
      "  FutureWarning)\n"
     ]
    }
   ],
   "source": [
    "from sklearn.model_selection import train_test_split\n",
    "\n",
    "Xtr, Xval, ytr, yval = train_test_split(X, Y, train_size = 0.9)\n",
    "submissionValid = train.iloc[Xval.index, :].copy()[['id', 'sat_id', 'x', 'y', 'z', 'Vx', 'Vy', 'Vz']]\n",
    "submissionValid = submissionValid.reset_index(drop=True)"
   ]
  },
  {
   "cell_type": "code",
   "execution_count": 9,
   "metadata": {},
   "outputs": [
    {
     "name": "stderr",
     "output_type": "stream",
     "text": [
      "100%|███████████████████████████████████████████████████████████████████████████████████████████████████████████████████████████████████████████████████████████████████████████████████████████████████| 64992/64992 [07:46<00:00, 139.25it/s]\n"
     ]
    }
   ],
   "source": [
    "from sklearn.model_selection import train_test_split\n",
    "\n",
    "Xtr, Xval, ytr, yval = train_test_split(X, Y, train_size = 0.9)\n",
    "submissionValid = train.iloc[Xval.index, :].copy()[['id', 'sat_id', 'x', 'y', 'z', 'Vx', 'Vy', 'Vz']]\n",
    "submissionValid = submissionValid.reset_index(drop=True)\n",
    "idx = 0\n",
    "for idx in tqdm(range(Xval.shape[0])):\n",
    "    row = Xval.iloc[idx, :]\n",
    "    trData = Xtr[Xtr['sat_id'] == row['sat_id']]\n",
    "    trValues = ytr[Xtr['sat_id'] == row['sat_id']]\n",
    "    x,y,z = row.iloc[[2,3,4]].values\n",
    "    minIndex = np.argmin(np.sqrt(np.sum((trData.iloc[:, [2,3,4]].values - [x,y,z])**2, axis = 1)))\n",
    "    submissionValid.iloc[idx, 2:] = trData.iloc[minIndex, 2:8].values"
   ]
  },
  {
   "cell_type": "code",
   "execution_count": 13,
   "metadata": {},
   "outputs": [
    {
     "name": "stdout",
     "output_type": "stream",
     "text": [
      "Mean SMAPE  0.30104707832278793 ; LB score  69.89529216772121\n"
     ]
    }
   ],
   "source": [
    "getLBScore(train.iloc[Xval.index, :].copy()[['id', 'sat_id', 'x', 'y', 'z', 'Vx', 'Vy', 'Vz']], submissionValid)"
   ]
  },
  {
   "cell_type": "code",
   "execution_count": 32,
   "metadata": {},
   "outputs": [
    {
     "name": "stderr",
     "output_type": "stream",
     "text": [
      "100%|████████████████████████████████████████████████████████████████████████████████████████████████████████████████████████████████████████████████████████████████████████████████████████████████████████| 300/300 [51:51<00:00,  9.17s/it]\n"
     ]
    }
   ],
   "source": [
    "idx = 0\n",
    "for sat_id in tqdm(sorted(test['sat_id'].unique())):\n",
    "    trData = X[satellites == sat_id]\n",
    "    trValues = Y[satellites == sat_id]\n",
    "    \n",
    "    testData = test[test['sat_id'] == sat_id]\n",
    "    for index in range(testData.shape[0]):\n",
    "        x,y,z = testData.iloc[index, [3,4,5]].values\n",
    "        minIndex = np.argmin(np.sqrt(np.sum((trData.iloc[:, [2,3,4]].values - [x,y,z])**2, axis = 1)))\n",
    "        submission.iloc[idx, 1:] = trData.iloc[minIndex, 2:8].values\n",
    "        idx+=1"
   ]
  },
  {
   "cell_type": "code",
   "execution_count": 33,
   "metadata": {},
   "outputs": [],
   "source": [
    "# idx = 0\n",
    "# satellites = X['sat_id']\n",
    "# for idx in tqdm(range(test.shape[0])):\n",
    "#     row = test.iloc[idx, :]\n",
    "#     trData = X[satellites == row['sat_id']]\n",
    "#     trValues = Y[satellites == row['sat_id']]\n",
    "#     x,y,z = row.iloc[[3,4,5]].values\n",
    "#     minIndex = np.argmin(np.sqrt(np.sum((trData.iloc[:, [2,3,4]].values - [x,y,z])**2, axis = 1)))\n",
    "#     submission.iloc[idx, 1:] = trData.iloc[minIndex, 2:8].values"
   ]
  },
  {
   "cell_type": "code",
   "execution_count": 34,
   "metadata": {},
   "outputs": [],
   "source": [
    "submission.to_csv('submission.csv', index = None)"
   ]
  },
  {
   "cell_type": "code",
   "execution_count": null,
   "metadata": {},
   "outputs": [],
   "source": []
  }
 ],
 "metadata": {
  "kernelspec": {
   "display_name": "Python 3",
   "language": "python",
   "name": "python3"
  },
  "language_info": {
   "codemirror_mode": {
    "name": "ipython",
    "version": 3
   },
   "file_extension": ".py",
   "mimetype": "text/x-python",
   "name": "python",
   "nbconvert_exporter": "python",
   "pygments_lexer": "ipython3",
   "version": "3.6.6"
  }
 },
 "nbformat": 4,
 "nbformat_minor": 2
}
