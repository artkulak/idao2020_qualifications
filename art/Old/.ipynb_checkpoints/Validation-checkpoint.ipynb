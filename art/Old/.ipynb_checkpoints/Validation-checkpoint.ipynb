{
 "cells": [
  {
   "cell_type": "code",
   "execution_count": 4,
   "metadata": {},
   "outputs": [],
   "source": [
    "import pandas as pd\n",
    "import numpy as np\n",
    "import matplotlib.pyplot as plt\n",
    "from mpl_toolkits import mplot3d\n",
    "import seaborn as sns\n",
    "import gc\n",
    "from tqdm import tqdm\n",
    "from warnings import filterwarnings\n",
    "filterwarnings('ignore')\n",
    "\n",
    "%matplotlib inline\n",
    "\n",
    "PATH = '../../'"
   ]
  },
  {
   "cell_type": "code",
   "execution_count": 5,
   "metadata": {},
   "outputs": [
    {
     "name": "stdout",
     "output_type": "stream",
     "text": [
      "Wall time: 2.66 s\n"
     ]
    }
   ],
   "source": [
    "%%time\n",
    "train = pd.read_csv(PATH + 'train.csv')\n",
    "test = pd.read_csv(PATH + 'Track 1/test.csv')\n",
    "submission = pd.read_csv(PATH + 'Track 1/submission.csv')"
   ]
  },
  {
   "cell_type": "markdown",
   "metadata": {},
   "source": [
    "### LB Score Calc"
   ]
  },
  {
   "cell_type": "markdown",
   "metadata": {},
   "source": [
    "Для подсчета скора просто используйте функцию getLBScore"
   ]
  },
  {
   "cell_type": "code",
   "execution_count": 6,
   "metadata": {},
   "outputs": [],
   "source": [
    "def smape(satellite_predicted_values, satellite_true_values): \n",
    "    # the division, addition and subtraction are pointwise \n",
    "    return np.mean(np.abs(satellite_predicted_values - satellite_true_values) / (np.abs(satellite_predicted_values) + np.abs(satellite_true_values)))"
   ]
  },
  {
   "cell_type": "markdown",
   "metadata": {},
   "source": [
    "### Model training"
   ]
  },
  {
   "cell_type": "code",
   "execution_count": 7,
   "metadata": {},
   "outputs": [],
   "source": [
    "training_columns = ['epoch', 'sat_id', 'x_sim', 'y_sim', 'z_sim', 'Vx_sim', 'Vy_sim', 'Vz_sim']\n",
    "prediction_columns = ['x','y','z','Vx', 'Vy', 'Vz']\n",
    "X = train.loc[:, training_columns]\n",
    "y = train.loc[:, prediction_columns]\n",
    "Xtest = test.loc[:, training_columns]"
   ]
  },
  {
   "cell_type": "code",
   "execution_count": 8,
   "metadata": {},
   "outputs": [],
   "source": [
    "X.drop(columns = 'epoch', inplace = True)\n",
    "Xtest.drop(columns = 'epoch', inplace = True)"
   ]
  },
  {
   "cell_type": "code",
   "execution_count": 9,
   "metadata": {},
   "outputs": [],
   "source": [
    "X['r'] = np.sqrt(X.x_sim**2 + X.y_sim**2 + X.z_sim**2)\n",
    "Xtest['r'] = np.sqrt(Xtest.x_sim**2 + Xtest.y_sim**2 + Xtest.z_sim**2)\n",
    "\n",
    "X['phi'] = np.arctan(X.y_sim/X.x_sim)\n",
    "Xtest['phi'] = np.arctan(Xtest.y_sim/Xtest.x_sim)\n",
    "\n",
    "X['theta'] = np.arccos(X.z_sim/X.r)\n",
    "Xtest['theta'] = np.arccos(Xtest.z_sim/Xtest.r)\n",
    "\n",
    "\n",
    "\n",
    "X['Vr'] = np.sqrt(X.Vx_sim**2 + X.Vy_sim**2 + X.Vz_sim**2)\n",
    "Xtest['Vr'] = np.sqrt(Xtest.Vx_sim**2 + Xtest.Vy_sim**2 + Xtest.Vz_sim**2)\n",
    "\n",
    "X['Vphi'] = np.arctan(X.Vy_sim/X.Vx_sim)\n",
    "Xtest['Vphi'] = np.arctan(Xtest.Vy_sim/Xtest.Vx_sim)\n",
    "\n",
    "X['Vtheta'] = np.arccos(X.Vz_sim/X.Vr)\n",
    "Xtest['Vtheta'] = np.arccos(Xtest.Vz_sim/Xtest.Vr)"
   ]
  },
  {
   "cell_type": "code",
   "execution_count": 12,
   "metadata": {},
   "outputs": [
    {
     "name": "stdout",
     "output_type": "stream",
     "text": [
      "Train 0 Final 90.14433754240368\n",
      "Train 1 Final 90.77155927097695\n",
      "Train 2 Final 91.50097436120782\n",
      "Train 3 Final 92.36637486737831\n",
      "Mean fold LB score 91.1958115104917\n"
     ]
    },
    {
     "data": {
      "text/plain": [
       "<matplotlib.axes._subplots.AxesSubplot at 0x9f86f88780>"
      ]
     },
     "execution_count": 12,
     "metadata": {},
     "output_type": "execute_result"
    },
    {
     "data": {
      "image/png": "[encoded data removed]",
      "text/plain": [
       "<Figure size 432x288 with 1 Axes>"
      ]
     },
     "metadata": {
      "needs_background": "light"
     },
     "output_type": "display_data"
    }
   ],
   "source": [
    "from sklearn.linear_model import LinearRegression, Ridge\n",
    "from sklearn.preprocessing import StandardScaler\n",
    "model = Ridge()\n",
    "scores = []\n",
    "shift = 0.1\n",
    "trainSize = 0.6\n",
    "mult = 2\n",
    "sc = StandardScaler()\n",
    "times = np.arange(0, 1-(mult-1)*trainSize, shift)\n",
    "for sz,_ in enumerate(times):\n",
    "    submissionValid = train.copy()[['id', 'sat_id', 'x', 'y', 'z', 'Vx', 'Vy', 'Vz']]\n",
    "    smp = []\n",
    "    SMP = []\n",
    "    nTargets = 6\n",
    "    for sat_id in X['sat_id'].unique():\n",
    "        if sat_id >= 0:\n",
    "            smp = []\n",
    "            satX = X[X['sat_id'] == sat_id]\n",
    "            satX = pd.concat([satX, satX.shift(1).fillna(0),\n",
    "                             satX.shift(2).fillna(0),\n",
    "                             satX.shift(3).fillna(0),\n",
    "                             satX.shift(4).fillna(0)], axis = 1)\n",
    "            satY = y[X['sat_id'] == sat_id]\n",
    "            start = int(sz*(satX.shape[0] * shift))\n",
    "            size = int(satX.shape[0] * trainSize)\n",
    "            Xtr, Xval = satX.iloc[start:start+size, :], satX.iloc[start+size:, :]\n",
    "            ytr, yval = satY.iloc[start:start+size, :], satY.iloc[start+size:, :]\n",
    "            for i in range(nTargets):\n",
    "                model.fit(Xtr, ytr.iloc[:, i])\n",
    "                ypred = model.predict(Xval)\n",
    "                smp.append(smape(ypred, yval.iloc[:, i]))\n",
    "                SMP.append(smape(ypred, yval.iloc[:, i]))\n",
    "    print(f'Train {sz} Final', 100*(1- np.mean(SMP)))\n",
    "    scores.append(100*(1- np.mean(SMP)))\n",
    "print(f'Mean fold LB score {np.mean(scores)}')\n",
    "pd.Series(scores).plot()"
   ]
  },
  {
   "cell_type": "code",
   "execution_count": 141,
   "metadata": {},
   "outputs": [
    {
     "name": "stderr",
     "output_type": "stream",
     "text": [
      "100%|████████████████████████████████████████████████████████████████████████████████████████████████████████████████████████████████████████████████████████████████████████████████████████████████████████| 300/300 [00:14<00:00, 18.01it/s]\n"
     ]
    }
   ],
   "source": [
    "from sklearn.linear_model import LinearRegression, Lasso, Ridge\n",
    "from sklearn.ensemble import AdaBoostRegressor\n",
    "model = LinearRegression()\n",
    "nTargets = 6\n",
    "for sat_id in tqdm(Xtest['sat_id'].unique()):\n",
    "    satX = X[X['sat_id'] == sat_id].drop(columns = ['sat_id'])\n",
    "    satX = pd.concat([satX, satX.shift(1).fillna(0), \n",
    "                  satX.shift(2).fillna(0), satX.shift(3).fillna(0),\n",
    "                 satX.shift(4).fillna(0),\n",
    "                     satX.shift(5).fillna(0),\n",
    "                     satX.shift(6).fillna(0)], axis = 1)\n",
    "    satY = y[X['sat_id'] == sat_id]\n",
    "    satXtest = Xtest[Xtest['sat_id'] == sat_id].drop(columns = ['sat_id'])\n",
    "    satXtest = pd.concat([satXtest, satXtest.shift(1).fillna(0),satXtest.shift(2).fillna(0), satXtest.shift(3).fillna(0),\n",
    "                         satXtest.shift(4).fillna(0),\n",
    "                         satXtest.shift(5).fillna(0),\n",
    "                         satXtest.shift(6).fillna(0)], axis = 1)\n",
    "    \n",
    "    for i in range(nTargets):\n",
    "        model.fit(satX, satY.iloc[:, i])\n",
    "        ypred = model.predict(satXtest)\n",
    "        submission.loc[satXtest.index, submission.columns[i+1]] = ypred"
   ]
  },
  {
   "cell_type": "code",
   "execution_count": 143,
   "metadata": {},
   "outputs": [],
   "source": [
    "submission.to_csv('submission.csv', index = None)"
   ]
  },
  {
   "cell_type": "code",
   "execution_count": null,
   "metadata": {},
   "outputs": [],
   "source": []
  }
 ],
 "metadata": {
  "kernelspec": {
   "display_name": "Python 3",
   "language": "python",
   "name": "python3"
  },
  "language_info": {
   "codemirror_mode": {
    "name": "ipython",
    "version": 3
   },
   "file_extension": ".py",
   "mimetype": "text/x-python",
   "name": "python",
   "nbconvert_exporter": "python",
   "pygments_lexer": "ipython3",
   "version": "3.6.6"
  }
 },
 "nbformat": 4,
 "nbformat_minor": 2
}
