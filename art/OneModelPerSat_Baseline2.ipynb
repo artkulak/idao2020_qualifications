{
 "cells": [
  {
   "cell_type": "code",
   "execution_count": 1,
   "metadata": {},
   "outputs": [],
   "source": [
    "import pandas as pd\n",
    "import numpy as np\n",
    "import matplotlib.pyplot as plt\n",
    "from mpl_toolkits import mplot3d\n",
    "import seaborn as sns\n",
    "import gc\n",
    "from tqdm import tqdm\n",
    "\n",
    "%matplotlib inline\n",
    "\n",
    "PATH = '../'"
   ]
  },
  {
   "cell_type": "code",
   "execution_count": 2,
   "metadata": {},
   "outputs": [
    {
     "name": "stdout",
     "output_type": "stream",
     "text": [
      "Wall time: 2.56 s\n"
     ]
    }
   ],
   "source": [
    "%%time\n",
    "train = pd.read_csv(PATH + 'train.csv')\n",
    "test = pd.read_csv(PATH + 'Track 1/test.csv')\n",
    "submission = pd.read_csv(PATH + 'Track 1/submission.csv')"
   ]
  },
  {
   "cell_type": "markdown",
   "metadata": {},
   "source": [
    "### LB Score Calc"
   ]
  },
  {
   "cell_type": "markdown",
   "metadata": {},
   "source": [
    "Для подсчета скора просто используйте функцию getLBScore"
   ]
  },
  {
   "cell_type": "code",
   "execution_count": 3,
   "metadata": {},
   "outputs": [],
   "source": [
    "def smape(satellite_predicted_values, satellite_true_values): \n",
    "    # the division, addition and subtraction are pointwise \n",
    "    return np.mean(np.abs(satellite_predicted_values - satellite_true_values) / (np.abs(satellite_predicted_values) + np.abs(satellite_true_values)))"
   ]
  },
  {
   "cell_type": "markdown",
   "metadata": {},
   "source": [
    "### Model training"
   ]
  },
  {
   "cell_type": "code",
   "execution_count": 4,
   "metadata": {},
   "outputs": [],
   "source": [
    "training_columns = ['epoch', 'sat_id', 'x_sim', 'y_sim', 'z_sim', 'Vx_sim', 'Vy_sim', 'Vz_sim']\n",
    "prediction_columns = ['x','y','z','Vx', 'Vy', 'Vz']\n",
    "X = train.loc[:, training_columns]\n",
    "y = train.loc[:, prediction_columns]\n",
    "Xtest = test.loc[:, training_columns]"
   ]
  },
  {
   "cell_type": "code",
   "execution_count": 5,
   "metadata": {},
   "outputs": [],
   "source": [
    "def extractTimeFeats(data):\n",
    "    timeFeats = data['epoch'].apply(lambda x: str(x).split('T')[1].split('.')[0].split(':')).values\n",
    "    h,m,s = [],[],[]\n",
    "    for feat in timeFeats:\n",
    "        h.append(feat[0]); m.append(feat[1]); s.append(feat[2])\n",
    "    return h,m,s"
   ]
  },
  {
   "cell_type": "code",
   "execution_count": 6,
   "metadata": {},
   "outputs": [],
   "source": [
    "h,m,s = extractTimeFeats(X)\n",
    "X.loc[:, 'h'] = list(map(int, h)); X.loc[:, 'm'] = list(map(int, m)); X.loc[:, 's'] =list(map(int, s))\n",
    "X.drop(columns = 'epoch', inplace = True)\n",
    "\n",
    "h,m,s = extractTimeFeats(Xtest)\n",
    "Xtest.loc[:, 'h'] = list(map(int, h)); Xtest.loc[:, 'm'] = list(map(int, m)); Xtest.loc[:, 's'] = list(map(int, s))\n",
    "Xtest.drop(columns = 'epoch', inplace = True)"
   ]
  },
  {
   "cell_type": "code",
   "execution_count": 7,
   "metadata": {},
   "outputs": [
    {
     "name": "stderr",
     "output_type": "stream",
     "text": [
      "  0%|                                                                                                                                                                                                                  | 0/300 [00:00<?, ?it/s]C:\\Anaconda3\\lib\\site-packages\\sklearn\\ensemble\\forest.py:246: FutureWarning: The default value of n_estimators will change from 10 in version 0.20 to 100 in 0.22.\n",
      "  \"10 in version 0.20 to 100 in 0.22.\", FutureWarning)\n",
      "100%|████████████████████████████████████████████████████████████████████████████████████████████████████████████████████████████████████████████████████████████████████████████████████████████████████████| 300/300 [25:02<00:00,  5.73s/it]\n"
     ]
    },
    {
     "name": "stdout",
     "output_type": "stream",
     "text": [
      "Final 89.88288330467032\n"
     ]
    }
   ],
   "source": [
    "from sklearn.linear_model import LinearRegression, Lasso, Ridge\n",
    "from sklearn.svm import SVR\n",
    "from sklearn.ensemble import RandomForestRegressor, ExtraTreesRegressor\n",
    "model = ExtraTreesRegressor(criterion='mae')\n",
    "trainSize = 0.8\n",
    "submissionValid = train.copy()[['id', 'sat_id', 'x', 'y', 'z', 'Vx', 'Vy', 'Vz']]\n",
    "smp = []\n",
    "SMP = []\n",
    "nTargets = 6\n",
    "for sat_id in tqdm(Xtest['sat_id'].unique()):\n",
    "    if sat_id >= 0:\n",
    "        smp = []\n",
    "        satX = X[X['sat_id'] == sat_id].drop(columns = ['sat_id'])\n",
    "        satX = pd.concat([satX, satX.shift(1).fillna(0), \n",
    "                          satX.shift(2).fillna(0), satX.shift(3).fillna(0),\n",
    "                         satX.shift(4).fillna(0)], axis = 1)\n",
    "        satY = y[X['sat_id'] == sat_id]\n",
    "\n",
    "        size = int(satX.shape[0] * trainSize)\n",
    "        Xtr, Xval = satX.iloc[:size, :], satX.iloc[size:, :]\n",
    "        ytr, yval = satY.iloc[:size, :], satY.iloc[size:, :]\n",
    "        for i in range(nTargets):\n",
    "            model.fit(Xtr.values, ytr.iloc[:, i])\n",
    "            ypred = model.predict(Xval.values)\n",
    "            smp.append(smape(ypred, yval.iloc[:, i]))\n",
    "            SMP.append(smape(ypred, yval.iloc[:, i]))\n",
    "#         satDataTrain = train[train['sat_id'] == sat_id].loc[:, ['x', 'y', 'z']]\n",
    "#         satDataTrainSim = train[train['sat_id'] == sat_id].loc[:, ['x_sim', 'y_sim', 'z_sim']].shift(1).fillna(0)\n",
    "#         plt.figure(figsize = (10,5))\n",
    "#         plt.title(f'Спутник {sat_id}, SCORE: {100*(1- np.mean(smp))}')\n",
    "#         plt.plot(np.linalg.norm(satDataTrain.values - satDataTrainSim.values, axis = 1))\n",
    "#         plt.show()\n",
    "print('Final', 100*(1- np.mean(SMP)))"
   ]
  },
  {
   "cell_type": "code",
   "execution_count": 8,
   "metadata": {},
   "outputs": [],
   "source": [
    "submission.to_csv('submission.csv', index = None)\n"
   ]
  },
  {
   "cell_type": "code",
   "execution_count": null,
   "metadata": {},
   "outputs": [],
   "source": []
  },
  {
   "cell_type": "code",
   "execution_count": null,
   "metadata": {},
   "outputs": [],
   "source": []
  },
  {
   "cell_type": "code",
   "execution_count": null,
   "metadata": {},
   "outputs": [],
   "source": [
    "# ids = []\n",
    "# for sat_id in X['sat_id'].unique():\n",
    "#     if sat_id not in Xtest['sat_id'].unique():\n",
    "#         ids.append(sat_id)"
   ]
  },
  {
   "cell_type": "code",
   "execution_count": 26,
   "metadata": {},
   "outputs": [
    {
     "name": "stderr",
     "output_type": "stream",
     "text": [
      "100%|████████████████████████████████████████████████████████████████████████████████████████████████████████████████████████████████████████████████████████████████████████████████████████████████████████| 300/300 [00:07<00:00, 39.11it/s]\n"
     ]
    }
   ],
   "source": [
    "# from sklearn.linear_model import LinearRegression, Lasso, Ridge\n",
    "# from sklearn.ensemble import AdaBoostRegressor\n",
    "# import pickle\n",
    "# model = LinearRegression()\n",
    "# nTargets = 6\n",
    "# for sat_id in tqdm(ids):\n",
    "#     satX = X[X['sat_id'] == sat_id].drop(columns = ['sat_id'])\n",
    "#     satX = pd.concat([satX, satX.shift(1).fillna(0), \n",
    "#                           satX.shift(2).fillna(0), satX.shift(3).fillna(0),\n",
    "#                          satX.shift(4).fillna(0)], axis = 1)\n",
    "#     satY = y[X['sat_id'] == sat_id]\n",
    "# #     satXtest = Xtest[Xtest['sat_id'] == sat_id].drop(columns = ['sat_id'])\n",
    "# #     satXtest = pd.concat([satXtest, satXtest.iloc[:, 1:].shift(1).fillna(0),satXtest.iloc[:, 1:].shift(2).fillna(0), satXtest.iloc[:, 1:].shift(3).fillna(0),\n",
    "# #                          satXtest.iloc[:, 1:].shift(4).fillna(0)], axis = 1)\n",
    "    \n",
    "#     for i in range(nTargets):\n",
    "#         model.fit(satX, satY.iloc[:, i])\n",
    "#         modelWeights = f'models/model_{sat_id}_{i}.pkl'  \n",
    "\n",
    "#         with open(modelWeights, 'wb') as file:  \n",
    "#             pickle.dump(model, file)\n",
    "# #         ypred = model.predict(satXtest)\n",
    "# #         submission.loc[satXtest.index, submission.columns[i+1]] = ypred"
   ]
  },
  {
   "cell_type": "code",
   "execution_count": null,
   "metadata": {},
   "outputs": [],
   "source": []
  },
  {
   "cell_type": "code",
   "execution_count": 9,
   "metadata": {},
   "outputs": [],
   "source": [
    "# submission.to_csv('submission.csv', index = None)"
   ]
  },
  {
   "cell_type": "code",
   "execution_count": null,
   "metadata": {},
   "outputs": [],
   "source": []
  }
 ],
 "metadata": {
  "kernelspec": {
   "display_name": "Python 3",
   "language": "python",
   "name": "python3"
  },
  "language_info": {
   "codemirror_mode": {
    "name": "ipython",
    "version": 3
   },
   "file_extension": ".py",
   "mimetype": "text/x-python",
   "name": "python",
   "nbconvert_exporter": "python",
   "pygments_lexer": "ipython3",
   "version": "3.6.6"
  }
 },
 "nbformat": 4,
 "nbformat_minor": 2
}
