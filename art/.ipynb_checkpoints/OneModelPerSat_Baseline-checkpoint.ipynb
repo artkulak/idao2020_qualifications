{
 "cells": [
  {
   "cell_type": "code",
   "execution_count": 1,
   "metadata": {},
   "outputs": [],
   "source": [
    "import pandas as pd\n",
    "import numpy as np\n",
    "import matplotlib.pyplot as plt\n",
    "from mpl_toolkits import mplot3d\n",
    "import seaborn as sns\n",
    "import gc\n",
    "from tqdm import tqdm\n",
    "\n",
    "%matplotlib inline\n",
    "\n",
    "PATH = '../'"
   ]
  },
  {
   "cell_type": "code",
   "execution_count": 2,
   "metadata": {},
   "outputs": [
    {
     "name": "stdout",
     "output_type": "stream",
     "text": [
      "Wall time: 2.59 s\n"
     ]
    }
   ],
   "source": [
    "%%time\n",
    "train = pd.read_csv(PATH + 'train.csv')\n",
    "test = pd.read_csv(PATH + 'Track 1/test.csv')\n",
    "submission = pd.read_csv(PATH + 'Track 1/submission.csv')"
   ]
  },
  {
   "cell_type": "markdown",
   "metadata": {},
   "source": [
    "### LB Score Calc"
   ]
  },
  {
   "cell_type": "markdown",
   "metadata": {},
   "source": [
    "Для подсчета скора просто используйте функцию getLBScore"
   ]
  },
  {
   "cell_type": "code",
   "execution_count": 3,
   "metadata": {},
   "outputs": [],
   "source": [
    "def smape(satellite_predicted_values, satellite_true_values): \n",
    "    # the division, addition and subtraction are pointwise \n",
    "    return np.mean(np.abs(satellite_predicted_values - satellite_true_values) / (np.abs(satellite_predicted_values) + np.abs(satellite_true_values)))"
   ]
  },
  {
   "cell_type": "markdown",
   "metadata": {},
   "source": [
    "### Model training"
   ]
  },
  {
   "cell_type": "code",
   "execution_count": 4,
   "metadata": {},
   "outputs": [],
   "source": [
    "training_columns = ['epoch', 'sat_id', 'x_sim', 'y_sim', 'z_sim', 'Vx_sim', 'Vy_sim', 'Vz_sim']\n",
    "prediction_columns = ['x','y','z','Vx', 'Vy', 'Vz']\n",
    "X = train.loc[:, training_columns]\n",
    "y = train.loc[:, prediction_columns]\n",
    "Xtest = test.loc[:, training_columns]"
   ]
  },
  {
   "cell_type": "code",
   "execution_count": 5,
   "metadata": {},
   "outputs": [],
   "source": [
    "def extractTimeFeats(data):\n",
    "    timeFeats = data['epoch'].apply(lambda x: str(x).split('T')[1].split('.')[0].split(':')).values\n",
    "    h,m,s = [],[],[]\n",
    "    for feat in timeFeats:\n",
    "        h.append(feat[0]); m.append(feat[1]); s.append(feat[2])\n",
    "    return h,m,s"
   ]
  },
  {
   "cell_type": "code",
   "execution_count": 7,
   "metadata": {},
   "outputs": [],
   "source": [
    "h,m,s = extractTimeFeats(X)\n",
    "X.loc[:, 'h'] = list(map(int, h)); X.loc[:, 'm'] = list(map(int, m)); X.loc[:, 's'] =list(map(int, s))\n",
    "X.drop(columns = 'epoch', inplace = True)\n",
    "\n",
    "h,m,s = extractTimeFeats(Xtest)\n",
    "Xtest.loc[:, 'h'] = list(map(int, h)); Xtest.loc[:, 'm'] = list(map(int, m)); Xtest.loc[:, 's'] = list(map(int, s))\n",
    "Xtest.drop(columns = 'epoch', inplace = True)"
   ]
  },
  {
   "cell_type": "code",
   "execution_count": 9,
   "metadata": {},
   "outputs": [],
   "source": [
    "shiftedSat = [1,\n",
    " 2,\n",
    " 3,\n",
    " 4,\n",
    " 25,\n",
    " 27,\n",
    " 32,\n",
    " 38,\n",
    " 41,\n",
    " 45,\n",
    " 59,\n",
    " 63,\n",
    " 84,\n",
    " 86,\n",
    " 92,\n",
    " 98,\n",
    " 100,\n",
    " 101,\n",
    " 109,\n",
    " 112,\n",
    " 118,\n",
    " 123,\n",
    " 124,\n",
    " 125,\n",
    " 126,\n",
    " 133,\n",
    " 135,\n",
    " 149,\n",
    " 151,\n",
    " 155,\n",
    " 173,\n",
    " 177,\n",
    " 186,\n",
    " 188,\n",
    " 195,\n",
    " 208,\n",
    " 213,\n",
    " 223,\n",
    " 230,\n",
    " 236,\n",
    " 241,\n",
    " 242,\n",
    " 243,\n",
    " 247,\n",
    " 248,\n",
    " 251,\n",
    " 264,\n",
    " 270,\n",
    " 278,\n",
    " 348,\n",
    " 363,\n",
    " 375,\n",
    " 380,\n",
    " 382,\n",
    " 385,\n",
    " 390,\n",
    " 392,\n",
    " 407,\n",
    " 409,\n",
    " 415,\n",
    " 416,\n",
    " 418,\n",
    " 422,\n",
    " 437,\n",
    " 440,\n",
    " 450,\n",
    " 468,\n",
    " 476,\n",
    " 477,\n",
    " 480,\n",
    " 483,\n",
    " 495,\n",
    " 502,\n",
    " 505,\n",
    " 508,\n",
    " 536,\n",
    " 539,\n",
    " 542,\n",
    " 549,\n",
    " 558,\n",
    " 565,\n",
    " 575,\n",
    " 580,\n",
    " 595,\n",
    " 596,\n",
    " 597]"
   ]
  },
  {
   "cell_type": "code",
   "execution_count": null,
   "metadata": {},
   "outputs": [],
   "source": [
    "for sat_id in train['sat_id'].unique():\n",
    "    if sat_id in shiftedSat:\n",
    "        satData = train[train['sat_id'] == sat_id]\n",
    "        satDataShifted = satData.shift(1).fillna(0)\n",
    "        satData.iloc[int(0.3 * satData.shape[0]):, 9:] = satDataShifted.iloc[int(0.3 * satData.shape[0]):, 9:].values # 0.5\n",
    "        train.iloc[satData.index, :] = satData.values\n",
    "        train.iloc[:, 3:9] = train.iloc[:, 9:].values\n",
    "        \n",
    "        satData = test[test['sat_id'] == sat_id]\n",
    "        satDataShifted = satData.shift(1).fillna(0)\n",
    "        satData.iloc[:, 3:] = satDataShifted.iloc[:, 3:].values\n",
    "        test.iloc[satData.index, :] = satData.values\n",
    "        \n",
    "        getLBScore(train, trainSym)"
   ]
  },
  {
   "cell_type": "code",
   "execution_count": 8,
   "metadata": {},
   "outputs": [
    {
     "name": "stdout",
     "output_type": "stream",
     "text": [
      "87.38226470790552\n"
     ]
    }
   ],
   "source": [
    "from sklearn.linear_model import LinearRegression, Lasso, Ridge\n",
    "from sklearn.ensemble import RandomForestRegressor\n",
    "model = LinearRegression()\n",
    "trainSize = 0.8\n",
    "submissionValid = train.copy()[['id', 'sat_id', 'x', 'y', 'z', 'Vx', 'Vy', 'Vz']]\n",
    "smp = 0\n",
    "nSmapes = 6 * 300\n",
    "nTargets = 6\n",
    "for sat_id in Xtest['sat_id'].unique():\n",
    "    satX = X[X['sat_id'] == sat_id]\n",
    "    satY = y[X['sat_id'] == sat_id]\n",
    "    satXtest = Xtest[Xtest['sat_id'] == sat_id]\n",
    "    \n",
    "    size = int(satX.shape[0] * trainSize)\n",
    "    Xtr, Xval = satX.iloc[:size, :], satX.iloc[size:, :]\n",
    "    ytr, yval = satY.iloc[:size, :], satY.iloc[size:, :]\n",
    "    for i in range(nTargets):\n",
    "        model.fit(Xtr, ytr.iloc[:, i])\n",
    "        ypred = model.predict(Xval)\n",
    "        smp+=smape(ypred, yval.iloc[:, i])/nSmapes\n",
    "print(100*(1- smp))"
   ]
  },
  {
   "cell_type": "code",
   "execution_count": 44,
   "metadata": {},
   "outputs": [
    {
     "name": "stderr",
     "output_type": "stream",
     "text": [
      "  0%|                                                                                                                                                                                                                  | 0/300 [00:00<?, ?it/s]C:\\Anaconda3\\lib\\site-packages\\sklearn\\ensemble\\forest.py:246: FutureWarning: The default value of n_estimators will change from 10 in version 0.20 to 100 in 0.22.\n",
      "  \"10 in version 0.20 to 100 in 0.22.\", FutureWarning)\n",
      "100%|████████████████████████████████████████████████████████████████████████████████████████████████████████████████████████████████████████████████████████████████████████████████████████████████████████| 300/300 [01:12<00:00,  4.03it/s]\n"
     ]
    }
   ],
   "source": [
    "from sklearn.linear_model import LinearRegression, Lasso, Ridge\n",
    "from sklearn.ensemble import RandomForestRegressor\n",
    "model = RandomForestRegressor()\n",
    "nTargets = 6\n",
    "for sat_id in tqdm(Xtest['sat_id'].unique()):\n",
    "    satX = X[X['sat_id'] == sat_id].drop(columns = ['sat_id'])\n",
    "    satY = y[X['sat_id'] == sat_id]\n",
    "    satXtest = Xtest[Xtest['sat_id'] == sat_id].drop(columns = ['sat_id'])\n",
    "    \n",
    "    for i in range(nTargets):\n",
    "        model.fit(satX, satY.iloc[:, i])\n",
    "        ypred = model.predict(satXtest)\n",
    "        submission.loc[satXtest.index, submission.columns[i+1]] = ypred"
   ]
  },
  {
   "cell_type": "code",
   "execution_count": 46,
   "metadata": {},
   "outputs": [],
   "source": [
    "submission.to_csv('submission.csv', index = None)"
   ]
  },
  {
   "cell_type": "code",
   "execution_count": null,
   "metadata": {},
   "outputs": [],
   "source": []
  }
 ],
 "metadata": {
  "kernelspec": {
   "display_name": "Python 3",
   "language": "python",
   "name": "python3"
  },
  "language_info": {
   "codemirror_mode": {
    "name": "ipython",
    "version": 3
   },
   "file_extension": ".py",
   "mimetype": "text/x-python",
   "name": "python",
   "nbconvert_exporter": "python",
   "pygments_lexer": "ipython3",
   "version": "3.6.6"
  }
 },
 "nbformat": 4,
 "nbformat_minor": 2
}
