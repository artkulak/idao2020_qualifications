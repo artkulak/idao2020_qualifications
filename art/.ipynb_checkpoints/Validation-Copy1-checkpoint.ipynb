{
 "cells": [
  {
   "cell_type": "code",
   "execution_count": 1,
   "metadata": {},
   "outputs": [],
   "source": [
    "import pandas as pd\n",
    "import numpy as np\n",
    "import matplotlib.pyplot as plt\n",
    "from mpl_toolkits import mplot3d\n",
    "import seaborn as sns\n",
    "import gc\n",
    "from tqdm import tqdm\n",
    "from warnings import filterwarnings\n",
    "filterwarnings('ignore')\n",
    "\n",
    "%matplotlib inline\n",
    "\n",
    "PATH = '../'\n",
    "RND_SEED = 44"
   ]
  },
  {
   "cell_type": "code",
   "execution_count": 2,
   "metadata": {},
   "outputs": [
    {
     "name": "stdout",
     "output_type": "stream",
     "text": [
      "Wall time: 2.54 s\n"
     ]
    }
   ],
   "source": [
    "%%time\n",
    "train = pd.read_csv(PATH + 'train.csv')\n",
    "test = pd.read_csv(PATH + 'Track 1/test.csv')\n",
    "submission = pd.read_csv(PATH + 'Track 1/submission.csv')"
   ]
  },
  {
   "cell_type": "markdown",
   "metadata": {},
   "source": [
    "### LB Score Calc"
   ]
  },
  {
   "cell_type": "markdown",
   "metadata": {},
   "source": [
    "Для подсчета скора просто используйте функцию getLBScore"
   ]
  },
  {
   "cell_type": "code",
   "execution_count": 3,
   "metadata": {},
   "outputs": [],
   "source": [
    "def smape(satellite_predicted_values, satellite_true_values): \n",
    "    # the division, addition and subtraction are pointwise \n",
    "    return np.mean(np.abs(satellite_predicted_values - satellite_true_values) / (np.abs(satellite_predicted_values) + np.abs(satellite_true_values)))"
   ]
  },
  {
   "cell_type": "markdown",
   "metadata": {},
   "source": [
    "### Model training"
   ]
  },
  {
   "cell_type": "code",
   "execution_count": 4,
   "metadata": {},
   "outputs": [],
   "source": [
    "training_columns = ['epoch', 'sat_id', 'x_sim', 'y_sim', 'z_sim', 'Vx_sim', 'Vy_sim', 'Vz_sim']\n",
    "prediction_columns = ['x','y','z','Vx', 'Vy', 'Vz']\n",
    "X = train.loc[:, training_columns]\n",
    "y = train.loc[:, prediction_columns]\n",
    "Xtest = test.loc[:, training_columns]"
   ]
  },
  {
   "cell_type": "code",
   "execution_count": 5,
   "metadata": {},
   "outputs": [],
   "source": [
    "X.drop(columns = 'epoch', inplace = True)\n",
    "Xtest.drop(columns = 'epoch', inplace = True)"
   ]
  },
  {
   "cell_type": "code",
   "execution_count": 6,
   "metadata": {},
   "outputs": [],
   "source": [
    "linearSat = [6,\n",
    " 9,\n",
    " 24,\n",
    " 26,\n",
    " 28,\n",
    " 29,\n",
    " 34,\n",
    " 35,\n",
    " 36,\n",
    " 39,\n",
    " 40,\n",
    " 42,\n",
    " 44,\n",
    " 49,\n",
    " 51,\n",
    " 53,\n",
    " 54,\n",
    " 57,\n",
    " 64,\n",
    " 68,\n",
    " 75,\n",
    " 91,\n",
    " 93,\n",
    " 102,\n",
    " 106,\n",
    " 113,\n",
    " 114,\n",
    " 121,\n",
    " 128,\n",
    " 130,\n",
    " 132,\n",
    " 135,\n",
    " 138,\n",
    " 142,\n",
    " 143,\n",
    " 144,\n",
    " 145,\n",
    " 152,\n",
    " 156,\n",
    " 158,\n",
    " 159,\n",
    " 160,\n",
    " 162,\n",
    " 165,\n",
    " 170,\n",
    " 172,\n",
    " 183,\n",
    " 187,\n",
    " 191,\n",
    " 193,\n",
    " 203,\n",
    " 207,\n",
    " 210,\n",
    " 211,\n",
    " 220,\n",
    " 225,\n",
    " 227,\n",
    " 229,\n",
    " 233,\n",
    " 239,\n",
    " 240,\n",
    " 245,\n",
    " 253,\n",
    " 254,\n",
    " 261,\n",
    " 263,\n",
    " 268,\n",
    " 277,\n",
    " 281,\n",
    " 284,\n",
    " 292,\n",
    " 293,\n",
    " 294,\n",
    " 298,\n",
    " 299,\n",
    " 306,\n",
    " 309,\n",
    " 310,\n",
    " 312,\n",
    " 314,\n",
    " 316,\n",
    " 319,\n",
    " 326,\n",
    " 332,\n",
    " 333,\n",
    " 342,\n",
    " 343,\n",
    " 344,\n",
    " 347,\n",
    " 356,\n",
    " 358,\n",
    " 362,\n",
    " 372,\n",
    " 373,\n",
    " 377,\n",
    " 384,\n",
    " 387,\n",
    " 389,\n",
    " 391,\n",
    " 393,\n",
    " 396,\n",
    " 399,\n",
    " 400,\n",
    " 411,\n",
    " 419,\n",
    " 423,\n",
    " 424,\n",
    " 426,\n",
    " 428,\n",
    " 435,\n",
    " 436,\n",
    " 443,\n",
    " 446,\n",
    " 448,\n",
    " 456,\n",
    " 460,\n",
    " 462,\n",
    " 465,\n",
    " 467,\n",
    " 471,\n",
    " 474,\n",
    " 479,\n",
    " 488,\n",
    " 489,\n",
    " 499,\n",
    " 510,\n",
    " 516,\n",
    " 517,\n",
    " 519,\n",
    " 522,\n",
    " 528,\n",
    " 543,\n",
    " 544,\n",
    " 547,\n",
    " 566,\n",
    " 572,\n",
    " 578,\n",
    " 579,\n",
    " 583,\n",
    " 593]"
   ]
  },
  {
   "cell_type": "code",
   "execution_count": 7,
   "metadata": {},
   "outputs": [
    {
     "name": "stderr",
     "output_type": "stream",
     "text": [
      "100%|████████████████████████████████████████████████████████████████████████████████████████████████████████████████████████████████████████████████████████████████████████████████████████████████████████| 600/600 [01:27<00:00,  6.86it/s]\n"
     ]
    },
    {
     "name": "stdout",
     "output_type": "stream",
     "text": [
      "Train 0 Final 94.61271262015381\n"
     ]
    },
    {
     "name": "stderr",
     "output_type": "stream",
     "text": [
      "100%|████████████████████████████████████████████████████████████████████████████████████████████████████████████████████████████████████████████████████████████████████████████████████████████████████████| 600/600 [01:25<00:00,  9.54it/s]\n"
     ]
    },
    {
     "name": "stdout",
     "output_type": "stream",
     "text": [
      "Train 1 Final 95.4136308726956\n"
     ]
    },
    {
     "name": "stderr",
     "output_type": "stream",
     "text": [
      "100%|████████████████████████████████████████████████████████████████████████████████████████████████████████████████████████████████████████████████████████████████████████████████████████████████████████| 600/600 [01:26<00:00,  6.97it/s]\n"
     ]
    },
    {
     "name": "stdout",
     "output_type": "stream",
     "text": [
      "Train 2 Final 95.99512996598864\n"
     ]
    },
    {
     "name": "stderr",
     "output_type": "stream",
     "text": [
      "100%|████████████████████████████████████████████████████████████████████████████████████████████████████████████████████████████████████████████████████████████████████████████████████████████████████████| 600/600 [01:25<00:00,  6.98it/s]\n"
     ]
    },
    {
     "name": "stdout",
     "output_type": "stream",
     "text": [
      "Train 3 Final 97.3900132464183\n",
      "Mean fold LB score 95.8528716763141\n"
     ]
    },
    {
     "data": {
      "text/plain": [
       "<matplotlib.axes._subplots.AxesSubplot at 0xee05e9cd68>"
      ]
     },
     "execution_count": 7,
     "metadata": {},
     "output_type": "execute_result"
    },
    {
     "data": {
      "image/png": "[encoded data removed]",
      "text/plain": [
       "<Figure size 432x288 with 1 Axes>"
      ]
     },
     "metadata": {
      "needs_background": "light"
     },
     "output_type": "display_data"
    }
   ],
   "source": [
    "from sklearn.linear_model import LinearRegression\n",
    "from sklearn.preprocessing import StandardScaler\n",
    "from sklearn.cluster import KMeans\n",
    "model = LinearRegression()\n",
    "cluster = KMeans(n_clusters=24, tol = 1e-3, algorithm = 'elkan', random_state=RND_SEED)\n",
    "scores = []\n",
    "shift = 0.1\n",
    "trainSize = 0.6\n",
    "mult = 2\n",
    "times = np.arange(0, 1-(mult-1)*trainSize, shift)\n",
    "for sz,_ in enumerate(times):\n",
    "    submissionValid = train.copy()[['id', 'sat_id', 'x', 'y', 'z', 'Vx', 'Vy', 'Vz']]\n",
    "    smp = []\n",
    "    SMP = []\n",
    "    nTargets = 6\n",
    "    for sat_id in tqdm(X['sat_id'].unique()):\n",
    "        if sat_id not in linearSat:\n",
    "            smp = []\n",
    "            satX = X[X['sat_id'] == sat_id]\n",
    "            satY = y[X['sat_id'] == sat_id]\n",
    "            \n",
    "            start = int(sz*(satX.shape[0] * shift))\n",
    "            size = int(satX.shape[0] * trainSize)\n",
    "            Xtr, Xval = satX.iloc[start:start+size, :], satX.iloc[start+size:, :]\n",
    "            ytr, yval = satY.iloc[start:start+size, :], satY.iloc[start+size:, :]\n",
    "            for i in range(nTargets):\n",
    "                model.fit(Xtr, ytr.iloc[:, i])\n",
    "                ypred = model.predict(Xval)\n",
    "                smp.append(smape(ypred, yval.iloc[:, i]))\n",
    "                SMP.append(smape(ypred, yval.iloc[:, i]))\n",
    "        else:\n",
    "            satX = X[X['sat_id'] == sat_id].drop(columns = ['sat_id'])\n",
    "            satY = y[X['sat_id'] == sat_id]\n",
    "            satXtest = Xtest[Xtest['sat_id'] == sat_id].drop(columns = ['sat_id'])\n",
    "\n",
    "            start = int(sz*(satX.shape[0] * shift))\n",
    "            size = int(satX.shape[0] * trainSize)\n",
    "            Xtr, Xval = satX.iloc[start:start+size, :], satX.iloc[start+size:, :]\n",
    "            ytr, yval = satY.iloc[start:start+size, :], satY.iloc[start+size:, :]\n",
    "\n",
    "            labelsTrain = cluster.fit_predict(Xtr)\n",
    "            labelsTest = cluster.predict(Xval)\n",
    "            smp = []\n",
    "            for label in np.unique(labelsTest):\n",
    "                for i in range(nTargets):\n",
    "                    model.fit(Xtr[labelsTrain == label], ytr[labelsTrain == label].iloc[:, i])\n",
    "                    ypred = model.predict(Xval[labelsTest == label])\n",
    "                    smp.append(smape(ypred, yval[labelsTest == label].iloc[:, i]))\n",
    "                    SMP.append(smape(ypred, yval[labelsTest == label].iloc[:, i]))\n",
    "    print(f'Train {sz} Final', 100*(1- np.mean(SMP)))\n",
    "    scores.append(100*(1- np.mean(SMP)))\n",
    "print(f'Mean fold LB score {np.mean(scores)}')\n",
    "pd.Series(scores).plot()"
   ]
  },
  {
   "cell_type": "code",
   "execution_count": 141,
   "metadata": {},
   "outputs": [
    {
     "name": "stderr",
     "output_type": "stream",
     "text": [
      "100%|████████████████████████████████████████████████████████████████████████████████████████████████████████████████████████████████████████████████████████████████████████████████████████████████████████| 300/300 [00:14<00:00, 18.01it/s]\n"
     ]
    }
   ],
   "source": [
    "from sklearn.linear_model import LinearRegression, Lasso, Ridge\n",
    "from sklearn.ensemble import AdaBoostRegressor\n",
    "model = LinearRegression()\n",
    "nTargets = 6\n",
    "for sat_id in tqdm(Xtest['sat_id'].unique()):\n",
    "    satX = X[X['sat_id'] == sat_id].drop(columns = ['sat_id'])\n",
    "    satX = pd.concat([satX, satX.shift(1).fillna(0), \n",
    "                  satX.shift(2).fillna(0), satX.shift(3).fillna(0),\n",
    "                 satX.shift(4).fillna(0),\n",
    "                     satX.shift(5).fillna(0),\n",
    "                     satX.shift(6).fillna(0)], axis = 1)\n",
    "    satY = y[X['sat_id'] == sat_id]\n",
    "    satXtest = Xtest[Xtest['sat_id'] == sat_id].drop(columns = ['sat_id'])\n",
    "    satXtest = pd.concat([satXtest, satXtest.shift(1).fillna(0),satXtest.shift(2).fillna(0), satXtest.shift(3).fillna(0),\n",
    "                         satXtest.shift(4).fillna(0),\n",
    "                         satXtest.shift(5).fillna(0),\n",
    "                         satXtest.shift(6).fillna(0)], axis = 1)\n",
    "    \n",
    "    for i in range(nTargets):\n",
    "        model.fit(satX, satY.iloc[:, i])\n",
    "        ypred = model.predict(satXtest)\n",
    "        submission.loc[satXtest.index, submission.columns[i+1]] = ypred"
   ]
  },
  {
   "cell_type": "code",
   "execution_count": 143,
   "metadata": {},
   "outputs": [],
   "source": [
    "submission.to_csv('submission.csv', index = None)"
   ]
  },
  {
   "cell_type": "code",
   "execution_count": null,
   "metadata": {},
   "outputs": [],
   "source": []
  }
 ],
 "metadata": {
  "kernelspec": {
   "display_name": "Python 3",
   "language": "python",
   "name": "python3"
  },
  "language_info": {
   "codemirror_mode": {
    "name": "ipython",
    "version": 3
   },
   "file_extension": ".py",
   "mimetype": "text/x-python",
   "name": "python",
   "nbconvert_exporter": "python",
   "pygments_lexer": "ipython3",
   "version": "3.6.6"
  }
 },
 "nbformat": 4,
 "nbformat_minor": 2
}
