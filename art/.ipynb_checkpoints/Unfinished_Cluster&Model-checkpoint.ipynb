{
 "cells": [
  {
   "cell_type": "markdown",
   "metadata": {},
   "source": [
    "Еще незаконченная модель, с использованием знаний про кластеризацию у каждого спутника"
   ]
  },
  {
   "cell_type": "code",
   "execution_count": 1,
   "metadata": {},
   "outputs": [],
   "source": [
    "import pandas as pd\n",
    "import numpy as np\n",
    "import matplotlib.pyplot as plt\n",
    "from mpl_toolkits import mplot3d\n",
    "import seaborn as sns\n",
    "import gc\n",
    "from tqdm import tqdm\n",
    "\n",
    "%matplotlib inline\n",
    "\n",
    "PATH = '../'\n",
    "RND_SEED = 44 "
   ]
  },
  {
   "cell_type": "code",
   "execution_count": 2,
   "metadata": {},
   "outputs": [
    {
     "name": "stdout",
     "output_type": "stream",
     "text": [
      "Wall time: 2.61 s\n"
     ]
    }
   ],
   "source": [
    "%%time\n",
    "train = pd.read_csv(PATH + 'train.csv')\n",
    "test = pd.read_csv(PATH + 'Track 1/test.csv')\n",
    "submission = pd.read_csv(PATH + 'Track 1/submission.csv')"
   ]
  },
  {
   "cell_type": "markdown",
   "metadata": {},
   "source": [
    "### LB Score Calc"
   ]
  },
  {
   "cell_type": "markdown",
   "metadata": {},
   "source": [
    "Для подсчета скора просто используйте функцию getLBScore"
   ]
  },
  {
   "cell_type": "code",
   "execution_count": 3,
   "metadata": {},
   "outputs": [],
   "source": [
    "def smape(satellite_predicted_values, satellite_true_values): \n",
    "    # the division, addition and subtraction are pointwise \n",
    "    return np.mean(np.abs(satellite_predicted_values - satellite_true_values) / (np.abs(satellite_predicted_values) + np.abs(satellite_true_values)))"
   ]
  },
  {
   "cell_type": "markdown",
   "metadata": {},
   "source": [
    "### Model training"
   ]
  },
  {
   "cell_type": "code",
   "execution_count": 5,
   "metadata": {},
   "outputs": [],
   "source": [
    "training_columns = ['epoch', 'sat_id', 'x_sim', 'y_sim', 'z_sim', 'Vx_sim', 'Vy_sim', 'Vz_sim']\n",
    "prediction_columns = ['x','y','z','Vx', 'Vy', 'Vz']\n",
    "X = train.loc[:, training_columns]\n",
    "y = train.loc[:, prediction_columns]\n",
    "Xtest = test.loc[:, training_columns]"
   ]
  },
  {
   "cell_type": "code",
   "execution_count": 6,
   "metadata": {},
   "outputs": [],
   "source": [
    "def extractTimeFeats(data):\n",
    "    timeFeats = data['epoch'].apply(lambda x: str(x).split('T')[1].split('.')[0].split(':')).values\n",
    "    h,m,s = [],[],[]\n",
    "    for feat in timeFeats:\n",
    "        h.append(feat[0]); m.append(feat[1]); s.append(feat[2])\n",
    "    return h,m,s"
   ]
  },
  {
   "cell_type": "code",
   "execution_count": 7,
   "metadata": {},
   "outputs": [],
   "source": [
    "h,m,s = extractTimeFeats(X)\n",
    "X.loc[:, 'h'] = list(map(int, h)); X.loc[:, 'm'] = list(map(int, m)); X.loc[:, 's'] =list(map(int, s))\n",
    "X.drop(columns = 'epoch', inplace = True)\n",
    "\n",
    "h,m,s = extractTimeFeats(Xtest)\n",
    "Xtest.loc[:, 'h'] = list(map(int, h)); Xtest.loc[:, 'm'] = list(map(int, m)); Xtest.loc[:, 's'] = list(map(int, s))\n",
    "Xtest.drop(columns = 'epoch', inplace = True)"
   ]
  },
  {
   "cell_type": "code",
   "execution_count": 85,
   "metadata": {},
   "outputs": [
    {
     "name": "stdout",
     "output_type": "stream",
     "text": [
      "SatId: 1 SMAPE: 86.00557294311682\n",
      "SatId: 2 SMAPE: 71.80048003363014\n",
      "SatId: 3 SMAPE: 68.22473606469768\n",
      "SatId: 4 SMAPE: 53.04999885464908\n",
      "SatId: 25 SMAPE: 78.89855132835709\n",
      "SatId: 27 SMAPE: 80.1710414462372\n",
      "SatId: 32 SMAPE: 57.80861038673688\n",
      "SatId: 38 SMAPE: 70.58404410294284\n",
      "SatId: 41 SMAPE: 73.83814534500537\n",
      "SatId: 45 SMAPE: 55.970501509700846\n",
      "SatId: 59 SMAPE: 61.66538800664058\n",
      "SatId: 63 SMAPE: 55.11540920195495\n",
      "SatId: 84 SMAPE: 68.8024848336237\n",
      "SatId: 86 SMAPE: 93.78852715136836\n",
      "SatId: 92 SMAPE: 59.88347512720043\n",
      "SatId: 98 SMAPE: 58.18124308335387\n",
      "SatId: 100 SMAPE: 96.11524237286649\n",
      "SatId: 101 SMAPE: 64.7346857596134\n",
      "SatId: 109 SMAPE: 90.50812406280096\n",
      "SatId: 112 SMAPE: 67.51399324548693\n",
      "SatId: 118 SMAPE: 60.755848298496495\n",
      "SatId: 123 SMAPE: 62.51334187481867\n",
      "SatId: 124 SMAPE: 88.68558497971244\n",
      "SatId: 125 SMAPE: 70.74560491674383\n",
      "SatId: 126 SMAPE: 69.742750550588\n",
      "SatId: 133 SMAPE: 68.25995022255032\n",
      "SatId: 135 SMAPE: 99.87175553260126\n",
      "SatId: 149 SMAPE: 65.6002248802088\n",
      "SatId: 151 SMAPE: 63.362833876018556\n",
      "SatId: 155 SMAPE: 93.09640800174569\n",
      "SatId: 173 SMAPE: 72.99123752483015\n",
      "SatId: 177 SMAPE: 51.18911963692828\n",
      "SatId: 186 SMAPE: 51.626084998223234\n",
      "SatId: 188 SMAPE: 79.09004431862601\n",
      "SatId: 195 SMAPE: 64.76364612136163\n",
      "SatId: 208 SMAPE: 70.22690375624556\n",
      "SatId: 213 SMAPE: 47.9088860725847\n",
      "SatId: 223 SMAPE: 79.24207382935143\n",
      "SatId: 230 SMAPE: 66.34967043986966\n",
      "SatId: 236 SMAPE: 72.93354466180106\n",
      "SatId: 241 SMAPE: 87.67841077878641\n",
      "SatId: 242 SMAPE: 83.49222444300746\n",
      "SatId: 243 SMAPE: 81.45674422623527\n",
      "SatId: 247 SMAPE: 66.71092571810445\n",
      "SatId: 248 SMAPE: 60.18517305977995\n",
      "SatId: 251 SMAPE: 77.551504939133\n",
      "SatId: 264 SMAPE: 81.27704627385079\n",
      "SatId: 270 SMAPE: 95.6443317451379\n",
      "SatId: 278 SMAPE: 81.70917491731034\n",
      "SatId: 348 SMAPE: 62.073842599954624\n",
      "SatId: 363 SMAPE: 77.27472279987964\n",
      "SatId: 375 SMAPE: 56.85881053369886\n",
      "SatId: 380 SMAPE: 63.15411287266577\n",
      "SatId: 382 SMAPE: 68.54746139829545\n",
      "SatId: 385 SMAPE: 66.3093252754222\n",
      "SatId: 390 SMAPE: 63.71343999311074\n",
      "SatId: 392 SMAPE: 90.00979166417795\n",
      "SatId: 407 SMAPE: 63.17239863539583\n",
      "SatId: 409 SMAPE: 68.81425042499131\n",
      "SatId: 415 SMAPE: 64.34879583453935\n",
      "SatId: 416 SMAPE: 72.26789598606283\n",
      "SatId: 418 SMAPE: 90.70986437664371\n",
      "SatId: 422 SMAPE: 58.30545908327529\n",
      "SatId: 437 SMAPE: 72.90029501272363\n",
      "SatId: 440 SMAPE: 56.7867472459674\n",
      "SatId: 450 SMAPE: 73.18316196894332\n",
      "SatId: 468 SMAPE: 87.4454070687928\n",
      "SatId: 476 SMAPE: 61.79828542408203\n",
      "SatId: 477 SMAPE: 56.30939551382858\n",
      "SatId: 480 SMAPE: 73.61135849529383\n",
      "SatId: 483 SMAPE: 67.55356897132721\n",
      "SatId: 495 SMAPE: 69.63883135163123\n",
      "SatId: 502 SMAPE: 82.6772906119082\n",
      "SatId: 505 SMAPE: 80.80832025155938\n",
      "SatId: 508 SMAPE: 60.993132703152085\n",
      "SatId: 536 SMAPE: 83.98597126901228\n",
      "SatId: 539 SMAPE: 59.45952350067031\n",
      "SatId: 542 SMAPE: 66.0949264957855\n",
      "SatId: 549 SMAPE: 42.635507052585574\n",
      "SatId: 558 SMAPE: 83.39192277556722\n",
      "SatId: 565 SMAPE: 76.77924386412661\n",
      "SatId: 575 SMAPE: 61.65104797001069\n",
      "SatId: 580 SMAPE: 82.4990403491094\n",
      "SatId: 595 SMAPE: 92.2058976152141\n",
      "SatId: 596 SMAPE: 95.82716674029624\n",
      "SatId: 597 SMAPE: 81.21131359157047\n",
      "SatId: 597 FINAL SMAPE: 71.67441310214613\n"
     ]
    }
   ],
   "source": [
    "from sklearn.linear_model import LinearRegression, Lasso, Ridge\n",
    "from sklearn.neighbors import KNeighborsRegressor\n",
    "from sklearn.ensemble import RandomForestRegressor\n",
    "from sklearn.cluster import KMeans\n",
    "model = LinearRegression()\n",
    "cluster = KMeans(n_clusters=24, tol = 1e-3, algorithm = 'elkan', random_state=RND_SEED)\n",
    "trainSize = 0.8\n",
    "submissionValid = train.copy()[['id', 'sat_id', 'x', 'y', 'z', 'Vx', 'Vy', 'Vz']]\n",
    "submissionIndexes = []\n",
    "SMP = []\n",
    "smp = []\n",
    "nSmapes = 6 * 300\n",
    "nTargets = 6\n",
    "for sat_id in Xtest['sat_id'].unique():\n",
    "    if sat_id in linearSat:\n",
    "        satX = X[X['sat_id'] == sat_id].drop(columns = ['sat_id'])\n",
    "        satY = y[X['sat_id'] == sat_id]\n",
    "        satXtest = Xtest[Xtest['sat_id'] == sat_id].drop(columns = ['sat_id'])\n",
    "\n",
    "        size = int(satX.shape[0] * trainSize)\n",
    "        Xtr, Xval = satX.iloc[:size, :], satX.iloc[size:, :]\n",
    "        ytr, yval = satY.iloc[:size, :], satY.iloc[size:, :]\n",
    "\n",
    "        labelsTrain = cluster.fit_predict(Xtr)\n",
    "        labelsTest = cluster.predict(Xval)\n",
    "        smp = []\n",
    "        for label in np.unique(labelsTest):\n",
    "            for i in range(nTargets):\n",
    "                model.fit(Xtr[labelsTrain == label], ytr[labelsTrain == label].iloc[:, i])\n",
    "                ypred = model.predict(Xval[labelsTest == label])\n",
    "                smp.append(smape(ypred, yval[labelsTest == label].iloc[:, i]))\n",
    "                SMP.append(smape(ypred, yval[labelsTest == label].iloc[:, i]))\n",
    "        print(f'SatId:',sat_id, 'SMAPE:', 100*(1- np.mean(smp)))\n",
    "print(f'SatId:',sat_id, 'FINAL SMAPE:', 100*(1- np.mean(SMP)))"
   ]
  },
  {
   "cell_type": "code",
   "execution_count": 44,
   "metadata": {},
   "outputs": [
    {
     "name": "stderr",
     "output_type": "stream",
     "text": [
      "  0%|                                                                                                                                                                                                                  | 0/300 [00:00<?, ?it/s]C:\\Anaconda3\\lib\\site-packages\\sklearn\\ensemble\\forest.py:246: FutureWarning: The default value of n_estimators will change from 10 in version 0.20 to 100 in 0.22.\n",
      "  \"10 in version 0.20 to 100 in 0.22.\", FutureWarning)\n",
      "100%|████████████████████████████████████████████████████████████████████████████████████████████████████████████████████████████████████████████████████████████████████████████████████████████████████████| 300/300 [01:12<00:00,  4.03it/s]\n"
     ]
    }
   ],
   "source": [
    "from sklearn.linear_model import LinearRegression, Lasso, Ridge\n",
    "from sklearn.ensemble import RandomForestRegressor\n",
    "model = RandomForestRegressor()\n",
    "nTargets = 6\n",
    "for sat_id in tqdm(Xtest['sat_id'].unique()):\n",
    "    satX = X[X['sat_id'] == sat_id].drop(columns = ['sat_id'])\n",
    "    satY = y[X['sat_id'] == sat_id]\n",
    "    satXtest = Xtest[Xtest['sat_id'] == sat_id].drop(columns = ['sat_id'])\n",
    "    \n",
    "    for i in range(nTargets):\n",
    "        model.fit(satX, satY.iloc[:, i])\n",
    "        ypred = model.predict(satXtest)\n",
    "        submission.loc[satXtest.index, submission.columns[i+1]] = ypred"
   ]
  },
  {
   "cell_type": "code",
   "execution_count": 46,
   "metadata": {},
   "outputs": [],
   "source": [
    "submission.to_csv('submission.csv', index = None)"
   ]
  },
  {
   "cell_type": "code",
   "execution_count": null,
   "metadata": {},
   "outputs": [],
   "source": []
  }
 ],
 "metadata": {
  "kernelspec": {
   "display_name": "Python 3",
   "language": "python",
   "name": "python3"
  },
  "language_info": {
   "codemirror_mode": {
    "name": "ipython",
    "version": 3
   },
   "file_extension": ".py",
   "mimetype": "text/x-python",
   "name": "python",
   "nbconvert_exporter": "python",
   "pygments_lexer": "ipython3",
   "version": "3.6.6"
  }
 },
 "nbformat": 4,
 "nbformat_minor": 2
}
