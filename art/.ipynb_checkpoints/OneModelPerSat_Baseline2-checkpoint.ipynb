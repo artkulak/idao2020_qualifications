{
 "cells": [
  {
   "cell_type": "code",
   "execution_count": 1,
   "metadata": {},
   "outputs": [],
   "source": [
    "import pandas as pd\n",
    "import numpy as np\n",
    "import matplotlib.pyplot as plt\n",
    "from mpl_toolkits import mplot3d\n",
    "import seaborn as sns\n",
    "import gc\n",
    "from tqdm import tqdm\n",
    "\n",
    "%matplotlib inline\n",
    "\n",
    "PATH = '../'"
   ]
  },
  {
   "cell_type": "code",
   "execution_count": 2,
   "metadata": {},
   "outputs": [
    {
     "name": "stdout",
     "output_type": "stream",
     "text": [
      "Wall time: 2.62 s\n"
     ]
    }
   ],
   "source": [
    "%%time\n",
    "train = pd.read_csv(PATH + 'train.csv')\n",
    "test = pd.read_csv(PATH + 'Track 1/test.csv')\n",
    "submission = pd.read_csv(PATH + 'Track 1/submission.csv')"
   ]
  },
  {
   "cell_type": "markdown",
   "metadata": {},
   "source": [
    "### LB Score Calc"
   ]
  },
  {
   "cell_type": "markdown",
   "metadata": {},
   "source": [
    "Для подсчета скора просто используйте функцию getLBScore"
   ]
  },
  {
   "cell_type": "code",
   "execution_count": 3,
   "metadata": {},
   "outputs": [],
   "source": [
    "def smape(satellite_predicted_values, satellite_true_values): \n",
    "    # the division, addition and subtraction are pointwise \n",
    "    return np.mean(np.abs(satellite_predicted_values - satellite_true_values) / (np.abs(satellite_predicted_values) + np.abs(satellite_true_values)))"
   ]
  },
  {
   "cell_type": "markdown",
   "metadata": {},
   "source": [
    "### Model training"
   ]
  },
  {
   "cell_type": "code",
   "execution_count": 4,
   "metadata": {},
   "outputs": [],
   "source": [
    "training_columns = ['epoch', 'sat_id', 'x_sim', 'y_sim', 'z_sim', 'Vx_sim', 'Vy_sim', 'Vz_sim']\n",
    "prediction_columns = ['x','y','z','Vx', 'Vy', 'Vz']\n",
    "X = train.loc[:, training_columns]\n",
    "y = train.loc[:, prediction_columns]\n",
    "Xtest = test.loc[:, training_columns]"
   ]
  },
  {
   "cell_type": "code",
   "execution_count": 5,
   "metadata": {},
   "outputs": [],
   "source": [
    "X = X.drop(columns = 'epoch')\n",
    "Xtest = Xtest.drop(columns = 'epoch')"
   ]
  },
  {
   "cell_type": "code",
   "execution_count": 11,
   "metadata": {},
   "outputs": [
    {
     "name": "stderr",
     "output_type": "stream",
     "text": [
      "100%|████████████████████████████████████████████████████████████████████████████████████████████████████████████████████████████████████████████████████████████████████████████████████████████████████████| 300/300 [00:07<00:00, 39.60it/s]\n"
     ]
    },
    {
     "name": "stdout",
     "output_type": "stream",
     "text": [
      "Final 90.3900037854068\n"
     ]
    }
   ],
   "source": [
    "from sklearn.linear_model import LinearRegression, Lasso, Ridge\n",
    "from sklearn.svm import SVR\n",
    "from sklearn.ensemble import RandomForestRegressor, ExtraTreesRegressor\n",
    "model = LinearRegression()\n",
    "trainSize = 0.8\n",
    "submissionValid = train.copy()[['id', 'sat_id', 'x', 'y', 'z', 'Vx', 'Vy', 'Vz']]\n",
    "smp = []\n",
    "SMP = []\n",
    "nTargets = 6\n",
    "for sat_id in tqdm(Xtest['sat_id'].unique()):\n",
    "    if sat_id >= 0:\n",
    "        smp = []\n",
    "        satX = X[X['sat_id'] == sat_id]\n",
    "        satX = pd.concat([satX, satX.shift(1).fillna(0), \n",
    "                          satX.shift(2).fillna(0), satX.shift(3).fillna(0),\n",
    "                         satX.shift(4).fillna(0)], axis = 1)\n",
    "        satY = y[X['sat_id'] == sat_id]\n",
    "\n",
    "        size = int(satX.shape[0] * trainSize)\n",
    "        Xtr, Xval = satX.iloc[:size, :], satX.iloc[size:, :]\n",
    "        ytr, yval = satY.iloc[:size, :], satY.iloc[size:, :]\n",
    "        for i in range(nTargets):\n",
    "            model.fit(Xtr, ytr.iloc[:, i])\n",
    "            ypred = model.predict(Xval)\n",
    "            smp.append(smape(ypred, yval.iloc[:, i]))\n",
    "            SMP.append(smape(ypred, yval.iloc[:, i]))\n",
    "print('Final', 100*(1- np.mean(SMP)))"
   ]
  },
  {
   "cell_type": "code",
   "execution_count": 9,
   "metadata": {},
   "outputs": [
    {
     "name": "stderr",
     "output_type": "stream",
     "text": [
      "100%|████████████████████████████████████████████████████████████████████████████████████████████████████████████████████████████████████████████████████████████████████████████████████████████████████████| 300/300 [00:10<00:00, 29.31it/s]\n"
     ]
    }
   ],
   "source": [
    "from sklearn.linear_model import LinearRegression, Lasso, Ridge\n",
    "from sklearn.ensemble import AdaBoostRegressor\n",
    "model = LinearRegression()\n",
    "nTargets = 6\n",
    "for sat_id in tqdm(Xtest['sat_id'].unique()):\n",
    "    satX = X[X['sat_id'] == sat_id].drop(columns = ['sat_id'])\n",
    "    satX = pd.concat([satX, satX.shift(1).fillna(0), \n",
    "                          satX.shift(2).fillna(0), satX.shift(3).fillna(0),\n",
    "                         satX.shift(4).fillna(0)], axis = 1)\n",
    "    satY = y[X['sat_id'] == sat_id]\n",
    "    satXtest = Xtest[Xtest['sat_id'] == sat_id].drop(columns = ['sat_id'])\n",
    "    satXtest = pd.concat([satXtest, satXtest.shift(1).fillna(0),satXtest.shift(2).fillna(0), satXtest.shift(3).fillna(0),\n",
    "                         satXtest.shift(4).fillna(0)], axis = 1)\n",
    "    \n",
    "    for i in range(nTargets):\n",
    "        model.fit(satX, satY.iloc[:, i])\n",
    "        ypred = model.predict(satXtest)\n",
    "        submission.loc[satXtest.index, submission.columns[i+1]] = ypred"
   ]
  },
  {
   "cell_type": "code",
   "execution_count": 10,
   "metadata": {},
   "outputs": [],
   "source": [
    "submission.to_csv('submission.csv', index = None)"
   ]
  },
  {
   "cell_type": "code",
   "execution_count": null,
   "metadata": {},
   "outputs": [],
   "source": []
  }
 ],
 "metadata": {
  "kernelspec": {
   "display_name": "Python 3",
   "language": "python",
   "name": "python3"
  },
  "language_info": {
   "codemirror_mode": {
    "name": "ipython",
    "version": 3
   },
   "file_extension": ".py",
   "mimetype": "text/x-python",
   "name": "python",
   "nbconvert_exporter": "python",
   "pygments_lexer": "ipython3",
   "version": "3.6.6"
  }
 },
 "nbformat": 4,
 "nbformat_minor": 2
}
