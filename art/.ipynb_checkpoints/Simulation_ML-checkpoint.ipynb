{
 "cells": [
  {
   "cell_type": "markdown",
   "metadata": {},
   "source": [
    "### Solution outline:\n",
    "We split training data on 50/50 %. We use last point of 50% data to predict the orbit of each satellite for the following 50% of train data. We also use very last point of train data to predict the orbit of each satellite for test data. We predict on the 1st stage using pure phisics with no ML using plyades library. "
   ]
  },
  {
   "cell_type": "code",
   "execution_count": 1,
   "metadata": {},
   "outputs": [],
   "source": [
    "import pandas as pd\n",
    "import numpy as np\n",
    "import gc\n",
    "from tqdm import tqdm_notebook\n",
    "\n",
    "# libs for 1st stage simulation\n",
    "import plyades\n",
    "import astropy\n",
    "from astropy import units as units\n",
    "# libs for 2nd stage prediction\n",
    "from sklearn.linear_model import LinearRegression, Lasso, Ridge\n",
    "from sklearn.ensemble import RandomForestRegressor, ExtraTreesRegressor\n",
    "\n",
    "PATH = '../'\n",
    "RND_STATE = 13"
   ]
  },
  {
   "cell_type": "code",
   "execution_count": 9,
   "metadata": {},
   "outputs": [
    {
     "name": "stdout",
     "output_type": "stream",
     "text": [
      "Wall time: 2.63 s\n"
     ]
    }
   ],
   "source": [
    "%%time\n",
    "train = pd.read_csv(PATH + 'train.csv')\n",
    "test = pd.read_csv(PATH + 'Track 1/test.csv')\n",
    "submission = pd.read_csv(PATH + 'Track 1/submission.csv')"
   ]
  },
  {
   "cell_type": "code",
   "execution_count": 3,
   "metadata": {},
   "outputs": [],
   "source": [
    "# metric function for score calculation\n",
    "def smape(satellite_predicted_values, satellite_true_values): \n",
    "    # the division, addition and subtraction are pointwise \n",
    "    return np.mean(np.abs(satellite_predicted_values - satellite_true_values) / (np.abs(satellite_predicted_values) + np.abs(satellite_true_values)))"
   ]
  },
  {
   "cell_type": "markdown",
   "metadata": {},
   "source": [
    "### 1st Stage: Simulation of orbit"
   ]
  },
  {
   "cell_type": "code",
   "execution_count": 12,
   "metadata": {},
   "outputs": [],
   "source": [
    "simulationTrain = submission.iloc[0:1, :].copy()\n",
    "simulationTrain.drop(index = 0, inplace = True)"
   ]
  },
  {
   "cell_type": "code",
   "execution_count": 13,
   "metadata": {},
   "outputs": [],
   "source": [
    "def findClosest(timesTest, timesSim):\n",
    "    timesTest = timesTest.apply(lambda x: pd.to_datetime(x))\n",
    "    timesSim = timesSim.apply(lambda x: pd.to_datetime(str(x)))\n",
    "    indexes = []\n",
    "    for time in timesTest.values:\n",
    "        arg = np.argmin(np.abs(timesSim.values - time))\n",
    "        indexes.append(timesSim.index[arg])\n",
    "    return indexes"
   ]
  },
  {
   "cell_type": "code",
   "execution_count": 14,
   "metadata": {},
   "outputs": [
    {
     "data": {
      "application/vnd.jupyter.widget-view+json": {
       "model_id": "734e78781b9e4dee97938eccd3298c96",
       "version_major": 2,
       "version_minor": 0
      },
      "text/plain": [
       "HBox(children=(IntProgress(value=1, bar_style='info', max=1), HTML(value='')))"
      ]
     },
     "metadata": {},
     "output_type": "display_data"
    },
    {
     "name": "stdout",
     "output_type": "stream",
     "text": [
      "1 85.53472582930061\n",
      "2 99.27786997004485\n",
      "3 97.54673802951012\n",
      "4 98.17453042205418\n"
     ]
    },
    {
     "name": "stderr",
     "output_type": "stream",
     "text": [
      "C:\\Anaconda3\\lib\\site-packages\\astropy\\units\\quantity.py:463: RuntimeWarning: invalid value encountered in arccos\n",
      "  result = super().__array_ufunc__(function, method, *arrays, **kwargs)\n",
      "C:\\Anaconda3\\lib\\site-packages\\astropy\\units\\quantity.py:463: RuntimeWarning: invalid value encountered in remainder\n",
      "  result = super().__array_ufunc__(function, method, *arrays, **kwargs)\n"
     ]
    },
    {
     "name": "stdout",
     "output_type": "stream",
     "text": [
      "6 71.94007842811516\n",
      "9 91.60146875046279\n",
      "16 94.95460922629022\n",
      "20 73.18781761138864\n"
     ]
    },
    {
     "name": "stderr",
     "output_type": "stream",
     "text": [
      "C:\\Anaconda3\\lib\\site-packages\\astropy\\units\\quantity.py:463: RuntimeWarning: invalid value encountered in arccos\n",
      "  result = super().__array_ufunc__(function, method, *arrays, **kwargs)\n",
      "C:\\Anaconda3\\lib\\site-packages\\astropy\\units\\quantity.py:463: RuntimeWarning: invalid value encountered in remainder\n",
      "  result = super().__array_ufunc__(function, method, *arrays, **kwargs)\n"
     ]
    },
    {
     "name": "stdout",
     "output_type": "stream",
     "text": [
      "22 71.05088070981755\n",
      "24 98.31008277632884\n",
      "25 99.38630059874386\n",
      "26 73.3934439829922\n",
      "27 98.12059560346728\n",
      "28 64.39347722857973\n",
      "29 98.34370763880015\n",
      "32 97.15155397267242\n"
     ]
    },
    {
     "name": "stderr",
     "output_type": "stream",
     "text": [
      "C:\\Anaconda3\\lib\\site-packages\\astropy\\units\\quantity.py:463: RuntimeWarning: invalid value encountered in arccos\n",
      "  result = super().__array_ufunc__(function, method, *arrays, **kwargs)\n",
      "C:\\Anaconda3\\lib\\site-packages\\astropy\\units\\quantity.py:463: RuntimeWarning: invalid value encountered in remainder\n",
      "  result = super().__array_ufunc__(function, method, *arrays, **kwargs)\n"
     ]
    },
    {
     "name": "stdout",
     "output_type": "stream",
     "text": [
      "34 98.26038576000138\n",
      "35 53.54761322934707\n",
      "36 96.70679965511835\n"
     ]
    },
    {
     "name": "stderr",
     "output_type": "stream",
     "text": [
      "C:\\Anaconda3\\lib\\site-packages\\astropy\\units\\quantity.py:463: RuntimeWarning: invalid value encountered in arccos\n",
      "  result = super().__array_ufunc__(function, method, *arrays, **kwargs)\n",
      "C:\\Anaconda3\\lib\\site-packages\\astropy\\units\\quantity.py:463: RuntimeWarning: invalid value encountered in remainder\n",
      "  result = super().__array_ufunc__(function, method, *arrays, **kwargs)\n"
     ]
    },
    {
     "name": "stdout",
     "output_type": "stream",
     "text": [
      "37 44.647452191348194\n",
      "38 97.7472036486407\n",
      "39 97.82540025982426\n"
     ]
    },
    {
     "name": "stderr",
     "output_type": "stream",
     "text": [
      "C:\\Anaconda3\\lib\\site-packages\\astropy\\units\\quantity.py:463: RuntimeWarning: invalid value encountered in arccos\n",
      "  result = super().__array_ufunc__(function, method, *arrays, **kwargs)\n",
      "C:\\Anaconda3\\lib\\site-packages\\astropy\\units\\quantity.py:463: RuntimeWarning: invalid value encountered in remainder\n",
      "  result = super().__array_ufunc__(function, method, *arrays, **kwargs)\n"
     ]
    },
    {
     "name": "stdout",
     "output_type": "stream",
     "text": [
      "40 97.86995384584154\n",
      "41 96.25941596792644\n",
      "42 97.70007554847449\n",
      "44 89.14948188544034\n",
      "45 98.48246953540428\n",
      "49 97.55869623915041\n",
      "51 97.78480144965066\n",
      "52 82.73524886580897\n",
      "53 91.72286004908811\n",
      "54 82.86871169971002\n"
     ]
    },
    {
     "name": "stderr",
     "output_type": "stream",
     "text": [
      "C:\\Anaconda3\\lib\\site-packages\\astropy\\units\\quantity.py:463: RuntimeWarning: invalid value encountered in arccos\n",
      "  result = super().__array_ufunc__(function, method, *arrays, **kwargs)\n",
      "C:\\Anaconda3\\lib\\site-packages\\astropy\\units\\quantity.py:463: RuntimeWarning: invalid value encountered in remainder\n",
      "  result = super().__array_ufunc__(function, method, *arrays, **kwargs)\n"
     ]
    },
    {
     "name": "stdout",
     "output_type": "stream",
     "text": [
      "57 98.32008802789424\n",
      "59 95.83708724498997\n",
      "63 96.74390615032883\n"
     ]
    },
    {
     "name": "stderr",
     "output_type": "stream",
     "text": [
      "C:\\Anaconda3\\lib\\site-packages\\astropy\\units\\quantity.py:463: RuntimeWarning: invalid value encountered in arccos\n",
      "  result = super().__array_ufunc__(function, method, *arrays, **kwargs)\n",
      "C:\\Anaconda3\\lib\\site-packages\\astropy\\units\\quantity.py:463: RuntimeWarning: invalid value encountered in remainder\n",
      "  result = super().__array_ufunc__(function, method, *arrays, **kwargs)\n"
     ]
    },
    {
     "name": "stdout",
     "output_type": "stream",
     "text": [
      "64 91.9254235561575\n",
      "68 93.57709107156161\n",
      "70 95.8486578066544\n",
      "75 90.9317318664003\n",
      "82 83.83088038991849\n",
      "84 99.59617254524619\n",
      "86 97.66550436645699\n"
     ]
    },
    {
     "name": "stderr",
     "output_type": "stream",
     "text": [
      "C:\\Anaconda3\\lib\\site-packages\\astropy\\units\\quantity.py:463: RuntimeWarning: invalid value encountered in arccos\n",
      "  result = super().__array_ufunc__(function, method, *arrays, **kwargs)\n",
      "C:\\Anaconda3\\lib\\site-packages\\astropy\\units\\quantity.py:463: RuntimeWarning: invalid value encountered in remainder\n",
      "  result = super().__array_ufunc__(function, method, *arrays, **kwargs)\n"
     ]
    },
    {
     "name": "stdout",
     "output_type": "stream",
     "text": [
      "89 97.66719458625872\n",
      "90 86.57532550539253\n",
      "91 92.15154272883203\n"
     ]
    },
    {
     "name": "stderr",
     "output_type": "stream",
     "text": [
      "C:\\Anaconda3\\lib\\site-packages\\astropy\\units\\quantity.py:463: RuntimeWarning: invalid value encountered in arccos\n",
      "  result = super().__array_ufunc__(function, method, *arrays, **kwargs)\n",
      "C:\\Anaconda3\\lib\\site-packages\\astropy\\units\\quantity.py:463: RuntimeWarning: invalid value encountered in remainder\n",
      "  result = super().__array_ufunc__(function, method, *arrays, **kwargs)\n"
     ]
    },
    {
     "name": "stdout",
     "output_type": "stream",
     "text": [
      "92 88.86758067673766\n",
      "93 97.38124244746597\n"
     ]
    },
    {
     "name": "stderr",
     "output_type": "stream",
     "text": [
      "C:\\Anaconda3\\lib\\site-packages\\astropy\\units\\quantity.py:463: RuntimeWarning: invalid value encountered in arccos\n",
      "  result = super().__array_ufunc__(function, method, *arrays, **kwargs)\n",
      "C:\\Anaconda3\\lib\\site-packages\\astropy\\units\\quantity.py:463: RuntimeWarning: invalid value encountered in remainder\n",
      "  result = super().__array_ufunc__(function, method, *arrays, **kwargs)\n"
     ]
    },
    {
     "name": "stdout",
     "output_type": "stream",
     "text": [
      "96 96.7752828731022\n"
     ]
    },
    {
     "name": "stderr",
     "output_type": "stream",
     "text": [
      "C:\\Anaconda3\\lib\\site-packages\\astropy\\units\\quantity.py:463: RuntimeWarning: invalid value encountered in arccos\n",
      "  result = super().__array_ufunc__(function, method, *arrays, **kwargs)\n",
      "C:\\Anaconda3\\lib\\site-packages\\astropy\\units\\quantity.py:463: RuntimeWarning: invalid value encountered in remainder\n",
      "  result = super().__array_ufunc__(function, method, *arrays, **kwargs)\n"
     ]
    },
    {
     "name": "stdout",
     "output_type": "stream",
     "text": [
      "98 98.89625703338918\n",
      "100 90.74010944179517\n",
      "101 93.99500000057606\n",
      "102 97.40085468210987\n",
      "105 98.69915508384042\n",
      "106 86.63167626081514\n"
     ]
    },
    {
     "name": "stderr",
     "output_type": "stream",
     "text": [
      "C:\\Anaconda3\\lib\\site-packages\\astropy\\units\\quantity.py:463: RuntimeWarning: invalid value encountered in arccos\n",
      "  result = super().__array_ufunc__(function, method, *arrays, **kwargs)\n",
      "C:\\Anaconda3\\lib\\site-packages\\astropy\\units\\quantity.py:463: RuntimeWarning: invalid value encountered in remainder\n",
      "  result = super().__array_ufunc__(function, method, *arrays, **kwargs)\n"
     ]
    },
    {
     "name": "stdout",
     "output_type": "stream",
     "text": [
      "109 91.70965812708455\n",
      "110 96.63776403847359\n",
      "112 98.5540957771142\n",
      "113 83.60727135546941\n",
      "114 83.34819204819561\n",
      "117 97.78748155977424\n",
      "118 95.45154652680232\n",
      "120 97.14903242965647\n"
     ]
    },
    {
     "name": "stderr",
     "output_type": "stream",
     "text": [
      "C:\\Anaconda3\\lib\\site-packages\\astropy\\units\\quantity.py:463: RuntimeWarning: invalid value encountered in arccos\n",
      "  result = super().__array_ufunc__(function, method, *arrays, **kwargs)\n",
      "C:\\Anaconda3\\lib\\site-packages\\astropy\\units\\quantity.py:463: RuntimeWarning: invalid value encountered in remainder\n",
      "  result = super().__array_ufunc__(function, method, *arrays, **kwargs)\n"
     ]
    },
    {
     "name": "stdout",
     "output_type": "stream",
     "text": [
      "121 97.57072499440616\n",
      "123 99.52965565802833\n",
      "124 95.59477321661014\n",
      "125 97.66866726150411\n",
      "126 97.07699719033744\n",
      "127 69.09407591103358\n",
      "128 94.2232268692882\n",
      "130 98.18346279877063\n",
      "132 94.82132280514529\n",
      "133 98.82941908846634\n",
      "135 93.76138962169969\n",
      "138 97.7056262569874\n",
      "142 95.53629231788922\n"
     ]
    },
    {
     "name": "stderr",
     "output_type": "stream",
     "text": [
      "C:\\Anaconda3\\lib\\site-packages\\astropy\\units\\quantity.py:463: RuntimeWarning: invalid value encountered in arccos\n",
      "  result = super().__array_ufunc__(function, method, *arrays, **kwargs)\n",
      "C:\\Anaconda3\\lib\\site-packages\\astropy\\units\\quantity.py:463: RuntimeWarning: invalid value encountered in remainder\n",
      "  result = super().__array_ufunc__(function, method, *arrays, **kwargs)\n"
     ]
    },
    {
     "name": "stdout",
     "output_type": "stream",
     "text": [
      "143 99.00525328894248\n"
     ]
    },
    {
     "name": "stderr",
     "output_type": "stream",
     "text": [
      "C:\\Anaconda3\\lib\\site-packages\\astropy\\units\\quantity.py:463: RuntimeWarning: invalid value encountered in arccos\n",
      "  result = super().__array_ufunc__(function, method, *arrays, **kwargs)\n",
      "C:\\Anaconda3\\lib\\site-packages\\astropy\\units\\quantity.py:463: RuntimeWarning: invalid value encountered in remainder\n",
      "  result = super().__array_ufunc__(function, method, *arrays, **kwargs)\n"
     ]
    },
    {
     "name": "stdout",
     "output_type": "stream",
     "text": [
      "144 97.8414660129316\n",
      "145 96.95924784712011\n",
      "149 99.3933941931479\n"
     ]
    },
    {
     "name": "stderr",
     "output_type": "stream",
     "text": [
      "C:\\Anaconda3\\lib\\site-packages\\astropy\\units\\quantity.py:463: RuntimeWarning: invalid value encountered in arccos\n",
      "  result = super().__array_ufunc__(function, method, *arrays, **kwargs)\n",
      "C:\\Anaconda3\\lib\\site-packages\\astropy\\units\\quantity.py:463: RuntimeWarning: invalid value encountered in remainder\n",
      "  result = super().__array_ufunc__(function, method, *arrays, **kwargs)\n"
     ]
    },
    {
     "name": "stdout",
     "output_type": "stream",
     "text": [
      "151 97.40930665521809\n"
     ]
    },
    {
     "name": "stderr",
     "output_type": "stream",
     "text": [
      "C:\\Anaconda3\\lib\\site-packages\\astropy\\units\\quantity.py:463: RuntimeWarning: invalid value encountered in arccos\n",
      "  result = super().__array_ufunc__(function, method, *arrays, **kwargs)\n",
      "C:\\Anaconda3\\lib\\site-packages\\astropy\\units\\quantity.py:463: RuntimeWarning: invalid value encountered in remainder\n",
      "  result = super().__array_ufunc__(function, method, *arrays, **kwargs)\n"
     ]
    },
    {
     "name": "stdout",
     "output_type": "stream",
     "text": [
      "152 99.41931571901893\n"
     ]
    },
    {
     "name": "stderr",
     "output_type": "stream",
     "text": [
      "C:\\Anaconda3\\lib\\site-packages\\astropy\\units\\quantity.py:463: RuntimeWarning: invalid value encountered in arccos\n",
      "  result = super().__array_ufunc__(function, method, *arrays, **kwargs)\n",
      "C:\\Anaconda3\\lib\\site-packages\\astropy\\units\\quantity.py:463: RuntimeWarning: invalid value encountered in remainder\n",
      "  result = super().__array_ufunc__(function, method, *arrays, **kwargs)\n"
     ]
    },
    {
     "name": "stdout",
     "output_type": "stream",
     "text": [
      "153 92.28968481137095\n"
     ]
    },
    {
     "name": "stderr",
     "output_type": "stream",
     "text": [
      "C:\\Anaconda3\\lib\\site-packages\\astropy\\units\\quantity.py:463: RuntimeWarning: invalid value encountered in arccos\n",
      "  result = super().__array_ufunc__(function, method, *arrays, **kwargs)\n",
      "C:\\Anaconda3\\lib\\site-packages\\astropy\\units\\quantity.py:463: RuntimeWarning: invalid value encountered in remainder\n",
      "  result = super().__array_ufunc__(function, method, *arrays, **kwargs)\n"
     ]
    },
    {
     "name": "stdout",
     "output_type": "stream",
     "text": [
      "155 98.06375442039987\n",
      "156 92.4420732507175\n",
      "158 96.15154888058649\n",
      "159 95.3316727280986\n",
      "160 98.39416822855819\n"
     ]
    },
    {
     "name": "stderr",
     "output_type": "stream",
     "text": [
      "C:\\Anaconda3\\lib\\site-packages\\astropy\\units\\quantity.py:463: RuntimeWarning: invalid value encountered in arccos\n",
      "  result = super().__array_ufunc__(function, method, *arrays, **kwargs)\n",
      "C:\\Anaconda3\\lib\\site-packages\\astropy\\units\\quantity.py:463: RuntimeWarning: invalid value encountered in remainder\n",
      "  result = super().__array_ufunc__(function, method, *arrays, **kwargs)\n"
     ]
    },
    {
     "name": "stdout",
     "output_type": "stream",
     "text": [
      "162 64.90357964763574\n"
     ]
    },
    {
     "name": "stderr",
     "output_type": "stream",
     "text": [
      "C:\\Anaconda3\\lib\\site-packages\\astropy\\units\\quantity.py:463: RuntimeWarning: invalid value encountered in arccos\n",
      "  result = super().__array_ufunc__(function, method, *arrays, **kwargs)\n",
      "C:\\Anaconda3\\lib\\site-packages\\astropy\\units\\quantity.py:463: RuntimeWarning: invalid value encountered in remainder\n",
      "  result = super().__array_ufunc__(function, method, *arrays, **kwargs)\n"
     ]
    },
    {
     "name": "stdout",
     "output_type": "stream",
     "text": [
      "164 93.96832388340975\n",
      "165 98.08885060176877\n"
     ]
    },
    {
     "name": "stderr",
     "output_type": "stream",
     "text": [
      "C:\\Anaconda3\\lib\\site-packages\\astropy\\units\\quantity.py:463: RuntimeWarning: invalid value encountered in arccos\n",
      "  result = super().__array_ufunc__(function, method, *arrays, **kwargs)\n",
      "C:\\Anaconda3\\lib\\site-packages\\astropy\\units\\quantity.py:463: RuntimeWarning: invalid value encountered in remainder\n",
      "  result = super().__array_ufunc__(function, method, *arrays, **kwargs)\n"
     ]
    },
    {
     "name": "stdout",
     "output_type": "stream",
     "text": [
      "166 92.49734078152872\n",
      "169 96.52971444034752\n",
      "170 81.05685462094324\n",
      "172 88.13396866507748\n",
      "173 95.60955602613535\n",
      "177 96.5776596605272\n",
      "178 99.37118410870511\n",
      "183 95.1313935391291\n"
     ]
    },
    {
     "name": "stderr",
     "output_type": "stream",
     "text": [
      "C:\\Anaconda3\\lib\\site-packages\\astropy\\units\\quantity.py:463: RuntimeWarning: invalid value encountered in arccos\n",
      "  result = super().__array_ufunc__(function, method, *arrays, **kwargs)\n",
      "C:\\Anaconda3\\lib\\site-packages\\astropy\\units\\quantity.py:463: RuntimeWarning: invalid value encountered in remainder\n",
      "  result = super().__array_ufunc__(function, method, *arrays, **kwargs)\n"
     ]
    },
    {
     "name": "stdout",
     "output_type": "stream",
     "text": [
      "186 83.06911953071989\n",
      "187 95.6940723321365\n"
     ]
    },
    {
     "name": "stderr",
     "output_type": "stream",
     "text": [
      "C:\\Anaconda3\\lib\\site-packages\\astropy\\units\\quantity.py:463: RuntimeWarning: invalid value encountered in arccos\n",
      "  result = super().__array_ufunc__(function, method, *arrays, **kwargs)\n",
      "C:\\Anaconda3\\lib\\site-packages\\astropy\\units\\quantity.py:463: RuntimeWarning: invalid value encountered in remainder\n",
      "  result = super().__array_ufunc__(function, method, *arrays, **kwargs)\n"
     ]
    },
    {
     "name": "stdout",
     "output_type": "stream",
     "text": [
      "188 98.22918926330712\n",
      "191 98.8977272423272\n",
      "193 98.41823947951978\n",
      "194 86.9179467759052\n",
      "195 96.41656801611937\n",
      "197 97.77371406117992\n",
      "203 98.35706714870386\n"
     ]
    },
    {
     "name": "stderr",
     "output_type": "stream",
     "text": [
      "C:\\Anaconda3\\lib\\site-packages\\astropy\\units\\quantity.py:463: RuntimeWarning: invalid value encountered in arccos\n",
      "  result = super().__array_ufunc__(function, method, *arrays, **kwargs)\n",
      "C:\\Anaconda3\\lib\\site-packages\\astropy\\units\\quantity.py:463: RuntimeWarning: invalid value encountered in remainder\n",
      "  result = super().__array_ufunc__(function, method, *arrays, **kwargs)\n"
     ]
    },
    {
     "name": "stdout",
     "output_type": "stream",
     "text": [
      "205 97.93639022671924\n",
      "206 92.22706735365543\n",
      "207 95.75362399270354\n",
      "208 87.91337268968019\n"
     ]
    },
    {
     "name": "stderr",
     "output_type": "stream",
     "text": [
      "C:\\Anaconda3\\lib\\site-packages\\astropy\\units\\quantity.py:463: RuntimeWarning: invalid value encountered in arccos\n",
      "  result = super().__array_ufunc__(function, method, *arrays, **kwargs)\n",
      "C:\\Anaconda3\\lib\\site-packages\\astropy\\units\\quantity.py:463: RuntimeWarning: invalid value encountered in remainder\n",
      "  result = super().__array_ufunc__(function, method, *arrays, **kwargs)\n"
     ]
    },
    {
     "name": "stdout",
     "output_type": "stream",
     "text": [
      "209 82.72603645940693\n",
      "210 98.78004613433319\n",
      "211 99.2058617873585\n",
      "213 98.55637832453331\n",
      "219 99.08917022828923\n",
      "220 97.74096230315455\n"
     ]
    },
    {
     "name": "stderr",
     "output_type": "stream",
     "text": [
      "C:\\Anaconda3\\lib\\site-packages\\astropy\\units\\quantity.py:463: RuntimeWarning: invalid value encountered in arccos\n",
      "  result = super().__array_ufunc__(function, method, *arrays, **kwargs)\n",
      "C:\\Anaconda3\\lib\\site-packages\\astropy\\units\\quantity.py:463: RuntimeWarning: invalid value encountered in remainder\n",
      "  result = super().__array_ufunc__(function, method, *arrays, **kwargs)\n"
     ]
    },
    {
     "name": "stdout",
     "output_type": "stream",
     "text": [
      "222 96.1517781323004\n",
      "223 96.31613209187043\n",
      "225 79.7378894909972\n"
     ]
    },
    {
     "name": "stderr",
     "output_type": "stream",
     "text": [
      "C:\\Anaconda3\\lib\\site-packages\\astropy\\units\\quantity.py:463: RuntimeWarning: invalid value encountered in arccos\n",
      "  result = super().__array_ufunc__(function, method, *arrays, **kwargs)\n",
      "C:\\Anaconda3\\lib\\site-packages\\astropy\\units\\quantity.py:463: RuntimeWarning: invalid value encountered in remainder\n",
      "  result = super().__array_ufunc__(function, method, *arrays, **kwargs)\n"
     ]
    },
    {
     "name": "stdout",
     "output_type": "stream",
     "text": [
      "227 96.98666511329816\n",
      "228 95.91672609975124\n"
     ]
    },
    {
     "name": "stderr",
     "output_type": "stream",
     "text": [
      "C:\\Anaconda3\\lib\\site-packages\\astropy\\units\\quantity.py:463: RuntimeWarning: invalid value encountered in arccos\n",
      "  result = super().__array_ufunc__(function, method, *arrays, **kwargs)\n",
      "C:\\Anaconda3\\lib\\site-packages\\astropy\\units\\quantity.py:463: RuntimeWarning: invalid value encountered in remainder\n",
      "  result = super().__array_ufunc__(function, method, *arrays, **kwargs)\n"
     ]
    },
    {
     "name": "stdout",
     "output_type": "stream",
     "text": [
      "229 97.83526978584672\n",
      "230 99.05264265337811\n",
      "233 98.68022449841177\n",
      "236 95.4936859558756\n",
      "239 99.43505539256323\n",
      "240 97.13454829982398\n",
      "241 99.17542484139187\n"
     ]
    },
    {
     "name": "stderr",
     "output_type": "stream",
     "text": [
      "C:\\Anaconda3\\lib\\site-packages\\astropy\\units\\quantity.py:463: RuntimeWarning: invalid value encountered in arccos\n",
      "  result = super().__array_ufunc__(function, method, *arrays, **kwargs)\n",
      "C:\\Anaconda3\\lib\\site-packages\\astropy\\units\\quantity.py:463: RuntimeWarning: invalid value encountered in remainder\n",
      "  result = super().__array_ufunc__(function, method, *arrays, **kwargs)\n"
     ]
    },
    {
     "name": "stdout",
     "output_type": "stream",
     "text": [
      "242 96.44461916013562\n",
      "243 97.35243707499961\n",
      "244 64.07325269648815\n",
      "245 98.49326451573043\n",
      "247 99.07880233033083\n",
      "248 91.3850017560493\n",
      "251 99.2953201913936\n",
      "252 66.70834701593225\n",
      "253 61.830189386148106\n"
     ]
    },
    {
     "name": "stderr",
     "output_type": "stream",
     "text": [
      "C:\\Anaconda3\\lib\\site-packages\\astropy\\units\\quantity.py:463: RuntimeWarning: invalid value encountered in arccos\n",
      "  result = super().__array_ufunc__(function, method, *arrays, **kwargs)\n",
      "C:\\Anaconda3\\lib\\site-packages\\astropy\\units\\quantity.py:463: RuntimeWarning: invalid value encountered in remainder\n",
      "  result = super().__array_ufunc__(function, method, *arrays, **kwargs)\n"
     ]
    },
    {
     "name": "stdout",
     "output_type": "stream",
     "text": [
      "254 89.41147751292979\n"
     ]
    },
    {
     "name": "stderr",
     "output_type": "stream",
     "text": [
      "C:\\Anaconda3\\lib\\site-packages\\astropy\\units\\quantity.py:463: RuntimeWarning: invalid value encountered in arccos\n",
      "  result = super().__array_ufunc__(function, method, *arrays, **kwargs)\n",
      "C:\\Anaconda3\\lib\\site-packages\\astropy\\units\\quantity.py:463: RuntimeWarning: invalid value encountered in remainder\n",
      "  result = super().__array_ufunc__(function, method, *arrays, **kwargs)\n"
     ]
    },
    {
     "name": "stdout",
     "output_type": "stream",
     "text": [
      "261 96.7314370505319\n",
      "263 97.76153308902894\n",
      "264 96.93016655494027\n",
      "265 95.17518777757084\n",
      "268 87.70269199030959\n"
     ]
    },
    {
     "name": "stderr",
     "output_type": "stream",
     "text": [
      "C:\\Anaconda3\\lib\\site-packages\\astropy\\units\\quantity.py:463: RuntimeWarning: invalid value encountered in arccos\n",
      "  result = super().__array_ufunc__(function, method, *arrays, **kwargs)\n",
      "C:\\Anaconda3\\lib\\site-packages\\astropy\\units\\quantity.py:463: RuntimeWarning: invalid value encountered in remainder\n",
      "  result = super().__array_ufunc__(function, method, *arrays, **kwargs)\n"
     ]
    },
    {
     "name": "stdout",
     "output_type": "stream",
     "text": [
      "270 91.64083793490157\n",
      "275 85.43200789624537\n"
     ]
    },
    {
     "name": "stderr",
     "output_type": "stream",
     "text": [
      "C:\\Anaconda3\\lib\\site-packages\\astropy\\units\\quantity.py:463: RuntimeWarning: invalid value encountered in arccos\n",
      "  result = super().__array_ufunc__(function, method, *arrays, **kwargs)\n",
      "C:\\Anaconda3\\lib\\site-packages\\astropy\\units\\quantity.py:463: RuntimeWarning: invalid value encountered in remainder\n",
      "  result = super().__array_ufunc__(function, method, *arrays, **kwargs)\n"
     ]
    },
    {
     "name": "stdout",
     "output_type": "stream",
     "text": [
      "277 64.75581524160232\n"
     ]
    },
    {
     "name": "stderr",
     "output_type": "stream",
     "text": [
      "C:\\Anaconda3\\lib\\site-packages\\astropy\\units\\quantity.py:463: RuntimeWarning: invalid value encountered in arccos\n",
      "  result = super().__array_ufunc__(function, method, *arrays, **kwargs)\n",
      "C:\\Anaconda3\\lib\\site-packages\\astropy\\units\\quantity.py:463: RuntimeWarning: invalid value encountered in remainder\n",
      "  result = super().__array_ufunc__(function, method, *arrays, **kwargs)\n"
     ]
    },
    {
     "name": "stdout",
     "output_type": "stream",
     "text": [
      "278 98.33549256773838\n",
      "281 91.76955826682722\n",
      "284 95.25904342598737\n",
      "288 98.19993030325077\n"
     ]
    },
    {
     "name": "stderr",
     "output_type": "stream",
     "text": [
      "C:\\Anaconda3\\lib\\site-packages\\astropy\\units\\quantity.py:463: RuntimeWarning: invalid value encountered in arccos\n",
      "  result = super().__array_ufunc__(function, method, *arrays, **kwargs)\n",
      "C:\\Anaconda3\\lib\\site-packages\\astropy\\units\\quantity.py:463: RuntimeWarning: invalid value encountered in remainder\n",
      "  result = super().__array_ufunc__(function, method, *arrays, **kwargs)\n"
     ]
    },
    {
     "name": "stdout",
     "output_type": "stream",
     "text": [
      "292 98.95203803536204\n",
      "293 97.8132003583002\n",
      "294 94.86903946339979\n",
      "298 98.41685675218116\n"
     ]
    },
    {
     "name": "stderr",
     "output_type": "stream",
     "text": [
      "C:\\Anaconda3\\lib\\site-packages\\astropy\\units\\quantity.py:463: RuntimeWarning: invalid value encountered in arccos\n",
      "  result = super().__array_ufunc__(function, method, *arrays, **kwargs)\n",
      "C:\\Anaconda3\\lib\\site-packages\\astropy\\units\\quantity.py:463: RuntimeWarning: invalid value encountered in remainder\n",
      "  result = super().__array_ufunc__(function, method, *arrays, **kwargs)\n"
     ]
    },
    {
     "name": "stdout",
     "output_type": "stream",
     "text": [
      "299 93.38523183194565\n",
      "301 91.35938396478033\n",
      "304 98.41699894837635\n",
      "306 98.40028522193388\n",
      "309 76.13669948557055\n",
      "310 72.84503257524533\n",
      "312 87.17899477325015\n"
     ]
    },
    {
     "name": "stderr",
     "output_type": "stream",
     "text": [
      "C:\\Anaconda3\\lib\\site-packages\\astropy\\units\\quantity.py:463: RuntimeWarning: invalid value encountered in arccos\n",
      "  result = super().__array_ufunc__(function, method, *arrays, **kwargs)\n",
      "C:\\Anaconda3\\lib\\site-packages\\astropy\\units\\quantity.py:463: RuntimeWarning: invalid value encountered in remainder\n",
      "  result = super().__array_ufunc__(function, method, *arrays, **kwargs)\n"
     ]
    },
    {
     "name": "stdout",
     "output_type": "stream",
     "text": [
      "314 97.24449470690742\n"
     ]
    },
    {
     "name": "stderr",
     "output_type": "stream",
     "text": [
      "C:\\Anaconda3\\lib\\site-packages\\astropy\\units\\quantity.py:463: RuntimeWarning: invalid value encountered in arccos\n",
      "  result = super().__array_ufunc__(function, method, *arrays, **kwargs)\n",
      "C:\\Anaconda3\\lib\\site-packages\\astropy\\units\\quantity.py:463: RuntimeWarning: invalid value encountered in remainder\n",
      "  result = super().__array_ufunc__(function, method, *arrays, **kwargs)\n"
     ]
    },
    {
     "name": "stdout",
     "output_type": "stream",
     "text": [
      "316 94.44101032552943\n",
      "319 97.51294203941099\n",
      "324 96.25619874428088\n",
      "326 96.53477428435707\n",
      "332 98.83181481264458\n"
     ]
    },
    {
     "name": "stderr",
     "output_type": "stream",
     "text": [
      "C:\\Anaconda3\\lib\\site-packages\\astropy\\units\\quantity.py:463: RuntimeWarning: invalid value encountered in arccos\n",
      "  result = super().__array_ufunc__(function, method, *arrays, **kwargs)\n",
      "C:\\Anaconda3\\lib\\site-packages\\astropy\\units\\quantity.py:463: RuntimeWarning: invalid value encountered in remainder\n",
      "  result = super().__array_ufunc__(function, method, *arrays, **kwargs)\n"
     ]
    },
    {
     "name": "stdout",
     "output_type": "stream",
     "text": [
      "333 75.79957740773253\n",
      "342 97.74867330252938\n"
     ]
    },
    {
     "name": "stderr",
     "output_type": "stream",
     "text": [
      "C:\\Anaconda3\\lib\\site-packages\\astropy\\units\\quantity.py:463: RuntimeWarning: invalid value encountered in arccos\n",
      "  result = super().__array_ufunc__(function, method, *arrays, **kwargs)\n",
      "C:\\Anaconda3\\lib\\site-packages\\astropy\\units\\quantity.py:463: RuntimeWarning: invalid value encountered in remainder\n",
      "  result = super().__array_ufunc__(function, method, *arrays, **kwargs)\n"
     ]
    },
    {
     "name": "stdout",
     "output_type": "stream",
     "text": [
      "343 98.38083607217142\n",
      "344 95.27239639755967\n",
      "347 90.37062190423012\n",
      "348 95.97912595071868\n"
     ]
    },
    {
     "name": "stderr",
     "output_type": "stream",
     "text": [
      "C:\\Anaconda3\\lib\\site-packages\\astropy\\units\\quantity.py:463: RuntimeWarning: invalid value encountered in arccos\n",
      "  result = super().__array_ufunc__(function, method, *arrays, **kwargs)\n",
      "C:\\Anaconda3\\lib\\site-packages\\astropy\\units\\quantity.py:463: RuntimeWarning: invalid value encountered in remainder\n",
      "  result = super().__array_ufunc__(function, method, *arrays, **kwargs)\n"
     ]
    },
    {
     "name": "stdout",
     "output_type": "stream",
     "text": [
      "349 98.26286352523003\n",
      "356 88.87546857145783\n"
     ]
    },
    {
     "name": "stderr",
     "output_type": "stream",
     "text": [
      "C:\\Anaconda3\\lib\\site-packages\\astropy\\units\\quantity.py:463: RuntimeWarning: invalid value encountered in arccos\n",
      "  result = super().__array_ufunc__(function, method, *arrays, **kwargs)\n",
      "C:\\Anaconda3\\lib\\site-packages\\astropy\\units\\quantity.py:463: RuntimeWarning: invalid value encountered in remainder\n",
      "  result = super().__array_ufunc__(function, method, *arrays, **kwargs)\n"
     ]
    },
    {
     "name": "stdout",
     "output_type": "stream",
     "text": [
      "357 97.70116824302913\n",
      "358 95.78268647117217\n",
      "359 96.63223125136639\n"
     ]
    },
    {
     "name": "stderr",
     "output_type": "stream",
     "text": [
      "C:\\Anaconda3\\lib\\site-packages\\astropy\\units\\quantity.py:463: RuntimeWarning: invalid value encountered in arccos\n",
      "  result = super().__array_ufunc__(function, method, *arrays, **kwargs)\n",
      "C:\\Anaconda3\\lib\\site-packages\\astropy\\units\\quantity.py:463: RuntimeWarning: invalid value encountered in remainder\n",
      "  result = super().__array_ufunc__(function, method, *arrays, **kwargs)\n"
     ]
    },
    {
     "name": "stdout",
     "output_type": "stream",
     "text": [
      "362 66.24831513814873\n",
      "363 96.02742468291363\n",
      "372 43.909508148513595\n",
      "373 96.92877241367236\n",
      "375 96.52146545395235\n"
     ]
    },
    {
     "name": "stderr",
     "output_type": "stream",
     "text": [
      "C:\\Anaconda3\\lib\\site-packages\\astropy\\units\\quantity.py:463: RuntimeWarning: invalid value encountered in arccos\n",
      "  result = super().__array_ufunc__(function, method, *arrays, **kwargs)\n",
      "C:\\Anaconda3\\lib\\site-packages\\astropy\\units\\quantity.py:463: RuntimeWarning: invalid value encountered in remainder\n",
      "  result = super().__array_ufunc__(function, method, *arrays, **kwargs)\n"
     ]
    },
    {
     "name": "stdout",
     "output_type": "stream",
     "text": [
      "377 91.27182732125111\n",
      "380 88.92633423421236\n"
     ]
    },
    {
     "name": "stderr",
     "output_type": "stream",
     "text": [
      "C:\\Anaconda3\\lib\\site-packages\\astropy\\units\\quantity.py:463: RuntimeWarning: invalid value encountered in arccos\n",
      "  result = super().__array_ufunc__(function, method, *arrays, **kwargs)\n",
      "C:\\Anaconda3\\lib\\site-packages\\astropy\\units\\quantity.py:463: RuntimeWarning: invalid value encountered in remainder\n",
      "  result = super().__array_ufunc__(function, method, *arrays, **kwargs)\n"
     ]
    },
    {
     "name": "stdout",
     "output_type": "stream",
     "text": [
      "382 97.9796916781828\n",
      "384 95.37178952642887\n"
     ]
    },
    {
     "name": "stderr",
     "output_type": "stream",
     "text": [
      "C:\\Anaconda3\\lib\\site-packages\\astropy\\units\\quantity.py:463: RuntimeWarning: invalid value encountered in arccos\n",
      "  result = super().__array_ufunc__(function, method, *arrays, **kwargs)\n",
      "C:\\Anaconda3\\lib\\site-packages\\astropy\\units\\quantity.py:463: RuntimeWarning: invalid value encountered in remainder\n",
      "  result = super().__array_ufunc__(function, method, *arrays, **kwargs)\n"
     ]
    },
    {
     "name": "stdout",
     "output_type": "stream",
     "text": [
      "385 97.93686359203868\n",
      "387 95.93427126216142\n"
     ]
    },
    {
     "name": "stderr",
     "output_type": "stream",
     "text": [
      "C:\\Anaconda3\\lib\\site-packages\\astropy\\units\\quantity.py:463: RuntimeWarning: invalid value encountered in arccos\n",
      "  result = super().__array_ufunc__(function, method, *arrays, **kwargs)\n",
      "C:\\Anaconda3\\lib\\site-packages\\astropy\\units\\quantity.py:463: RuntimeWarning: invalid value encountered in remainder\n",
      "  result = super().__array_ufunc__(function, method, *arrays, **kwargs)\n"
     ]
    },
    {
     "name": "stdout",
     "output_type": "stream",
     "text": [
      "389 97.7080798114072\n",
      "390 77.74719423570954\n",
      "391 63.641464769762976\n",
      "392 99.48482012162721\n",
      "393 98.51505203698511\n",
      "395 96.83279581801337\n",
      "396 68.82480269433967\n",
      "399 95.47786151653061\n"
     ]
    },
    {
     "name": "stderr",
     "output_type": "stream",
     "text": [
      "C:\\Anaconda3\\lib\\site-packages\\astropy\\units\\quantity.py:463: RuntimeWarning: invalid value encountered in arccos\n",
      "  result = super().__array_ufunc__(function, method, *arrays, **kwargs)\n",
      "C:\\Anaconda3\\lib\\site-packages\\astropy\\units\\quantity.py:463: RuntimeWarning: invalid value encountered in remainder\n",
      "  result = super().__array_ufunc__(function, method, *arrays, **kwargs)\n"
     ]
    },
    {
     "name": "stdout",
     "output_type": "stream",
     "text": [
      "400 98.73277292662469\n"
     ]
    },
    {
     "name": "stderr",
     "output_type": "stream",
     "text": [
      "C:\\Anaconda3\\lib\\site-packages\\astropy\\units\\quantity.py:463: RuntimeWarning: invalid value encountered in arccos\n",
      "  result = super().__array_ufunc__(function, method, *arrays, **kwargs)\n",
      "C:\\Anaconda3\\lib\\site-packages\\astropy\\units\\quantity.py:463: RuntimeWarning: invalid value encountered in remainder\n",
      "  result = super().__array_ufunc__(function, method, *arrays, **kwargs)\n"
     ]
    },
    {
     "name": "stdout",
     "output_type": "stream",
     "text": [
      "407 95.72706115803997\n",
      "409 98.89256116845789\n",
      "411 92.93283198912945\n",
      "412 90.60792216548872\n"
     ]
    },
    {
     "name": "stderr",
     "output_type": "stream",
     "text": [
      "C:\\Anaconda3\\lib\\site-packages\\astropy\\units\\quantity.py:463: RuntimeWarning: invalid value encountered in arccos\n",
      "  result = super().__array_ufunc__(function, method, *arrays, **kwargs)\n",
      "C:\\Anaconda3\\lib\\site-packages\\astropy\\units\\quantity.py:463: RuntimeWarning: invalid value encountered in remainder\n",
      "  result = super().__array_ufunc__(function, method, *arrays, **kwargs)\n"
     ]
    },
    {
     "name": "stdout",
     "output_type": "stream",
     "text": [
      "415 96.8297834002288\n",
      "416 98.72100734363242\n",
      "417 96.92487551389809\n"
     ]
    },
    {
     "name": "stderr",
     "output_type": "stream",
     "text": [
      "C:\\Anaconda3\\lib\\site-packages\\astropy\\units\\quantity.py:463: RuntimeWarning: invalid value encountered in arccos\n",
      "  result = super().__array_ufunc__(function, method, *arrays, **kwargs)\n",
      "C:\\Anaconda3\\lib\\site-packages\\astropy\\units\\quantity.py:463: RuntimeWarning: invalid value encountered in remainder\n",
      "  result = super().__array_ufunc__(function, method, *arrays, **kwargs)\n"
     ]
    },
    {
     "name": "stdout",
     "output_type": "stream",
     "text": [
      "418 90.81165599372139\n"
     ]
    },
    {
     "name": "stderr",
     "output_type": "stream",
     "text": [
      "C:\\Anaconda3\\lib\\site-packages\\astropy\\units\\quantity.py:463: RuntimeWarning: invalid value encountered in arccos\n",
      "  result = super().__array_ufunc__(function, method, *arrays, **kwargs)\n",
      "C:\\Anaconda3\\lib\\site-packages\\astropy\\units\\quantity.py:463: RuntimeWarning: invalid value encountered in remainder\n",
      "  result = super().__array_ufunc__(function, method, *arrays, **kwargs)\n"
     ]
    },
    {
     "name": "stdout",
     "output_type": "stream",
     "text": [
      "419 98.41232889134129\n",
      "422 93.90865250390094\n",
      "423 96.02128221360168\n"
     ]
    },
    {
     "name": "stderr",
     "output_type": "stream",
     "text": [
      "C:\\Anaconda3\\lib\\site-packages\\astropy\\units\\quantity.py:463: RuntimeWarning: invalid value encountered in arccos\n",
      "  result = super().__array_ufunc__(function, method, *arrays, **kwargs)\n",
      "C:\\Anaconda3\\lib\\site-packages\\astropy\\units\\quantity.py:463: RuntimeWarning: invalid value encountered in remainder\n",
      "  result = super().__array_ufunc__(function, method, *arrays, **kwargs)\n"
     ]
    },
    {
     "name": "stdout",
     "output_type": "stream",
     "text": [
      "424 98.98646019727786\n",
      "426 98.29739387712823\n",
      "428 98.17641966045646\n",
      "435 81.4035990877945\n",
      "436 97.68793923714671\n",
      "437 98.69819824191794\n",
      "438 70.12758739466197\n",
      "440 97.99824546044377\n",
      "443 84.95998705056039\n",
      "446 99.45112629177403\n",
      "448 79.72343665171623\n",
      "449 99.33936972045667\n",
      "450 97.26214360068755\n",
      "452 82.64002315969189\n"
     ]
    },
    {
     "name": "stderr",
     "output_type": "stream",
     "text": [
      "C:\\Anaconda3\\lib\\site-packages\\astropy\\units\\quantity.py:463: RuntimeWarning: invalid value encountered in arccos\n",
      "  result = super().__array_ufunc__(function, method, *arrays, **kwargs)\n",
      "C:\\Anaconda3\\lib\\site-packages\\astropy\\units\\quantity.py:463: RuntimeWarning: invalid value encountered in remainder\n",
      "  result = super().__array_ufunc__(function, method, *arrays, **kwargs)\n"
     ]
    },
    {
     "name": "stdout",
     "output_type": "stream",
     "text": [
      "454 95.93735988992066\n",
      "455 90.93266971996603\n"
     ]
    },
    {
     "name": "stderr",
     "output_type": "stream",
     "text": [
      "C:\\Anaconda3\\lib\\site-packages\\astropy\\units\\quantity.py:463: RuntimeWarning: invalid value encountered in arccos\n",
      "  result = super().__array_ufunc__(function, method, *arrays, **kwargs)\n",
      "C:\\Anaconda3\\lib\\site-packages\\astropy\\units\\quantity.py:463: RuntimeWarning: invalid value encountered in remainder\n",
      "  result = super().__array_ufunc__(function, method, *arrays, **kwargs)\n"
     ]
    },
    {
     "name": "stdout",
     "output_type": "stream",
     "text": [
      "456 83.8036301024114\n"
     ]
    },
    {
     "name": "stderr",
     "output_type": "stream",
     "text": [
      "C:\\Anaconda3\\lib\\site-packages\\astropy\\units\\quantity.py:463: RuntimeWarning: invalid value encountered in arccos\n",
      "  result = super().__array_ufunc__(function, method, *arrays, **kwargs)\n",
      "C:\\Anaconda3\\lib\\site-packages\\astropy\\units\\quantity.py:463: RuntimeWarning: invalid value encountered in remainder\n",
      "  result = super().__array_ufunc__(function, method, *arrays, **kwargs)\n"
     ]
    },
    {
     "name": "stdout",
     "output_type": "stream",
     "text": [
      "457 96.62954980231187\n",
      "460 87.23452121235972\n",
      "462 97.74832096542491\n"
     ]
    },
    {
     "name": "stderr",
     "output_type": "stream",
     "text": [
      "C:\\Anaconda3\\lib\\site-packages\\astropy\\units\\quantity.py:463: RuntimeWarning: invalid value encountered in arccos\n",
      "  result = super().__array_ufunc__(function, method, *arrays, **kwargs)\n",
      "C:\\Anaconda3\\lib\\site-packages\\astropy\\units\\quantity.py:463: RuntimeWarning: invalid value encountered in remainder\n",
      "  result = super().__array_ufunc__(function, method, *arrays, **kwargs)\n"
     ]
    },
    {
     "name": "stdout",
     "output_type": "stream",
     "text": [
      "464 89.24086278937145\n",
      "465 99.62471924371764\n",
      "466 89.00896351728204\n",
      "467 89.14312449759989\n",
      "468 97.4845086191703\n",
      "470 69.1195899561476\n",
      "471 71.89894792473939\n",
      "473 57.214943166076715\n"
     ]
    },
    {
     "name": "stderr",
     "output_type": "stream",
     "text": [
      "C:\\Anaconda3\\lib\\site-packages\\astropy\\units\\quantity.py:463: RuntimeWarning: invalid value encountered in arccos\n",
      "  result = super().__array_ufunc__(function, method, *arrays, **kwargs)\n",
      "C:\\Anaconda3\\lib\\site-packages\\astropy\\units\\quantity.py:463: RuntimeWarning: invalid value encountered in remainder\n",
      "  result = super().__array_ufunc__(function, method, *arrays, **kwargs)\n"
     ]
    },
    {
     "name": "stdout",
     "output_type": "stream",
     "text": [
      "474 95.54837308178502\n",
      "475 96.15554849907836\n"
     ]
    },
    {
     "name": "stderr",
     "output_type": "stream",
     "text": [
      "C:\\Anaconda3\\lib\\site-packages\\astropy\\units\\quantity.py:463: RuntimeWarning: invalid value encountered in arccos\n",
      "  result = super().__array_ufunc__(function, method, *arrays, **kwargs)\n",
      "C:\\Anaconda3\\lib\\site-packages\\astropy\\units\\quantity.py:463: RuntimeWarning: invalid value encountered in remainder\n",
      "  result = super().__array_ufunc__(function, method, *arrays, **kwargs)\n"
     ]
    },
    {
     "name": "stdout",
     "output_type": "stream",
     "text": [
      "476 94.73302089364212\n",
      "477 93.15279528716142\n",
      "479 95.99209883433734\n",
      "480 98.36215411888574\n",
      "481 63.52816874763292\n"
     ]
    },
    {
     "name": "stderr",
     "output_type": "stream",
     "text": [
      "C:\\Anaconda3\\lib\\site-packages\\astropy\\units\\quantity.py:463: RuntimeWarning: invalid value encountered in arccos\n",
      "  result = super().__array_ufunc__(function, method, *arrays, **kwargs)\n",
      "C:\\Anaconda3\\lib\\site-packages\\astropy\\units\\quantity.py:463: RuntimeWarning: invalid value encountered in remainder\n",
      "  result = super().__array_ufunc__(function, method, *arrays, **kwargs)\n"
     ]
    },
    {
     "name": "stdout",
     "output_type": "stream",
     "text": [
      "482 97.95613601922697\n",
      "483 96.5674938185815\n",
      "486 79.93827816168341\n",
      "488 97.27478607354719\n",
      "489 86.3070700561864\n",
      "491 94.54209064640995\n"
     ]
    },
    {
     "name": "stderr",
     "output_type": "stream",
     "text": [
      "C:\\Anaconda3\\lib\\site-packages\\astropy\\units\\quantity.py:463: RuntimeWarning: invalid value encountered in arccos\n",
      "  result = super().__array_ufunc__(function, method, *arrays, **kwargs)\n",
      "C:\\Anaconda3\\lib\\site-packages\\astropy\\units\\quantity.py:463: RuntimeWarning: invalid value encountered in remainder\n",
      "  result = super().__array_ufunc__(function, method, *arrays, **kwargs)\n"
     ]
    },
    {
     "name": "stdout",
     "output_type": "stream",
     "text": [
      "495 95.24785904364857\n"
     ]
    },
    {
     "name": "stderr",
     "output_type": "stream",
     "text": [
      "C:\\Anaconda3\\lib\\site-packages\\astropy\\units\\quantity.py:463: RuntimeWarning: invalid value encountered in arccos\n",
      "  result = super().__array_ufunc__(function, method, *arrays, **kwargs)\n",
      "C:\\Anaconda3\\lib\\site-packages\\astropy\\units\\quantity.py:463: RuntimeWarning: invalid value encountered in remainder\n",
      "  result = super().__array_ufunc__(function, method, *arrays, **kwargs)\n"
     ]
    },
    {
     "name": "stdout",
     "output_type": "stream",
     "text": [
      "498 95.50405425597633\n",
      "499 98.21784255854534\n"
     ]
    },
    {
     "name": "stderr",
     "output_type": "stream",
     "text": [
      "C:\\Anaconda3\\lib\\site-packages\\astropy\\units\\quantity.py:463: RuntimeWarning: invalid value encountered in arccos\n",
      "  result = super().__array_ufunc__(function, method, *arrays, **kwargs)\n",
      "C:\\Anaconda3\\lib\\site-packages\\astropy\\units\\quantity.py:463: RuntimeWarning: invalid value encountered in remainder\n",
      "  result = super().__array_ufunc__(function, method, *arrays, **kwargs)\n"
     ]
    },
    {
     "name": "stdout",
     "output_type": "stream",
     "text": [
      "502 68.59814292986499\n"
     ]
    },
    {
     "name": "stderr",
     "output_type": "stream",
     "text": [
      "C:\\Anaconda3\\lib\\site-packages\\astropy\\units\\quantity.py:463: RuntimeWarning: invalid value encountered in arccos\n",
      "  result = super().__array_ufunc__(function, method, *arrays, **kwargs)\n",
      "C:\\Anaconda3\\lib\\site-packages\\astropy\\units\\quantity.py:463: RuntimeWarning: invalid value encountered in remainder\n",
      "  result = super().__array_ufunc__(function, method, *arrays, **kwargs)\n"
     ]
    },
    {
     "name": "stdout",
     "output_type": "stream",
     "text": [
      "504 96.38728457275123\n",
      "505 96.75969500880012\n",
      "506 98.62739735154005\n",
      "508 90.55167653594572\n",
      "509 92.75316152755134\n",
      "510 83.67735221105053\n",
      "511 87.82784762732373\n",
      "514 44.09480169880141\n"
     ]
    },
    {
     "name": "stderr",
     "output_type": "stream",
     "text": [
      "C:\\Anaconda3\\lib\\site-packages\\astropy\\units\\quantity.py:463: RuntimeWarning: invalid value encountered in arccos\n",
      "  result = super().__array_ufunc__(function, method, *arrays, **kwargs)\n",
      "C:\\Anaconda3\\lib\\site-packages\\astropy\\units\\quantity.py:463: RuntimeWarning: invalid value encountered in remainder\n",
      "  result = super().__array_ufunc__(function, method, *arrays, **kwargs)\n"
     ]
    },
    {
     "name": "stdout",
     "output_type": "stream",
     "text": [
      "515 54.06773428276708\n",
      "516 85.79866890085358\n"
     ]
    },
    {
     "name": "stderr",
     "output_type": "stream",
     "text": [
      "C:\\Anaconda3\\lib\\site-packages\\astropy\\units\\quantity.py:463: RuntimeWarning: invalid value encountered in arccos\n",
      "  result = super().__array_ufunc__(function, method, *arrays, **kwargs)\n",
      "C:\\Anaconda3\\lib\\site-packages\\astropy\\units\\quantity.py:463: RuntimeWarning: invalid value encountered in remainder\n",
      "  result = super().__array_ufunc__(function, method, *arrays, **kwargs)\n"
     ]
    },
    {
     "name": "stdout",
     "output_type": "stream",
     "text": [
      "517 79.90523144378813\n"
     ]
    },
    {
     "name": "stderr",
     "output_type": "stream",
     "text": [
      "C:\\Anaconda3\\lib\\site-packages\\astropy\\units\\quantity.py:463: RuntimeWarning: invalid value encountered in arccos\n",
      "  result = super().__array_ufunc__(function, method, *arrays, **kwargs)\n",
      "C:\\Anaconda3\\lib\\site-packages\\astropy\\units\\quantity.py:463: RuntimeWarning: invalid value encountered in remainder\n",
      "  result = super().__array_ufunc__(function, method, *arrays, **kwargs)\n"
     ]
    },
    {
     "name": "stdout",
     "output_type": "stream",
     "text": [
      "519 97.71559322849714\n",
      "522 90.13160341941571\n",
      "523 48.869521304911025\n",
      "524 92.20150861353859\n",
      "528 77.75973453105036\n",
      "536 97.25140570886649\n",
      "537 98.92979402453584\n",
      "539 98.73338387665244\n",
      "542 91.6351488551217\n"
     ]
    },
    {
     "name": "stderr",
     "output_type": "stream",
     "text": [
      "C:\\Anaconda3\\lib\\site-packages\\astropy\\units\\quantity.py:463: RuntimeWarning: invalid value encountered in arccos\n",
      "  result = super().__array_ufunc__(function, method, *arrays, **kwargs)\n",
      "C:\\Anaconda3\\lib\\site-packages\\astropy\\units\\quantity.py:463: RuntimeWarning: invalid value encountered in remainder\n",
      "  result = super().__array_ufunc__(function, method, *arrays, **kwargs)\n"
     ]
    },
    {
     "name": "stdout",
     "output_type": "stream",
     "text": [
      "543 84.73452872597571\n",
      "544 74.04460476224332\n",
      "547 98.35042979580429\n"
     ]
    },
    {
     "name": "stderr",
     "output_type": "stream",
     "text": [
      "C:\\Anaconda3\\lib\\site-packages\\astropy\\units\\quantity.py:463: RuntimeWarning: invalid value encountered in arccos\n",
      "  result = super().__array_ufunc__(function, method, *arrays, **kwargs)\n",
      "C:\\Anaconda3\\lib\\site-packages\\astropy\\units\\quantity.py:463: RuntimeWarning: invalid value encountered in remainder\n",
      "  result = super().__array_ufunc__(function, method, *arrays, **kwargs)\n"
     ]
    },
    {
     "name": "stdout",
     "output_type": "stream",
     "text": [
      "548 82.0931013307253\n",
      "549 94.49288629837302\n",
      "550 64.41970019350349\n",
      "558 98.5205220735114\n",
      "563 92.79642069976138\n",
      "565 97.91118174603963\n",
      "566 77.82781436376463\n",
      "567 98.21565679059935\n"
     ]
    },
    {
     "name": "stderr",
     "output_type": "stream",
     "text": [
      "C:\\Anaconda3\\lib\\site-packages\\astropy\\units\\quantity.py:463: RuntimeWarning: invalid value encountered in arccos\n",
      "  result = super().__array_ufunc__(function, method, *arrays, **kwargs)\n",
      "C:\\Anaconda3\\lib\\site-packages\\astropy\\units\\quantity.py:463: RuntimeWarning: invalid value encountered in remainder\n",
      "  result = super().__array_ufunc__(function, method, *arrays, **kwargs)\n"
     ]
    },
    {
     "name": "stdout",
     "output_type": "stream",
     "text": [
      "569 97.25308415853813\n",
      "572 63.17663896879184\n",
      "575 97.34486630374131\n",
      "578 98.92947727849149\n",
      "579 97.1655048730891\n",
      "580 97.13956347689069\n",
      "583 98.23037141304451\n",
      "584 91.16857748936016\n",
      "587 48.29238065892777\n"
     ]
    },
    {
     "name": "stderr",
     "output_type": "stream",
     "text": [
      "C:\\Anaconda3\\lib\\site-packages\\astropy\\units\\quantity.py:463: RuntimeWarning: invalid value encountered in arccos\n",
      "  result = super().__array_ufunc__(function, method, *arrays, **kwargs)\n",
      "C:\\Anaconda3\\lib\\site-packages\\astropy\\units\\quantity.py:463: RuntimeWarning: invalid value encountered in remainder\n",
      "  result = super().__array_ufunc__(function, method, *arrays, **kwargs)\n"
     ]
    },
    {
     "name": "stdout",
     "output_type": "stream",
     "text": [
      "588 85.96648959052708\n",
      "593 97.71297916509091\n",
      "595 90.86142377492995\n",
      "596 97.90819082985509\n",
      "597 97.28255861936063\n",
      "LB: 91.22405326525785\n"
     ]
    }
   ],
   "source": [
    "# Validation\n",
    "import astropy.units as u\n",
    "trainSize = 0.01\n",
    "smp = []\n",
    "for index, ID in tqdm_notebook(enumerate(test['sat_id'].unique())):\n",
    "    dataTrain = train[train['sat_id'] == ID]\n",
    "    size = 1\n",
    "    dataTest = dataTrain.iloc[size:]\n",
    "    dataTrain = dataTrain.iloc[:size]\n",
    "\n",
    "    dt = dataTrain['epoch'].iloc[-1]\n",
    "    vec = dataTrain.iloc[-1, 3:9]\n",
    "    xx,yy,zz,vx,vy,vz = vec[0], vec[1], vec[2], vec[3], vec[4], vec[5]\n",
    "    iss_r = np.array([xx,yy,zz,]) * astropy.units.km\n",
    "    iss_v = np.array([vx,vy,vz,]) * astropy.units.km/astropy.units.s\n",
    "    iss_t = astropy.time.Time(dt)\n",
    "    frame = 'ECI'\n",
    "    body = plyades.bodies.EARTH\n",
    "    iss = plyades.State(iss_r, iss_v, iss_t, frame, body)\n",
    "\n",
    "    @property\n",
    "    def elements(self):\n",
    "        return kepler.elements(self.body.mu, self.r, self.v)\n",
    "\n",
    "    @iss.gravity\n",
    "    def newton_j2(f, t, y, params):\n",
    "        r = np.sqrt(np.square(y[:3]).sum())\n",
    "        mu = params['body'].mu.value\n",
    "        j2 = params['body'].j2\n",
    "        r_m = params['body'].mean_radius.value\n",
    "        rx, ry, rz = y[:3]\n",
    "        f[:3] += y[3:]\n",
    "        pj = -3/2*mu*j2*r_m**2/r**5\n",
    "        f[3] += -mu*rx/r**3 + pj*rx*(1-5*rz**2/r**2)\n",
    "        f[4] += -mu*ry/r**3 + pj*ry*(1-5*rz**2/r**2)\n",
    "        f[5] += -mu*rz/r**3 + pj*rz*(3-5*rz**2/r**2)\n",
    "\n",
    "\n",
    "    frac = (pd.to_datetime(dataTest['epoch']).iloc[-1] - pd.to_datetime(dataTrain['epoch']).iloc[-1]) / pd.Timedelta('360 days')\n",
    "    try:\n",
    "        j2_orbit = iss.propagate(dt = frac * units.year, max_step = 100000, interpolate=50*dataTest.shape[0])\n",
    "    except:\n",
    "        try:\n",
    "            j2_orbit = iss.propagate(dt = frac * units.year, max_step = 1000, interpolate=50*dataTest.shape[0])\n",
    "        except:\n",
    "            j2_orbit = iss.propagate(dt = frac * units.year, max_step = 300, interpolate=50*dataTest.shape[0])\n",
    "    \n",
    "    timesSim = pd.DataFrame(np.asarray(j2_orbit.table['epoch'])).iloc[:, 0]\n",
    "    timesTest = dataTest['epoch']\n",
    "    \n",
    "    idx = findClosest(timesTest, timesSim)\n",
    "    predictions = pd.DataFrame(np.asarray(j2_orbit.table['rx', 'ry', 'rz', 'vx', 'vy', 'vz'])).loc[idx, :]\n",
    "\n",
    "    real = dataTest[['x', 'y', 'z', 'Vx', 'Vy', 'Vz']].values\n",
    "    simulationTrain = simulationTrain.append(dataTest[simulationTrain.columns])\n",
    "    simulationTrain.loc[dataTest.index, 1:] = predictions.values\n",
    "    smp.append(100*(1 - np.mean(smape(real, predictions))))\n",
    "    print(ID, smp[-1])\n",
    "print(f'LB: {np.mean(smp)}')"
   ]
  },
  {
   "cell_type": "code",
   "execution_count": 16,
   "metadata": {},
   "outputs": [],
   "source": [
    "# saving train predictions for the 1st stage (1 - trainSize will be the 2nd stage training set)\n",
    "simulationTrain = simulationTrain.reset_index(drop = True)\n",
    "simulationTrain.to_csv('simulationTrain.csv', index = None)"
   ]
  },
  {
   "cell_type": "code",
   "execution_count": 10,
   "metadata": {},
   "outputs": [
    {
     "data": {
      "application/vnd.jupyter.widget-view+json": {
       "model_id": "db173eed1b63410c873310de449601b1",
       "version_major": 2,
       "version_minor": 0
      },
      "text/plain": [
       "HBox(children=(IntProgress(value=1, bar_style='info', max=1), HTML(value='')))"
      ]
     },
     "metadata": {},
     "output_type": "display_data"
    }
   ],
   "source": [
    "# Prediction for the test set\n",
    "for index, ID in tqdm_notebook(enumerate(test['sat_id'].unique())):\n",
    "    dataTrain = train[train['sat_id'] == ID]\n",
    "    dataTest = test[test['sat_id'] == ID]\n",
    "\n",
    "    dt = dataTrain['epoch'].iloc[-1]\n",
    "    vec = dataTrain.iloc[-1, 3:9]\n",
    "    xx,yy,zz,vx,vy,vz = vec[0], vec[1], vec[2], vec[3], vec[4], vec[5]\n",
    "    iss_r = np.array([xx,yy,zz,]) * astropy.units.km\n",
    "    iss_v = np.array([vx,vy,vz,]) * astropy.units.km/astropy.units.s\n",
    "    iss_t = astropy.time.Time(dt)\n",
    "    frame = 'ECI'\n",
    "    body = plyades.bodies.EARTH\n",
    "    iss = plyades.State(iss_r, iss_v, iss_t, frame, body)\n",
    "\n",
    "    @property\n",
    "    def elements(self):\n",
    "        return kepler.elements(self.body.mu, self.r, self.v)\n",
    "\n",
    "    @iss.gravity\n",
    "    def newton_j2(f, t, y, params):\n",
    "        r = np.sqrt(np.square(y[:3]).sum())\n",
    "        mu = params['body'].mu.value\n",
    "        j2 = params['body'].j2\n",
    "        r_m = params['body'].mean_radius.value\n",
    "        rx, ry, rz = y[:3]\n",
    "        f[:3] += y[3:]\n",
    "        pj = -3/2*mu*j2*r_m**2/r**5\n",
    "        f[3] += -mu*rx/r**3 + pj*rx*(1-5*rz**2/r**2)\n",
    "        f[4] += -mu*ry/r**3 + pj*ry*(1-5*rz**2/r**2)\n",
    "        f[5] += -mu*rz/r**3 + pj*rz*(3-5*rz**2/r**2)\n",
    "\n",
    "    frac = (pd.to_datetime(dataTest['epoch']).iloc[-1] - pd.to_datetime(dataTrain['epoch']).iloc[-1]) / pd.Timedelta('360 days')\n",
    "    try:\n",
    "        j2_orbit = iss.propagate(dt = frac * units.year, max_step =100000, interpolate=100*dataTest.shape[0])\n",
    "    except:\n",
    "        try:\n",
    "            j2_orbit = iss.propagate(dt = frac * units.year, max_step =1000, interpolate=100*dataTest.shape[0])\n",
    "        except:\n",
    "            j2_orbit = iss.propagate(dt = frac * units.year, max_step =300, interpolate=100*dataTest.shape[0])\n",
    "            \n",
    "    \n",
    "    timesSim = pd.DataFrame(np.asarray(j2_orbit.table['epoch'])).iloc[:, 0]\n",
    "    timesTest = dataTest['epoch']\n",
    "    \n",
    "    idx = findClosest(timesTest, timesSim)\n",
    "    predictions = pd.DataFrame(np.asarray(j2_orbit.table['rx', 'ry', 'rz', 'vx', 'vy', 'vz'])).loc[idx, :]\n",
    "\n",
    "    submission.loc[dataTest.index, 1:] = predictions.values"
   ]
  },
  {
   "cell_type": "code",
   "execution_count": 11,
   "metadata": {},
   "outputs": [],
   "source": [
    "# saving test predictions for the 1st stage\n",
    "submission.to_csv('simulationTest.csv', index = None)"
   ]
  },
  {
   "cell_type": "code",
   "execution_count": null,
   "metadata": {},
   "outputs": [],
   "source": []
  }
 ],
 "metadata": {
  "kernelspec": {
   "display_name": "Python 3",
   "language": "python",
   "name": "python3"
  },
  "language_info": {
   "codemirror_mode": {
    "name": "ipython",
    "version": 3
   },
   "file_extension": ".py",
   "mimetype": "text/x-python",
   "name": "python",
   "nbconvert_exporter": "python",
   "pygments_lexer": "ipython3",
   "version": "3.6.6"
  }
 },
 "nbformat": 4,
 "nbformat_minor": 2
}
