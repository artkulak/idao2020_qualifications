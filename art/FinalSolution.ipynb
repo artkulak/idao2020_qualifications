{
 "cells": [
  {
   "cell_type": "markdown",
   "metadata": {},
   "source": [
    "### Solution outline:\n",
    "We split training data on 50/50 %. We use last point of 50% data to predict the orbit of each satellite for the following 50% of train data. We also use very last point of train data to predict the orbit of each satellite for test data. We predict on the 1st stage using pure phisics with no ML using plyades library. "
   ]
  },
  {
   "cell_type": "code",
   "execution_count": 1,
   "metadata": {},
   "outputs": [],
   "source": [
    "import pandas as pd\n",
    "import numpy as np\n",
    "from tqdm import tqdm_notebook\n",
    "\n",
    "# libs for 1st stage simulation\n",
    "import plyades\n",
    "import astropy\n",
    "from astropy import units as units\n",
    "\n",
    "\n",
    "PATH = '../'"
   ]
  },
  {
   "cell_type": "code",
   "execution_count": 2,
   "metadata": {},
   "outputs": [
    {
     "name": "stdout",
     "output_type": "stream",
     "text": [
      "Wall time: 2.62 s\n"
     ]
    }
   ],
   "source": [
    "%%time\n",
    "train = pd.read_csv(PATH + 'train.csv')\n",
    "test = pd.read_csv(PATH + 'Track 1/test.csv')\n",
    "submission = pd.read_csv(PATH + 'Track 1/submission.csv')"
   ]
  },
  {
   "cell_type": "markdown",
   "metadata": {},
   "source": [
    "### Simulation of orbit"
   ]
  },
  {
   "cell_type": "code",
   "execution_count": 4,
   "metadata": {},
   "outputs": [],
   "source": [
    "def findClosest(timesTest, timesSim):\n",
    "    timesTest = timesTest.apply(lambda x: pd.to_datetime(x))\n",
    "    timesSim = timesSim.apply(lambda x: pd.to_datetime(str(x)))\n",
    "    indexes = []\n",
    "    for time in timesTest.values:\n",
    "        arg = np.argmin(np.abs(timesSim.values - time))\n",
    "        indexes.append(timesSim.index[arg])\n",
    "    return indexes"
   ]
  },
  {
   "cell_type": "code",
   "execution_count": null,
   "metadata": {},
   "outputs": [
    {
     "data": {
      "application/vnd.jupyter.widget-view+json": {
       "model_id": "ec2a4072079249399aaf868ff38c2b7a",
       "version_major": 2,
       "version_minor": 0
      },
      "text/plain": [
       "HBox(children=(IntProgress(value=1, bar_style='info', max=1), HTML(value='')))"
      ]
     },
     "metadata": {},
     "output_type": "display_data"
    }
   ],
   "source": [
    "# Prediction for the test set\n",
    "for index, ID in tqdm_notebook(enumerate(test['sat_id'].unique())):\n",
    "    dataTrain = train[train['sat_id'] == ID]\n",
    "    dataTest = test[test['sat_id'] == ID]\n",
    "\n",
    "    dt = dataTrain['epoch'].iloc[-1]\n",
    "    vec = dataTrain.iloc[-1, 3:9]\n",
    "    xx,yy,zz,vx,vy,vz = vec[0], vec[1], vec[2], vec[3], vec[4], vec[5]\n",
    "    iss_r = np.array([xx,yy,zz,]) * astropy.units.km\n",
    "    iss_v = np.array([vx,vy,vz,]) * astropy.units.km/astropy.units.s\n",
    "    iss_t = astropy.time.Time(dt)\n",
    "    frame = 'ECI'\n",
    "    body = plyades.bodies.EARTH\n",
    "    iss = plyades.State(iss_r, iss_v, iss_t, frame, body)\n",
    "\n",
    "    @property\n",
    "    def elements(self):\n",
    "        return kepler.elements(self.body.mu, self.r, self.v)\n",
    "\n",
    "    @iss.gravity\n",
    "    def newton_j2(f, t, y, params):\n",
    "        r = np.sqrt(np.square(y[:3]).sum())\n",
    "        mu = params['body'].mu.value\n",
    "        j2 = params['body'].j2\n",
    "        r_m = params['body'].mean_radius.value\n",
    "        rx, ry, rz = y[:3]\n",
    "        f[:3] += y[3:]\n",
    "        pj = -3/2*mu*j2*r_m**2/r**5\n",
    "        f[3] += -mu*rx/r**3 + pj*rx*(1-5*rz**2/r**2)\n",
    "        f[4] += -mu*ry/r**3 + pj*ry*(1-5*rz**2/r**2)\n",
    "        f[5] += -mu*rz/r**3 + pj*rz*(3-5*rz**2/r**2)\n",
    "\n",
    "    frac = (pd.to_datetime(dataTest['epoch']).iloc[-1] - pd.to_datetime(dataTrain['epoch']).iloc[-1]) / pd.Timedelta('360 days')\n",
    "    try:\n",
    "        j2_orbit = iss.propagate(dt = frac * units.year, max_step = 100000, interpolate=300*dataTest.shape[0])\n",
    "    except:\n",
    "        try:\n",
    "            j2_orbit = iss.propagate(dt = frac * units.year, max_step = 10000, interpolate=300*dataTest.shape[0])\n",
    "        except:\n",
    "            try:\n",
    "                j2_orbit = iss.propagate(dt = frac * units.year, max_step = 1000, interpolate=300*dataTest.shape[0])\n",
    "            except:\n",
    "                j2_orbit = iss.propagate(dt = frac * units.year, max_step = 300, interpolate=300*dataTest.shape[0])\n",
    "            \n",
    "    \n",
    "    timesSim = pd.DataFrame(np.asarray(j2_orbit.table['epoch'])).iloc[:, 0]\n",
    "    timesTest = dataTest['epoch']\n",
    "    \n",
    "    idx = findClosest(timesTest, timesSim)\n",
    "    predictions = pd.DataFrame(np.asarray(j2_orbit.table['rx', 'ry', 'rz', 'vx', 'vy', 'vz'])).loc[idx, :]\n",
    "\n",
    "    submission.loc[dataTest.index, 1:] = predictions.values"
   ]
  },
  {
   "cell_type": "code",
   "execution_count": 11,
   "metadata": {},
   "outputs": [],
   "source": [
    "# saving test predictions for the 1st stage\n",
    "submission.to_csv('simulationTest.csv', index = None)"
   ]
  },
  {
   "cell_type": "code",
   "execution_count": null,
   "metadata": {},
   "outputs": [],
   "source": []
  }
 ],
 "metadata": {
  "kernelspec": {
   "display_name": "Python 3",
   "language": "python",
   "name": "python3"
  },
  "language_info": {
   "codemirror_mode": {
    "name": "ipython",
    "version": 3
   },
   "file_extension": ".py",
   "mimetype": "text/x-python",
   "name": "python",
   "nbconvert_exporter": "python",
   "pygments_lexer": "ipython3",
   "version": "3.6.6"
  }
 },
 "nbformat": 4,
 "nbformat_minor": 2
}
