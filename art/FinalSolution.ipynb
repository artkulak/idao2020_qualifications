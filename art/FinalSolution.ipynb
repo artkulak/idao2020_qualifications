{
 "cells": [
  {
   "cell_type": "markdown",
   "metadata": {},
   "source": [
    "### Solution outline:\n",
    "The solution is based on pure phisics and is using Plyades library as the main component. We take the last point of the training set of each satellite (w.r.t time) and  run the simulation using Plyades library, which takes into account the Earth gravity. While simulating we simulate data until the last point of the test set and then for each time point in the test set we take the closest point of the simulated data by time"
   ]
  },
  {
   "cell_type": "code",
   "execution_count": 7,
   "metadata": {},
   "outputs": [],
   "source": [
    "import pandas as pd\n",
    "import numpy as np\n",
    "from tqdm import tqdm_notebook\n",
    "\n",
    "import plyades\n",
    "import astropy\n",
    "from astropy import units as units\n",
    "\n",
    "\n",
    "PATH = '../input/'"
   ]
  },
  {
   "cell_type": "code",
   "execution_count": 8,
   "metadata": {},
   "outputs": [
    {
     "name": "stdout",
     "output_type": "stream",
     "text": [
      "Wall time: 2.54 s\n"
     ]
    }
   ],
   "source": [
    "%%time\n",
    "train = pd.read_csv(PATH + 'train.csv')\n",
    "test = pd.read_csv(PATH + 'test.csv')\n",
    "submission = pd.read_csv(PATH + 'submission.csv')"
   ]
  },
  {
   "cell_type": "markdown",
   "metadata": {},
   "source": [
    "### Simulation of orbit"
   ]
  },
  {
   "cell_type": "code",
   "execution_count": 3,
   "metadata": {},
   "outputs": [],
   "source": [
    "def findClosest(timesTest, timesSim):\n",
    "    timesTest = timesTest.apply(lambda x: pd.to_datetime(x))\n",
    "    timesSim = timesSim.apply(lambda x: pd.to_datetime(str(x)))\n",
    "    indexes = []\n",
    "    for time in timesTest.values:\n",
    "        arg = np.argmin(np.abs(timesSim.values - time))\n",
    "        indexes.append(timesSim.index[arg])\n",
    "    return indexes"
   ]
  },
  {
   "cell_type": "code",
   "execution_count": 5,
   "metadata": {},
   "outputs": [],
   "source": [
    "# Prediction for the test set\n",
    "for index, ID in tqdm_notebook(enumerate(test['sat_id'].unique())):\n",
    "    dataTrain = train[train['sat_id'] == ID]\n",
    "    dataTest = test[test['sat_id'] == ID]\n",
    "\n",
    "    dt = dataTrain['epoch'].iloc[-1]\n",
    "    vec = dataTrain.iloc[-1, 3:9]\n",
    "    \n",
    "    # here we define all the necessary data for the simulation\n",
    "    xx,yy,zz,vx,vy,vz = vec[0], vec[1], vec[2], vec[3], vec[4], vec[5]\n",
    "    iss_r = np.array([xx,yy,zz,]) * astropy.units.km\n",
    "    iss_v = np.array([vx,vy,vz,]) * astropy.units.km/astropy.units.s\n",
    "    iss_t = astropy.time.Time(dt)\n",
    "    frame = 'ECI'\n",
    "    body = plyades.bodies.EARTH\n",
    "    iss = plyades.State(iss_r, iss_v, iss_t, frame, body)\n",
    "\n",
    "    @property\n",
    "    def elements(self):\n",
    "        return kepler.elements(self.body.mu, self.r, self.v)\n",
    "\n",
    "    @iss.gravity\n",
    "    def newton_j2(f, t, y, params):\n",
    "        r = np.sqrt(np.square(y[:3]).sum())\n",
    "        mu = params['body'].mu.value\n",
    "        j2 = params['body'].j2\n",
    "        r_m = params['body'].mean_radius.value\n",
    "        rx, ry, rz = y[:3]\n",
    "        f[:3] += y[3:]\n",
    "        pj = -3/2*mu*j2*r_m**2/r**5\n",
    "        f[3] += -mu*rx/r**3 + pj*rx*(1-5*rz**2/r**2)\n",
    "        f[4] += -mu*ry/r**3 + pj*ry*(1-5*rz**2/r**2)\n",
    "        f[5] += -mu*rz/r**3 + pj*rz*(3-5*rz**2/r**2)\n",
    "    \n",
    "    # frac is used to simulate only until the last point of the test set for the satellite\n",
    "    frac = (pd.to_datetime(dataTest['epoch']).iloc[-1] - pd.to_datetime(dataTrain['epoch']).iloc[-1]) / pd.Timedelta('360 days')\n",
    "    try:\n",
    "        # interpolate - number of points to output\n",
    "        j2_orbit = iss.propagate(dt = frac * units.year, max_step = 100000, interpolate=200*dataTest.shape[0])\n",
    "    except:\n",
    "        try:\n",
    "            j2_orbit = iss.propagate(dt = frac * units.year, max_step = 10000, interpolate=200*dataTest.shape[0])\n",
    "        except:\n",
    "            try:\n",
    "                j2_orbit = iss.propagate(dt = frac * units.year, max_step = 1000, interpolate=200*dataTest.shape[0])\n",
    "            except:\n",
    "                j2_orbit = iss.propagate(dt = frac * units.year, max_step = 300, interpolate=200*dataTest.shape[0])\n",
    "            \n",
    "    \n",
    "    timesSim = pd.DataFrame(np.asarray(j2_orbit.table['epoch'])).iloc[:, 0]\n",
    "    timesTest = dataTest['epoch']\n",
    "    \n",
    "    # finding the closest point from simulation to the real test times\n",
    "    idx = findClosest(timesTest, timesSim)\n",
    "    predictions = pd.DataFrame(np.asarray(j2_orbit.table['rx', 'ry', 'rz', 'vx', 'vy', 'vz'])).loc[idx, :]\n",
    "\n",
    "    submission.loc[dataTest.index, 1:] = predictions.values"
   ]
  },
  {
   "cell_type": "code",
   "execution_count": 11,
   "metadata": {},
   "outputs": [],
   "source": [
    "submission.to_csv('submission.csv', index = None)"
   ]
  }
 ],
 "metadata": {
  "kernelspec": {
   "display_name": "Python 3",
   "language": "python",
   "name": "python3"
  },
  "language_info": {
   "codemirror_mode": {
    "name": "ipython",
    "version": 3
   },
   "file_extension": ".py",
   "mimetype": "text/x-python",
   "name": "python",
   "nbconvert_exporter": "python",
   "pygments_lexer": "ipython3",
   "version": "3.6.6"
  }
 },
 "nbformat": 4,
 "nbformat_minor": 2
}
