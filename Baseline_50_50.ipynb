{
 "cells": [
  {
   "cell_type": "code",
   "execution_count": 1,
   "metadata": {},
   "outputs": [],
   "source": [
    "import pandas as pd\n",
    "import numpy as np\n",
    "import matplotlib.pyplot as plt\n",
    "from mpl_toolkits import mplot3d\n",
    "import seaborn as sns\n",
    "import gc\n",
    "from tqdm import tqdm\n",
    "\n",
    "%matplotlib inline\n",
    "\n",
    "PATH = '../'"
   ]
  },
  {
   "cell_type": "code",
   "execution_count": 2,
   "metadata": {},
   "outputs": [
    {
     "name": "stdout",
     "output_type": "stream",
     "text": [
      "Wall time: 2.13 s\n"
     ]
    }
   ],
   "source": [
    "%%time\n",
    "train = pd.read_csv(PATH + 'train.csv')\n",
    "test = pd.read_csv(PATH + 'Track 1/test.csv')\n",
    "submission = pd.read_csv(PATH + 'Track 1/submission.csv')"
   ]
  },
  {
   "cell_type": "markdown",
   "metadata": {},
   "source": [
    "### LB Score Calc"
   ]
  },
  {
   "cell_type": "markdown",
   "metadata": {},
   "source": [
    "Для подсчета скора просто используйте функцию getLBScore"
   ]
  },
  {
   "cell_type": "code",
   "execution_count": 3,
   "metadata": {},
   "outputs": [],
   "source": [
    "def smape(satellite_predicted_values, satellite_true_values): \n",
    "    # the division, addition and subtraction are pointwise \n",
    "    return np.mean(np.abs(satellite_predicted_values - satellite_true_values) / (np.abs(satellite_predicted_values) + np.abs(satellite_true_values)))"
   ]
  },
  {
   "cell_type": "code",
   "execution_count": 4,
   "metadata": {},
   "outputs": [],
   "source": [
    "def getLBScore(real, predicted):\n",
    "    smp = []\n",
    "    for sat_id in real['sat_id'].unique():\n",
    "        rv = real[real['sat_id'] == sat_id][['x', 'y', 'z', 'Vx', 'Vy', 'Vz']].values\n",
    "        sym = predicted[predicted['sat_id'] == sat_id][['x', 'y', 'z', 'Vx', 'Vy', 'Vz']].values\n",
    "        smp.append(smape(sym.ravel(), rv.ravel()))\n",
    "    meanSmape = np.mean(smp)\n",
    "    lbScore = 100 * (1 - meanSmape)\n",
    "    print('Mean SMAPE ', meanSmape, '; LB score ', lbScore)"
   ]
  },
  {
   "cell_type": "code",
   "execution_count": 5,
   "metadata": {},
   "outputs": [
    {
     "name": "stdout",
     "output_type": "stream",
     "text": [
      "Mean SMAPE  0.15090231392579082 ; LB score  84.90976860742092\n",
      "Wall time: 2.22 s\n"
     ]
    }
   ],
   "source": [
    "%%time\n",
    "# LB ~ 66\n",
    "# Скор при использовании симулирующих значений на трейне как предсказаний\n",
    "trainSym = train.copy()\n",
    "trainSym.iloc[:, 3:9] = trainSym.iloc[:, 9:].values\n",
    "getLBScore(train, trainSym)"
   ]
  },
  {
   "cell_type": "code",
   "execution_count": 6,
   "metadata": {},
   "outputs": [
    {
     "name": "stdout",
     "output_type": "stream",
     "text": [
      "Mean SMAPE  0.14887327646453175 ; LB score  85.11267235354683\n",
      "Wall time: 4.05 s\n"
     ]
    }
   ],
   "source": [
    "%%time\n",
    "# Скор при использовании симулирующих значений на трейне как предсказаний только для айдишников из теста\n",
    "trainTestSatellites = train['sat_id'].unique()[[True if sat_id in test['sat_id'].unique() else False for sat_id in train['sat_id'].unique()]]\n",
    "trainTestData = train.loc[[True if sat_id in trainTestSatellites else False for sat_id in train['sat_id'].values], :]\n",
    "\n",
    "trainSym = trainTestData.copy()\n",
    "trainSym.iloc[:, 3:9] = trainSym.iloc[:, 9:].values\n",
    "\n",
    "getLBScore(trainTestData, trainSym)"
   ]
  },
  {
   "cell_type": "code",
   "execution_count": 7,
   "metadata": {},
   "outputs": [
    {
     "name": "stdout",
     "output_type": "stream",
     "text": [
      "Mean SMAPE  0.0 ; LB score  100.0\n",
      "Wall time: 1.83 s\n"
     ]
    }
   ],
   "source": [
    "%%time\n",
    "# Скор при полностью правильном предсказании\n",
    "getLBScore(train, train)"
   ]
  },
  {
   "cell_type": "code",
   "execution_count": 8,
   "metadata": {},
   "outputs": [
    {
     "name": "stdout",
     "output_type": "stream",
     "text": [
      "Mean SMAPE  0.8808432094280598 ; LB score  11.915679057194017\n",
      "Wall time: 2.38 s\n"
     ]
    }
   ],
   "source": [
    "%%time\n",
    "# Скор при рандомном предсказании\n",
    "trainRnd = train.copy()\n",
    "trainRnd.iloc[:, 3:9] = np.random.rand(*train.iloc[:, 3:9].shape)\n",
    "getLBScore(train, trainRnd)"
   ]
  },
  {
   "cell_type": "code",
   "execution_count": 9,
   "metadata": {},
   "outputs": [
    {
     "name": "stdout",
     "output_type": "stream",
     "text": [
      "Mean SMAPE  0.7728933735292876 ; LB score  22.710662647071246\n"
     ]
    }
   ],
   "source": [
    "# LB ~ 32\n",
    "# Половинку значений зануляем\n",
    "trainSym = train.copy()\n",
    "trainSym.iloc[:, 3:9] = trainSym.iloc[:, 9:].values\n",
    "trainSym.iloc[157810:, 3:9] = 0\n",
    "getLBScore(train, trainSym)"
   ]
  },
  {
   "cell_type": "markdown",
   "metadata": {},
   "source": [
    "### Model training"
   ]
  },
  {
   "cell_type": "code",
   "execution_count": 10,
   "metadata": {},
   "outputs": [],
   "source": [
    "training_columns = ['epoch', 'sat_id', 'x_sim', 'y_sim', 'z_sim', 'Vx_sim', 'Vy_sim', 'Vz_sim']\n",
    "prediction_columns = ['x','y','z','Vx', 'Vy', 'Vz']\n",
    "X = train.loc[:, training_columns]\n",
    "y = train.loc[:, prediction_columns]\n",
    "Xtest = test.loc[:, training_columns]"
   ]
  },
  {
   "cell_type": "code",
   "execution_count": 11,
   "metadata": {},
   "outputs": [],
   "source": [
    "def extractTimeFeats(data):\n",
    "    timeFeats = data['epoch'].apply(lambda x: str(x).split('T')[1].split('.')[0].split(':')).values\n",
    "    h,m,s = [],[],[]\n",
    "    for feat in timeFeats:\n",
    "        h.append(feat[0]); m.append(feat[1]); s.append(feat[2])\n",
    "    return h,m,s"
   ]
  },
  {
   "cell_type": "code",
   "execution_count": 12,
   "metadata": {},
   "outputs": [],
   "source": [
    "h,m,s = extractTimeFeats(X)\n",
    "X.loc[:, 'h'] = list(map(int, h)); X.loc[:, 'm'] = list(map(int, m)); X.loc[:, 's'] =list(map(int, s))\n",
    "X.drop(columns = 'epoch', inplace = True)\n",
    "\n",
    "h,m,s = extractTimeFeats(Xtest)\n",
    "Xtest.loc[:, 'h'] = list(map(int, h)); Xtest.loc[:, 'm'] = list(map(int, m)); Xtest.loc[:, 's'] = list(map(int, s))\n",
    "Xtest.drop(columns = 'epoch', inplace = True)"
   ]
  },
  {
   "cell_type": "code",
   "execution_count": 13,
   "metadata": {},
   "outputs": [],
   "source": [
    "trainTestSatellites = X['sat_id'].unique()[[True if sat_id in Xtest['sat_id'].unique() else False for sat_id in X['sat_id'].unique()]]\n",
    "trainTestData = X.loc[[True if sat_id in trainTestSatellites else False for sat_id in X['sat_id'].values], :]"
   ]
  },
  {
   "cell_type": "code",
   "execution_count": 13,
   "metadata": {},
   "outputs": [
    {
     "data": {
      "text/plain": [
       "(0.5150374204507687, 0.2315805832174202, 0.2533819963318111)"
      ]
     },
     "execution_count": 13,
     "metadata": {},
     "output_type": "execute_result"
    }
   ],
   "source": [
    "val_data = X.loc[[True if sat_id in trainTestSatellites[:150] else False for sat_id in X['sat_id'].values], :]\n",
    "hold_data = X.loc[[True if sat_id in trainTestSatellites[150:] else False for sat_id in X['sat_id'].values], :]\n",
    "train_data = X.iloc[[idx for idx in X.index if (idx not in val_data.index and idx not in hold_data.index)], :]\n",
    "len(train_data) / len(X), len(val_data) / len(X), len(hold_data) / len(X)"
   ]
  },
  {
   "cell_type": "code",
   "execution_count": 26,
   "metadata": {},
   "outputs": [
    {
     "data": {
      "text/html": [
       "<div>\n",
       "<style scoped>\n",
       "    .dataframe tbody tr th:only-of-type {\n",
       "        vertical-align: middle;\n",
       "    }\n",
       "\n",
       "    .dataframe tbody tr th {\n",
       "        vertical-align: top;\n",
       "    }\n",
       "\n",
       "    .dataframe thead th {\n",
       "        text-align: right;\n",
       "    }\n",
       "</style>\n",
       "<table border=\"1\" class=\"dataframe\">\n",
       "  <thead>\n",
       "    <tr style=\"text-align: right;\">\n",
       "      <th></th>\n",
       "      <th>sat_id</th>\n",
       "      <th>x_sim</th>\n",
       "      <th>y_sim</th>\n",
       "      <th>z_sim</th>\n",
       "      <th>Vx_sim</th>\n",
       "      <th>Vy_sim</th>\n",
       "      <th>Vz_sim</th>\n",
       "      <th>h</th>\n",
       "      <th>m</th>\n",
       "      <th>s</th>\n",
       "    </tr>\n",
       "  </thead>\n",
       "  <tbody>\n",
       "    <tr>\n",
       "      <td>0</td>\n",
       "      <td>0</td>\n",
       "      <td>-8843.131454</td>\n",
       "      <td>13138.221690</td>\n",
       "      <td>-20741.615306</td>\n",
       "      <td>-0.907527</td>\n",
       "      <td>-3.804930</td>\n",
       "      <td>-2.024133</td>\n",
       "      <td>0</td>\n",
       "      <td>0</td>\n",
       "      <td>0</td>\n",
       "    </tr>\n",
       "    <tr>\n",
       "      <td>1</td>\n",
       "      <td>0</td>\n",
       "      <td>-10555.500066</td>\n",
       "      <td>1649.289367</td>\n",
       "      <td>-24473.089556</td>\n",
       "      <td>-0.303704</td>\n",
       "      <td>-4.269816</td>\n",
       "      <td>-0.616468</td>\n",
       "      <td>0</td>\n",
       "      <td>46</td>\n",
       "      <td>43</td>\n",
       "    </tr>\n",
       "    <tr>\n",
       "      <td>2</td>\n",
       "      <td>0</td>\n",
       "      <td>-10571.858472</td>\n",
       "      <td>-10145.939908</td>\n",
       "      <td>-24271.169776</td>\n",
       "      <td>0.274880</td>\n",
       "      <td>-4.046788</td>\n",
       "      <td>0.718768</td>\n",
       "      <td>1</td>\n",
       "      <td>33</td>\n",
       "      <td>26</td>\n",
       "    </tr>\n",
       "    <tr>\n",
       "      <td>3</td>\n",
       "      <td>0</td>\n",
       "      <td>-9149.620794</td>\n",
       "      <td>-20618.200201</td>\n",
       "      <td>-20765.019094</td>\n",
       "      <td>0.712437</td>\n",
       "      <td>-3.375202</td>\n",
       "      <td>1.718306</td>\n",
       "      <td>2</td>\n",
       "      <td>20</td>\n",
       "      <td>9</td>\n",
       "    </tr>\n",
       "    <tr>\n",
       "      <td>4</td>\n",
       "      <td>0</td>\n",
       "      <td>-6729.358857</td>\n",
       "      <td>-28902.271436</td>\n",
       "      <td>-14992.399986</td>\n",
       "      <td>0.989382</td>\n",
       "      <td>-2.522618</td>\n",
       "      <td>2.342237</td>\n",
       "      <td>3</td>\n",
       "      <td>6</td>\n",
       "      <td>52</td>\n",
       "    </tr>\n",
       "    <tr>\n",
       "      <td>...</td>\n",
       "      <td>...</td>\n",
       "      <td>...</td>\n",
       "      <td>...</td>\n",
       "      <td>...</td>\n",
       "      <td>...</td>\n",
       "      <td>...</td>\n",
       "      <td>...</td>\n",
       "      <td>...</td>\n",
       "      <td>...</td>\n",
       "      <td>...</td>\n",
       "    </tr>\n",
       "    <tr>\n",
       "      <td>649907</td>\n",
       "      <td>599</td>\n",
       "      <td>-20717.958996</td>\n",
       "      <td>-16245.240500</td>\n",
       "      <td>5250.939232</td>\n",
       "      <td>-1.653931</td>\n",
       "      <td>3.157321</td>\n",
       "      <td>0.079069</td>\n",
       "      <td>22</td>\n",
       "      <td>0</td>\n",
       "      <td>22</td>\n",
       "    </tr>\n",
       "    <tr>\n",
       "      <td>649908</td>\n",
       "      <td>599</td>\n",
       "      <td>-22673.444496</td>\n",
       "      <td>-11192.339393</td>\n",
       "      <td>5243.608790</td>\n",
       "      <td>-0.945328</td>\n",
       "      <td>3.603371</td>\n",
       "      <td>-0.092202</td>\n",
       "      <td>22</td>\n",
       "      <td>25</td>\n",
       "      <td>13</td>\n",
       "    </tr>\n",
       "    <tr>\n",
       "      <td>649909</td>\n",
       "      <td>599</td>\n",
       "      <td>-23461.830699</td>\n",
       "      <td>-5570.167175</td>\n",
       "      <td>4966.813869</td>\n",
       "      <td>-0.087089</td>\n",
       "      <td>3.912550</td>\n",
       "      <td>-0.281989</td>\n",
       "      <td>22</td>\n",
       "      <td>50</td>\n",
       "      <td>3</td>\n",
       "    </tr>\n",
       "    <tr>\n",
       "      <td>649910</td>\n",
       "      <td>599</td>\n",
       "      <td>-22858.679929</td>\n",
       "      <td>373.249102</td>\n",
       "      <td>4396.055679</td>\n",
       "      <td>0.920162</td>\n",
       "      <td>4.021955</td>\n",
       "      <td>-0.485364</td>\n",
       "      <td>23</td>\n",
       "      <td>14</td>\n",
       "      <td>54</td>\n",
       "    </tr>\n",
       "    <tr>\n",
       "      <td>649911</td>\n",
       "      <td>599</td>\n",
       "      <td>-20656.328603</td>\n",
       "      <td>6277.934683</td>\n",
       "      <td>3518.642806</td>\n",
       "      <td>2.050990</td>\n",
       "      <td>3.844021</td>\n",
       "      <td>-0.690707</td>\n",
       "      <td>23</td>\n",
       "      <td>39</td>\n",
       "      <td>45</td>\n",
       "    </tr>\n",
       "  </tbody>\n",
       "</table>\n",
       "<p>334729 rows × 10 columns</p>\n",
       "</div>"
      ],
      "text/plain": [
       "        sat_id         x_sim         y_sim         z_sim    Vx_sim    Vy_sim  \\\n",
       "0            0  -8843.131454  13138.221690 -20741.615306 -0.907527 -3.804930   \n",
       "1            0 -10555.500066   1649.289367 -24473.089556 -0.303704 -4.269816   \n",
       "2            0 -10571.858472 -10145.939908 -24271.169776  0.274880 -4.046788   \n",
       "3            0  -9149.620794 -20618.200201 -20765.019094  0.712437 -3.375202   \n",
       "4            0  -6729.358857 -28902.271436 -14992.399986  0.989382 -2.522618   \n",
       "...        ...           ...           ...           ...       ...       ...   \n",
       "649907     599 -20717.958996 -16245.240500   5250.939232 -1.653931  3.157321   \n",
       "649908     599 -22673.444496 -11192.339393   5243.608790 -0.945328  3.603371   \n",
       "649909     599 -23461.830699  -5570.167175   4966.813869 -0.087089  3.912550   \n",
       "649910     599 -22858.679929    373.249102   4396.055679  0.920162  4.021955   \n",
       "649911     599 -20656.328603   6277.934683   3518.642806  2.050990  3.844021   \n",
       "\n",
       "          Vz_sim   h   m   s  \n",
       "0      -2.024133   0   0   0  \n",
       "1      -0.616468   0  46  43  \n",
       "2       0.718768   1  33  26  \n",
       "3       1.718306   2  20   9  \n",
       "4       2.342237   3   6  52  \n",
       "...          ...  ..  ..  ..  \n",
       "649907  0.079069  22   0  22  \n",
       "649908 -0.092202  22  25  13  \n",
       "649909 -0.281989  22  50   3  \n",
       "649910 -0.485364  23  14  54  \n",
       "649911 -0.690707  23  39  45  \n",
       "\n",
       "[334729 rows x 10 columns]"
      ]
     },
     "execution_count": 26,
     "metadata": {},
     "output_type": "execute_result"
    }
   ],
   "source": [
    "train_data"
   ]
  },
  {
   "cell_type": "code",
   "execution_count": 29,
   "metadata": {},
   "outputs": [
    {
     "data": {
      "text/plain": [
       "(334729, 150507, 164676)"
      ]
     },
     "execution_count": 29,
     "metadata": {},
     "output_type": "execute_result"
    }
   ],
   "source": [
    "len(Xtr), len(Xval), len(Xhold)"
   ]
  },
  {
   "cell_type": "code",
   "execution_count": 30,
   "metadata": {},
   "outputs": [
    {
     "name": "stdout",
     "output_type": "stream",
     "text": [
      "Running model logreg...\n",
      "SMAPE on x | Val: 0.1677998685422036 | Hold: 0.20528472514365748\n",
      "SMAPE on y | Val: 0.1781878444484531 | Hold: 0.2108765890537499\n",
      "SMAPE on z | Val: 0.22013289418361887 | Hold: 0.2448377298905368\n",
      "SMAPE on Vx | Val: 0.20383277576094788 | Hold: 0.22815085584184827\n",
      "SMAPE on Vy | Val: 0.22048238737542886 | Hold: 0.2507097782878269\n",
      "SMAPE on Vz | Val: 0.26305323899477834 | Hold: 0.2779522384663766\n",
      "VALIDATION\n",
      "Mean SMAPE  0.19556663789442727 ; LB score  80.44333621055728\n",
      "HOLDOUT\n",
      "Mean SMAPE  0.2040746757738119 ; LB score  79.59253242261882\n",
      "\n",
      "-----------------------------------\n",
      "\n",
      "Running model lasso...\n",
      "SMAPE on x | Val: 0.16779504051814803 | Hold: 0.20527315182014963\n",
      "SMAPE on y | Val: 0.17817245951966043 | Hold: 0.2108627045002185\n",
      "SMAPE on z | Val: 0.2201035416516983 | Hold: 0.2447957625165284\n",
      "SMAPE on Vx | Val: 0.26170580359078666 | Hold: 0.2859220280791816\n",
      "SMAPE on Vy | Val: 0.2801750801175843 | Hold: 0.3065620329563943\n",
      "SMAPE on Vz | Val: 0.3522396476814794 | Hold: 0.37427277248016483\n",
      "VALIDATION\n",
      "Mean SMAPE  0.23205761072768885 ; LB score  76.79423892723112\n",
      "HOLDOUT\n",
      "Mean SMAPE  0.2403207030961057 ; LB score  75.96792969038944\n",
      "\n",
      "-----------------------------------\n",
      "\n",
      "Running model ridge...\n",
      "SMAPE on x | Val: 0.16779986707576028 | Hold: 0.20528472300841308\n",
      "SMAPE on y | Val: 0.1781878382607144 | Hold: 0.21087658440964976\n",
      "SMAPE on z | Val: 0.22013286888939487 | Hold: 0.2448377009915066\n",
      "SMAPE on Vx | Val: 0.20383290830769502 | Hold: 0.22815097256332006\n",
      "SMAPE on Vy | Val: 0.22048251299204807 | Hold: 0.25070990386515685\n",
      "SMAPE on Vz | Val: 0.26305339651628257 | Hold: 0.2779523994181194\n",
      "VALIDATION\n",
      "Mean SMAPE  0.19556671096178804 ; LB score  80.4433289038212\n",
      "HOLDOUT\n",
      "Mean SMAPE  0.20407474351241892 ; LB score  79.59252564875811\n",
      "\n",
      "-----------------------------------\n",
      "\n",
      "Wall time: 4.96 s\n"
     ]
    }
   ],
   "source": [
    "%%time\n",
    "\n",
    "from sklearn.linear_model import LinearRegression, Lasso, Ridge\n",
    "from sklearn.neural_network import MLPRegressor\n",
    "from sklearn.neighbors import KNeighborsRegressor\n",
    "from sklearn.tree import DecisionTreeRegressor\n",
    "from sklearn.ensemble import RandomForestRegressor, GradientBoostingRegressor\n",
    "from sklearn.model_selection import train_test_split\n",
    "\n",
    "models = {\n",
    "      'logreg': LinearRegression(), \n",
    "      'lasso': Lasso(),\n",
    "      'ridge': Ridge(),\n",
    "#       'mlp': MLPRegressor(), \n",
    "      #'knn': KNeighborsRegressor(), \n",
    "      #'dtree': DecisionTreeRegressor(), \n",
    "      #'rfc': RandomForestRegressor(), \n",
    "      #'gbm': GradientBoostingRegressor()\n",
    "     }\n",
    "\n",
    "for name, model in models.items():\n",
    "    print(f'Running model {name}...')\n",
    "    submissionValid = train.copy().iloc[val_data.index][['id', 'sat_id', 'x', 'y', 'z', 'Vx', 'Vy', 'Vz']]\n",
    "    submissionHold = train.copy().iloc[hold_data.index][['id', 'sat_id', 'x', 'y', 'z', 'Vx', 'Vy', 'Vz']]\n",
    "    Xtr, Xval, Xhold = train_data, val_data, hold_data\n",
    "    Ytr, Yval, Yhold = y.iloc[train_data.index, :], y.iloc[val_data.index, :], y.iloc[hold_data.index, :]\n",
    "    for predValue in ['x', 'y', 'z', 'Vx', 'Vy', 'Vz']:\n",
    "        ytr, yval, yhold = Ytr[predValue].values, Yval[predValue].values, Yhold[predValue].values\n",
    "        model.fit(Xtr, ytr)\n",
    "        yval_pred = model.predict(Xval)\n",
    "        yhold_pred = model.predict(Xhold)\n",
    "        print('SMAPE on {} | Val: {} | Hold: {}'.format(predValue, smape(yval_pred, yval), smape(yhold_pred, yhold)))\n",
    "        submissionValid[[predValue]] = yval_pred\n",
    "        submissionHold[[predValue]] = yhold_pred\n",
    "    print('VALIDATION')\n",
    "    getLBScore(train.iloc[Xval.index, :], submissionValid)\n",
    "    print('HOLDOUT')\n",
    "    getLBScore(train.iloc[Xhold.index, :], submissionHold)\n",
    "    print('\\n-----------------------------------\\n')"
   ]
  },
  {
   "cell_type": "code",
   "execution_count": 40,
   "metadata": {},
   "outputs": [
    {
     "name": "stdout",
     "output_type": "stream",
     "text": [
      "Running model ridge...\n",
      "\n",
      "-----------------------------------\n",
      "\n",
      "Wall time: 871 ms\n"
     ]
    }
   ],
   "source": [
    "%%time\n",
    "\n",
    "models = {\n",
    "    'ridge': Ridge()\n",
    "}\n",
    "\n",
    "for name, model in models.items():\n",
    "    print(f'Running model {name}...')\n",
    "    for predValue in ['x', 'y', 'z', 'Vx', 'Vy', 'Vz']:\n",
    "        model.fit(X, y[predValue].values)\n",
    "        submission[[predValue]] = model.predict(Xtest)\n",
    "    print('\\n-----------------------------------\\n')"
   ]
  },
  {
   "cell_type": "code",
   "execution_count": 41,
   "metadata": {},
   "outputs": [],
   "source": [
    "# Реальный скор: 64.63, скор при трейн тест сплите 56-59.66\n",
    "submission.to_csv('baseline_50_50.csv', index = None)"
   ]
  }
 ],
 "metadata": {
  "kernelspec": {
   "display_name": "Python 3",
   "language": "python",
   "name": "python3"
  },
  "language_info": {
   "codemirror_mode": {
    "name": "ipython",
    "version": 3
   },
   "file_extension": ".py",
   "mimetype": "text/x-python",
   "name": "python",
   "nbconvert_exporter": "python",
   "pygments_lexer": "ipython3",
   "version": "3.6.3"
  }
 },
 "nbformat": 4,
 "nbformat_minor": 2
}
