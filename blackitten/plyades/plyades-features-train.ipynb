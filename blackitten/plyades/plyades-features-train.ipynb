{
 "cells": [
  {
   "cell_type": "code",
   "execution_count": 1,
   "metadata": {},
   "outputs": [],
   "source": [
    "import pandas as pd\n",
    "import numpy as np\n",
    "import matplotlib.pyplot as plt\n",
    "from mpl_toolkits import mplot3d\n",
    "import seaborn as sns\n",
    "import gc\n",
    "from tqdm import tqdm\n",
    "\n",
    "%matplotlib inline\n",
    "\n",
    "PATH = '/kaggle/input/idao2020-track1/'"
   ]
  },
  {
   "cell_type": "code",
   "execution_count": 2,
   "metadata": {},
   "outputs": [
    {
     "name": "stdout",
     "output_type": "stream",
     "text": [
      "Processing /kaggle/input/lib-plyades\r\n",
      "Building wheels for collected packages: Plyades\r\n",
      "  Building wheel for Plyades (setup.py) ... \u001b[?25l-\b \b\\\b \bdone\r\n",
      "\u001b[?25h  Created wheel for Plyades: filename=Plyades-0.0.1-cp36-none-any.whl size=18914 sha256=39bd3d9e282c4fc886104c3a8b91afde14b38862d186e7b1b73eb9a93bae8224\r\n",
      "  Stored in directory: /root/.cache/pip/wheels/91/67/f4/51685f7b31e174b1573e464db1cc864edffe5d36c233556335\r\n",
      "Successfully built Plyades\r\n",
      "Installing collected packages: Plyades\r\n",
      "Successfully installed Plyades-0.0.1\r\n"
     ]
    }
   ],
   "source": [
    "!pip install /kaggle/input/lib-plyades"
   ]
  },
  {
   "cell_type": "code",
   "execution_count": 3,
   "metadata": {},
   "outputs": [
    {
     "name": "stdout",
     "output_type": "stream",
     "text": [
      "Collecting jplephem\r\n",
      "  Downloading https://files.pythonhosted.org/packages/80/f8/153e45b24bffd0121790a23ac34bfe84a3f28c92fea017310624592f8101/jplephem-2.12.tar.gz\r\n",
      "Requirement already satisfied: numpy in /opt/conda/lib/python3.6/site-packages (from jplephem) (1.18.1)\r\n",
      "Building wheels for collected packages: jplephem\r\n",
      "  Building wheel for jplephem (setup.py) ... \u001b[?25l-\b \b\\\b \bdone\r\n",
      "\u001b[?25h  Created wheel for jplephem: filename=jplephem-2.12-cp36-none-any.whl size=43929 sha256=3df44eb749536a21e84c8d24e6abc7b1c0de26e34d50fdaf71afa15eb88a9b06\r\n",
      "  Stored in directory: /root/.cache/pip/wheels/08/ce/59/bde14a0c20cdfb538a28d78fec79dd628c8d03d5a75f812d1a\r\n",
      "Successfully built jplephem\r\n",
      "Installing collected packages: jplephem\r\n",
      "Successfully installed jplephem-2.12\r\n"
     ]
    }
   ],
   "source": [
    "!pip install jplephem"
   ]
  },
  {
   "cell_type": "code",
   "execution_count": 4,
   "metadata": {},
   "outputs": [],
   "source": [
    "import plyades as pl\n",
    "from astropy.time import Time\n",
    "import astropy.units as units"
   ]
  },
  {
   "cell_type": "code",
   "execution_count": 5,
   "metadata": {},
   "outputs": [
    {
     "name": "stdout",
     "output_type": "stream",
     "text": [
      "CPU times: user 3.67 s, sys: 330 ms, total: 4 s\n",
      "Wall time: 4.01 s\n"
     ]
    }
   ],
   "source": [
    "%%time\n",
    "train = pd.read_csv(PATH + 'train.csv')\n",
    "test = pd.read_csv(PATH + 'test.csv')\n",
    "submission = pd.read_csv(PATH + 'submission.csv')"
   ]
  },
  {
   "cell_type": "code",
   "execution_count": 6,
   "metadata": {},
   "outputs": [
    {
     "data": {
      "text/html": [
       "<div>\n",
       "<style scoped>\n",
       "    .dataframe tbody tr th:only-of-type {\n",
       "        vertical-align: middle;\n",
       "    }\n",
       "\n",
       "    .dataframe tbody tr th {\n",
       "        vertical-align: top;\n",
       "    }\n",
       "\n",
       "    .dataframe thead th {\n",
       "        text-align: right;\n",
       "    }\n",
       "</style>\n",
       "<table border=\"1\" class=\"dataframe\">\n",
       "  <thead>\n",
       "    <tr style=\"text-align: right;\">\n",
       "      <th></th>\n",
       "      <th>id</th>\n",
       "      <th>epoch</th>\n",
       "      <th>sat_id</th>\n",
       "      <th>x</th>\n",
       "      <th>y</th>\n",
       "      <th>z</th>\n",
       "      <th>Vx</th>\n",
       "      <th>Vy</th>\n",
       "      <th>Vz</th>\n",
       "      <th>x_sim</th>\n",
       "      <th>y_sim</th>\n",
       "      <th>z_sim</th>\n",
       "      <th>Vx_sim</th>\n",
       "      <th>Vy_sim</th>\n",
       "      <th>Vz_sim</th>\n",
       "    </tr>\n",
       "  </thead>\n",
       "  <tbody>\n",
       "    <tr>\n",
       "      <th>0</th>\n",
       "      <td>0</td>\n",
       "      <td>2014-01-01T00:00:00.000</td>\n",
       "      <td>0</td>\n",
       "      <td>-8855.823863</td>\n",
       "      <td>13117.780146</td>\n",
       "      <td>-20728.353233</td>\n",
       "      <td>-0.908303</td>\n",
       "      <td>-3.808436</td>\n",
       "      <td>-2.022083</td>\n",
       "      <td>-8843.131454</td>\n",
       "      <td>13138.221690</td>\n",
       "      <td>-20741.615306</td>\n",
       "      <td>-0.907527</td>\n",
       "      <td>-3.804930</td>\n",
       "      <td>-2.024133</td>\n",
       "    </tr>\n",
       "    <tr>\n",
       "      <th>1</th>\n",
       "      <td>1</td>\n",
       "      <td>2014-01-01T00:46:43.000</td>\n",
       "      <td>0</td>\n",
       "      <td>-10567.672384</td>\n",
       "      <td>1619.746066</td>\n",
       "      <td>-24451.813271</td>\n",
       "      <td>-0.302590</td>\n",
       "      <td>-4.272617</td>\n",
       "      <td>-0.612796</td>\n",
       "      <td>-10555.500066</td>\n",
       "      <td>1649.289367</td>\n",
       "      <td>-24473.089556</td>\n",
       "      <td>-0.303704</td>\n",
       "      <td>-4.269816</td>\n",
       "      <td>-0.616468</td>\n",
       "    </tr>\n",
       "    <tr>\n",
       "      <th>2</th>\n",
       "      <td>2</td>\n",
       "      <td>2014-01-01T01:33:26.001</td>\n",
       "      <td>0</td>\n",
       "      <td>-10578.684043</td>\n",
       "      <td>-10180.467460</td>\n",
       "      <td>-24238.280949</td>\n",
       "      <td>0.277435</td>\n",
       "      <td>-4.047522</td>\n",
       "      <td>0.723155</td>\n",
       "      <td>-10571.858472</td>\n",
       "      <td>-10145.939908</td>\n",
       "      <td>-24271.169776</td>\n",
       "      <td>0.274880</td>\n",
       "      <td>-4.046788</td>\n",
       "      <td>0.718768</td>\n",
       "    </tr>\n",
       "    <tr>\n",
       "      <th>3</th>\n",
       "      <td>3</td>\n",
       "      <td>2014-01-01T02:20:09.001</td>\n",
       "      <td>0</td>\n",
       "      <td>-9148.251857</td>\n",
       "      <td>-20651.437460</td>\n",
       "      <td>-20720.381279</td>\n",
       "      <td>0.715600</td>\n",
       "      <td>-3.373762</td>\n",
       "      <td>1.722115</td>\n",
       "      <td>-9149.620794</td>\n",
       "      <td>-20618.200201</td>\n",
       "      <td>-20765.019094</td>\n",
       "      <td>0.712437</td>\n",
       "      <td>-3.375202</td>\n",
       "      <td>1.718306</td>\n",
       "    </tr>\n",
       "    <tr>\n",
       "      <th>4</th>\n",
       "      <td>4</td>\n",
       "      <td>2014-01-01T03:06:52.002</td>\n",
       "      <td>0</td>\n",
       "      <td>-6719.092336</td>\n",
       "      <td>-28929.061629</td>\n",
       "      <td>-14938.907967</td>\n",
       "      <td>0.992507</td>\n",
       "      <td>-2.519732</td>\n",
       "      <td>2.344703</td>\n",
       "      <td>-6729.358857</td>\n",
       "      <td>-28902.271436</td>\n",
       "      <td>-14992.399986</td>\n",
       "      <td>0.989382</td>\n",
       "      <td>-2.522618</td>\n",
       "      <td>2.342237</td>\n",
       "    </tr>\n",
       "  </tbody>\n",
       "</table>\n",
       "</div>"
      ],
      "text/plain": [
       "   id                    epoch  sat_id             x             y  \\\n",
       "0   0  2014-01-01T00:00:00.000       0  -8855.823863  13117.780146   \n",
       "1   1  2014-01-01T00:46:43.000       0 -10567.672384   1619.746066   \n",
       "2   2  2014-01-01T01:33:26.001       0 -10578.684043 -10180.467460   \n",
       "3   3  2014-01-01T02:20:09.001       0  -9148.251857 -20651.437460   \n",
       "4   4  2014-01-01T03:06:52.002       0  -6719.092336 -28929.061629   \n",
       "\n",
       "              z        Vx        Vy        Vz         x_sim         y_sim  \\\n",
       "0 -20728.353233 -0.908303 -3.808436 -2.022083  -8843.131454  13138.221690   \n",
       "1 -24451.813271 -0.302590 -4.272617 -0.612796 -10555.500066   1649.289367   \n",
       "2 -24238.280949  0.277435 -4.047522  0.723155 -10571.858472 -10145.939908   \n",
       "3 -20720.381279  0.715600 -3.373762  1.722115  -9149.620794 -20618.200201   \n",
       "4 -14938.907967  0.992507 -2.519732  2.344703  -6729.358857 -28902.271436   \n",
       "\n",
       "          z_sim    Vx_sim    Vy_sim    Vz_sim  \n",
       "0 -20741.615306 -0.907527 -3.804930 -2.024133  \n",
       "1 -24473.089556 -0.303704 -4.269816 -0.616468  \n",
       "2 -24271.169776  0.274880 -4.046788  0.718768  \n",
       "3 -20765.019094  0.712437 -3.375202  1.718306  \n",
       "4 -14992.399986  0.989382 -2.522618  2.342237  "
      ]
     },
     "execution_count": 6,
     "metadata": {},
     "output_type": "execute_result"
    }
   ],
   "source": [
    "train.head()"
   ]
  },
  {
   "cell_type": "code",
   "execution_count": 7,
   "metadata": {},
   "outputs": [],
   "source": [
    "def make_iss(x, y, z, Vx, Vy, Vz, time):\n",
    "    iss_r = np.array([x, y, z]) * units.km\n",
    "    iss_v = np.array([Vx, Vy, Vz]) * units.km/units.s\n",
    "    iss_t = Time(time)\n",
    "    frame = 'ECI'\n",
    "    body = pl.bodies.EARTH\n",
    "    iss = pl.State(iss_r, iss_v, iss_t, frame, body)\n",
    "    return iss\n",
    "\n",
    "def generate_all_features(x, y, z, Vx, Vy, Vz, time):\n",
    "    iss = make_iss(x, y, z, Vx, Vy, Vz, time)\n",
    "    return (\n",
    "        iss.semi_major_axis.value,\n",
    "        iss.eccentricity.value,\n",
    "        iss.inclination.value,\n",
    "        iss.ascending_node.value,\n",
    "        iss.argument_of_periapsis.value,\n",
    "        iss.true_anomaly.value,\n",
    "        iss.period.value,\n",
    "        iss.orbital_energy.value,\n",
    "        iss.mean_motion.value\n",
    "    )"
   ]
  },
  {
   "cell_type": "code",
   "execution_count": 8,
   "metadata": {},
   "outputs": [
    {
     "name": "stderr",
     "output_type": "stream",
     "text": [
      "100%|██████████| 649912/649912 [5:40:56<00:00, 31.77it/s]\n"
     ]
    }
   ],
   "source": [
    "tqdm.pandas()\n",
    "train[[\n",
    "    'semi_major_axis',\n",
    "    'eccentricity',\n",
    "    'inclination',\n",
    "    'ascending_node',\n",
    "    'argument_of_periapsis',\n",
    "    'true_anomaly',\n",
    "    'period',\n",
    "    'orbital_energy',\n",
    "    'mean_motion'\n",
    "]] = train.progress_apply(lambda s: pd.Series(generate_all_features(s['x_sim'], s['y_sim'], s['z_sim'], s['Vx_sim'], s['Vy_sim'], s['Vz_sim'], s['epoch'])), axis=1)"
   ]
  },
  {
   "cell_type": "code",
   "execution_count": 9,
   "metadata": {},
   "outputs": [],
   "source": [
    "train.to_csv('train_plyades.csv', index=False)"
   ]
  }
 ],
 "metadata": {
  "kernelspec": {
   "display_name": "Python 3",
   "language": "python",
   "name": "python3"
  },
  "language_info": {
   "codemirror_mode": {
    "name": "ipython",
    "version": 3
   },
   "file_extension": ".py",
   "mimetype": "text/x-python",
   "name": "python",
   "nbconvert_exporter": "python",
   "pygments_lexer": "ipython3",
   "version": "3.6.6"
  }
 },
 "nbformat": 4,
 "nbformat_minor": 1
}
