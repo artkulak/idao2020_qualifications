{
 "cells": [
  {
   "cell_type": "code",
   "execution_count": 1,
   "metadata": {},
   "outputs": [],
   "source": [
    "import pandas as pd\n",
    "import numpy as np\n",
    "import matplotlib.pyplot as plt\n",
    "from mpl_toolkits import mplot3d\n",
    "import seaborn as sns\n",
    "import gc\n",
    "from tqdm import tqdm\n",
    "\n",
    "%matplotlib inline\n",
    "\n",
    "PATH = '/kaggle/input/idao2020-track1/'"
   ]
  },
  {
   "cell_type": "code",
   "execution_count": 2,
   "metadata": {},
   "outputs": [
    {
     "name": "stdout",
     "output_type": "stream",
     "text": [
      "Processing /kaggle/input/lib-plyades\r\n",
      "Building wheels for collected packages: Plyades\r\n",
      "  Building wheel for Plyades (setup.py) ... \u001b[?25l-\b \b\\\b \bdone\r\n",
      "\u001b[?25h  Created wheel for Plyades: filename=Plyades-0.0.1-cp36-none-any.whl size=18914 sha256=4d4738e5797b994c57e1c10721ef026123d3e05f8ddbbfca871621fbed9cdcf1\r\n",
      "  Stored in directory: /root/.cache/pip/wheels/91/67/f4/51685f7b31e174b1573e464db1cc864edffe5d36c233556335\r\n",
      "Successfully built Plyades\r\n",
      "Installing collected packages: Plyades\r\n",
      "Successfully installed Plyades-0.0.1\r\n"
     ]
    }
   ],
   "source": [
    "!pip install /kaggle/input/lib-plyades"
   ]
  },
  {
   "cell_type": "code",
   "execution_count": 3,
   "metadata": {},
   "outputs": [
    {
     "name": "stdout",
     "output_type": "stream",
     "text": [
      "Collecting jplephem\r\n",
      "  Downloading https://files.pythonhosted.org/packages/80/f8/153e45b24bffd0121790a23ac34bfe84a3f28c92fea017310624592f8101/jplephem-2.12.tar.gz\r\n",
      "Requirement already satisfied: numpy in /opt/conda/lib/python3.6/site-packages (from jplephem) (1.18.1)\r\n",
      "Building wheels for collected packages: jplephem\r\n",
      "  Building wheel for jplephem (setup.py) ... \u001b[?25l-\b \b\\\b \bdone\r\n",
      "\u001b[?25h  Created wheel for jplephem: filename=jplephem-2.12-cp36-none-any.whl size=43929 sha256=03847a99f665577a82ef2bf03fb46da8429201a6b1ce26e033f47692ce7ae063\r\n",
      "  Stored in directory: /root/.cache/pip/wheels/08/ce/59/bde14a0c20cdfb538a28d78fec79dd628c8d03d5a75f812d1a\r\n",
      "Successfully built jplephem\r\n",
      "Installing collected packages: jplephem\r\n",
      "Successfully installed jplephem-2.12\r\n"
     ]
    }
   ],
   "source": [
    "!pip install jplephem"
   ]
  },
  {
   "cell_type": "code",
   "execution_count": 4,
   "metadata": {},
   "outputs": [],
   "source": [
    "import plyades as pl\n",
    "from astropy.time import Time\n",
    "import astropy.units as units"
   ]
  },
  {
   "cell_type": "code",
   "execution_count": 5,
   "metadata": {},
   "outputs": [
    {
     "name": "stdout",
     "output_type": "stream",
     "text": [
      "CPU times: user 3.77 s, sys: 515 ms, total: 4.28 s\n",
      "Wall time: 4.39 s\n"
     ]
    }
   ],
   "source": [
    "%%time\n",
    "train = pd.read_csv(PATH + 'train.csv')\n",
    "test = pd.read_csv(PATH + 'test.csv')\n",
    "submission = pd.read_csv(PATH + 'submission.csv')"
   ]
  },
  {
   "cell_type": "code",
   "execution_count": 6,
   "metadata": {},
   "outputs": [
    {
     "data": {
      "text/html": [
       "<div>\n",
       "<style scoped>\n",
       "    .dataframe tbody tr th:only-of-type {\n",
       "        vertical-align: middle;\n",
       "    }\n",
       "\n",
       "    .dataframe tbody tr th {\n",
       "        vertical-align: top;\n",
       "    }\n",
       "\n",
       "    .dataframe thead th {\n",
       "        text-align: right;\n",
       "    }\n",
       "</style>\n",
       "<table border=\"1\" class=\"dataframe\">\n",
       "  <thead>\n",
       "    <tr style=\"text-align: right;\">\n",
       "      <th></th>\n",
       "      <th>id</th>\n",
       "      <th>sat_id</th>\n",
       "      <th>epoch</th>\n",
       "      <th>x_sim</th>\n",
       "      <th>y_sim</th>\n",
       "      <th>z_sim</th>\n",
       "      <th>Vx_sim</th>\n",
       "      <th>Vy_sim</th>\n",
       "      <th>Vz_sim</th>\n",
       "    </tr>\n",
       "  </thead>\n",
       "  <tbody>\n",
       "    <tr>\n",
       "      <th>0</th>\n",
       "      <td>3927</td>\n",
       "      <td>1</td>\n",
       "      <td>2014-02-01T00:01:45.162</td>\n",
       "      <td>-13366.891347</td>\n",
       "      <td>-14236.753503</td>\n",
       "      <td>6386.774555</td>\n",
       "      <td>4.333815</td>\n",
       "      <td>-0.692764</td>\n",
       "      <td>0.810774</td>\n",
       "    </tr>\n",
       "    <tr>\n",
       "      <th>1</th>\n",
       "      <td>3928</td>\n",
       "      <td>1</td>\n",
       "      <td>2014-02-01T00:22:57.007</td>\n",
       "      <td>-7370.434039</td>\n",
       "      <td>-14498.771520</td>\n",
       "      <td>7130.411325</td>\n",
       "      <td>5.077413</td>\n",
       "      <td>0.360609</td>\n",
       "      <td>0.313402</td>\n",
       "    </tr>\n",
       "    <tr>\n",
       "      <th>2</th>\n",
       "      <td>3929</td>\n",
       "      <td>1</td>\n",
       "      <td>2014-02-01T00:44:08.852</td>\n",
       "      <td>-572.068654</td>\n",
       "      <td>-13065.289498</td>\n",
       "      <td>7033.794876</td>\n",
       "      <td>5.519106</td>\n",
       "      <td>2.012830</td>\n",
       "      <td>-0.539412</td>\n",
       "    </tr>\n",
       "    <tr>\n",
       "      <th>3</th>\n",
       "      <td>3930</td>\n",
       "      <td>1</td>\n",
       "      <td>2014-02-01T01:05:20.697</td>\n",
       "      <td>6208.945257</td>\n",
       "      <td>-9076.852425</td>\n",
       "      <td>5548.296900</td>\n",
       "      <td>4.849212</td>\n",
       "      <td>4.338955</td>\n",
       "      <td>-1.869600</td>\n",
       "    </tr>\n",
       "    <tr>\n",
       "      <th>4</th>\n",
       "      <td>3931</td>\n",
       "      <td>1</td>\n",
       "      <td>2014-02-01T01:26:32.542</td>\n",
       "      <td>10768.200284</td>\n",
       "      <td>-2199.706707</td>\n",
       "      <td>2272.014862</td>\n",
       "      <td>1.940505</td>\n",
       "      <td>6.192887</td>\n",
       "      <td>-3.167724</td>\n",
       "    </tr>\n",
       "  </tbody>\n",
       "</table>\n",
       "</div>"
      ],
      "text/plain": [
       "     id  sat_id                    epoch         x_sim         y_sim  \\\n",
       "0  3927       1  2014-02-01T00:01:45.162 -13366.891347 -14236.753503   \n",
       "1  3928       1  2014-02-01T00:22:57.007  -7370.434039 -14498.771520   \n",
       "2  3929       1  2014-02-01T00:44:08.852   -572.068654 -13065.289498   \n",
       "3  3930       1  2014-02-01T01:05:20.697   6208.945257  -9076.852425   \n",
       "4  3931       1  2014-02-01T01:26:32.542  10768.200284  -2199.706707   \n",
       "\n",
       "         z_sim    Vx_sim    Vy_sim    Vz_sim  \n",
       "0  6386.774555  4.333815 -0.692764  0.810774  \n",
       "1  7130.411325  5.077413  0.360609  0.313402  \n",
       "2  7033.794876  5.519106  2.012830 -0.539412  \n",
       "3  5548.296900  4.849212  4.338955 -1.869600  \n",
       "4  2272.014862  1.940505  6.192887 -3.167724  "
      ]
     },
     "execution_count": 6,
     "metadata": {},
     "output_type": "execute_result"
    }
   ],
   "source": [
    "test.head()"
   ]
  },
  {
   "cell_type": "code",
   "execution_count": 7,
   "metadata": {},
   "outputs": [],
   "source": [
    "def make_iss(x, y, z, Vx, Vy, Vz, time):\n",
    "    iss_r = np.array([x, y, z]) * units.km\n",
    "    iss_v = np.array([Vx, Vy, Vz]) * units.km/units.s\n",
    "    iss_t = Time(time)\n",
    "    frame = 'ECI'\n",
    "    body = pl.bodies.EARTH\n",
    "    iss = pl.State(iss_r, iss_v, iss_t, frame, body)\n",
    "    return iss\n",
    "\n",
    "def generate_all_features(x, y, z, Vx, Vy, Vz, time):\n",
    "    iss = make_iss(x, y, z, Vx, Vy, Vz, time)\n",
    "    return (\n",
    "        iss.semi_major_axis.value,\n",
    "        iss.eccentricity.value,\n",
    "        iss.inclination.value,\n",
    "        iss.ascending_node.value,\n",
    "        iss.argument_of_periapsis.value,\n",
    "        iss.true_anomaly.value,\n",
    "        iss.period.value,\n",
    "        iss.orbital_energy.value,\n",
    "        iss.mean_motion.value\n",
    "    )"
   ]
  },
  {
   "cell_type": "code",
   "execution_count": 8,
   "metadata": {},
   "outputs": [
    {
     "name": "stderr",
     "output_type": "stream",
     "text": [
      " 93%|█████████▎| 263061/284071 [2:26:20<10:49, 32.33it/s]"
     ]
    }
   ],
   "source": [
    "tqdm.pandas()\n",
    "test[[\n",
    "    'semi_major_axis',\n",
    "    'eccentricity',\n",
    "    'inclination',\n",
    "    'ascending_node',\n",
    "    'argument_of_periapsis',\n",
    "    'true_anomaly',\n",
    "    'period',\n",
    "    'orbital_energy',\n",
    "    'mean_motion'\n",
    "]] = test.progress_apply(lambda s: pd.Series(generate_all_features(s['x_sim'], s['y_sim'], s['z_sim'], s['Vx_sim'], s['Vy_sim'], s['Vz_sim'], s['epoch'])), axis=1)"
   ]
  },
  {
   "cell_type": "code",
   "execution_count": 9,
   "metadata": {},
   "outputs": [],
   "source": [
    "test.to_csv('test_plyades.csv', index=False)"
   ]
  }
 ],
 "metadata": {
  "kernelspec": {
   "display_name": "Python 3",
   "language": "python",
   "name": "python3"
  },
  "language_info": {
   "codemirror_mode": {
    "name": "ipython",
    "version": 3
   },
   "file_extension": ".py",
   "mimetype": "text/x-python",
   "name": "python",
   "nbconvert_exporter": "python",
   "pygments_lexer": "ipython3",
   "version": "3.6.6"
  }
 },
 "nbformat": 4,
 "nbformat_minor": 1
}
