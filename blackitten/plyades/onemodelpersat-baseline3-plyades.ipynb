{
 "cells": [
  {
   "cell_type": "code",
   "execution_count": 1,
   "metadata": {},
   "outputs": [],
   "source": [
    "import pandas as pd\n",
    "import numpy as np\n",
    "import matplotlib.pyplot as plt\n",
    "from mpl_toolkits import mplot3d\n",
    "import seaborn as sns\n",
    "import gc\n",
    "from tqdm import tqdm\n",
    "\n",
    "%matplotlib inline\n",
    "\n",
    "PATH = '/kaggle/input/idao2020-track1/'\n",
    "PLYADES_TRAIN_PATH = '/kaggle/input/plyades-features-train/train_plyades.csv'\n",
    "PLYADES_TEST_PATH = '/kaggle/input/plyades-features-test/test_plyades.csv'"
   ]
  },
  {
   "cell_type": "code",
   "execution_count": 2,
   "metadata": {},
   "outputs": [
    {
     "name": "stdout",
     "output_type": "stream",
     "text": [
      "CPU times: user 6.87 s, sys: 445 ms, total: 7.32 s\n",
      "Wall time: 7.33 s\n"
     ]
    }
   ],
   "source": [
    "%%time\n",
    "train = pd.read_csv(PLYADES_TRAIN_PATH)\n",
    "test = pd.read_csv(PLYADES_TEST_PATH)\n",
    "submission = pd.read_csv(PATH + 'submission.csv')"
   ]
  },
  {
   "cell_type": "code",
   "execution_count": 3,
   "metadata": {},
   "outputs": [
    {
     "data": {
      "text/html": [
       "<div>\n",
       "<style scoped>\n",
       "    .dataframe tbody tr th:only-of-type {\n",
       "        vertical-align: middle;\n",
       "    }\n",
       "\n",
       "    .dataframe tbody tr th {\n",
       "        vertical-align: top;\n",
       "    }\n",
       "\n",
       "    .dataframe thead th {\n",
       "        text-align: right;\n",
       "    }\n",
       "</style>\n",
       "<table border=\"1\" class=\"dataframe\">\n",
       "  <thead>\n",
       "    <tr style=\"text-align: right;\">\n",
       "      <th></th>\n",
       "      <th>id</th>\n",
       "      <th>epoch</th>\n",
       "      <th>sat_id</th>\n",
       "      <th>x</th>\n",
       "      <th>y</th>\n",
       "      <th>z</th>\n",
       "      <th>Vx</th>\n",
       "      <th>Vy</th>\n",
       "      <th>Vz</th>\n",
       "      <th>x_sim</th>\n",
       "      <th>...</th>\n",
       "      <th>Vz_sim</th>\n",
       "      <th>semi_major_axis</th>\n",
       "      <th>eccentricity</th>\n",
       "      <th>inclination</th>\n",
       "      <th>ascending_node</th>\n",
       "      <th>argument_of_periapsis</th>\n",
       "      <th>true_anomaly</th>\n",
       "      <th>period</th>\n",
       "      <th>orbital_energy</th>\n",
       "      <th>mean_motion</th>\n",
       "    </tr>\n",
       "  </thead>\n",
       "  <tbody>\n",
       "    <tr>\n",
       "      <th>0</th>\n",
       "      <td>0</td>\n",
       "      <td>2014-01-01T00:00:00.000</td>\n",
       "      <td>0</td>\n",
       "      <td>-8855.823863</td>\n",
       "      <td>13117.780146</td>\n",
       "      <td>-20728.353233</td>\n",
       "      <td>-0.908303</td>\n",
       "      <td>-3.808436</td>\n",
       "      <td>-2.022083</td>\n",
       "      <td>-8843.131454</td>\n",
       "      <td>...</td>\n",
       "      <td>-2.024133</td>\n",
       "      <td>35749.064178</td>\n",
       "      <td>0.270008</td>\n",
       "      <td>1.163115</td>\n",
       "      <td>4.703633</td>\n",
       "      <td>2.095712</td>\n",
       "      <td>0.000784</td>\n",
       "      <td>67267.919657</td>\n",
       "      <td>-5.574977</td>\n",
       "      <td>0.000093</td>\n",
       "    </tr>\n",
       "    <tr>\n",
       "      <th>1</th>\n",
       "      <td>1</td>\n",
       "      <td>2014-01-01T00:46:43.000</td>\n",
       "      <td>0</td>\n",
       "      <td>-10567.672384</td>\n",
       "      <td>1619.746066</td>\n",
       "      <td>-24451.813271</td>\n",
       "      <td>-0.302590</td>\n",
       "      <td>-4.272617</td>\n",
       "      <td>-0.612796</td>\n",
       "      <td>-10555.500066</td>\n",
       "      <td>...</td>\n",
       "      <td>-0.616468</td>\n",
       "      <td>35747.874642</td>\n",
       "      <td>0.269992</td>\n",
       "      <td>1.163109</td>\n",
       "      <td>4.703618</td>\n",
       "      <td>2.095844</td>\n",
       "      <td>0.466720</td>\n",
       "      <td>67264.562214</td>\n",
       "      <td>-5.575163</td>\n",
       "      <td>0.000093</td>\n",
       "    </tr>\n",
       "    <tr>\n",
       "      <th>2</th>\n",
       "      <td>2</td>\n",
       "      <td>2014-01-01T01:33:26.001</td>\n",
       "      <td>0</td>\n",
       "      <td>-10578.684043</td>\n",
       "      <td>-10180.467460</td>\n",
       "      <td>-24238.280949</td>\n",
       "      <td>0.277435</td>\n",
       "      <td>-4.047522</td>\n",
       "      <td>0.723155</td>\n",
       "      <td>-10571.858472</td>\n",
       "      <td>...</td>\n",
       "      <td>0.718768</td>\n",
       "      <td>35748.812215</td>\n",
       "      <td>0.270022</td>\n",
       "      <td>1.163110</td>\n",
       "      <td>4.703603</td>\n",
       "      <td>2.095916</td>\n",
       "      <td>0.894597</td>\n",
       "      <td>67267.208490</td>\n",
       "      <td>-5.575017</td>\n",
       "      <td>0.000093</td>\n",
       "    </tr>\n",
       "    <tr>\n",
       "      <th>3</th>\n",
       "      <td>3</td>\n",
       "      <td>2014-01-01T02:20:09.001</td>\n",
       "      <td>0</td>\n",
       "      <td>-9148.251857</td>\n",
       "      <td>-20651.437460</td>\n",
       "      <td>-20720.381279</td>\n",
       "      <td>0.715600</td>\n",
       "      <td>-3.373762</td>\n",
       "      <td>1.722115</td>\n",
       "      <td>-9149.620794</td>\n",
       "      <td>...</td>\n",
       "      <td>1.718306</td>\n",
       "      <td>35750.416502</td>\n",
       "      <td>0.270053</td>\n",
       "      <td>1.163116</td>\n",
       "      <td>4.703593</td>\n",
       "      <td>2.095862</td>\n",
       "      <td>1.266147</td>\n",
       "      <td>67271.736631</td>\n",
       "      <td>-5.574766</td>\n",
       "      <td>0.000093</td>\n",
       "    </tr>\n",
       "    <tr>\n",
       "      <th>4</th>\n",
       "      <td>4</td>\n",
       "      <td>2014-01-01T03:06:52.002</td>\n",
       "      <td>0</td>\n",
       "      <td>-6719.092336</td>\n",
       "      <td>-28929.061629</td>\n",
       "      <td>-14938.907967</td>\n",
       "      <td>0.992507</td>\n",
       "      <td>-2.519732</td>\n",
       "      <td>2.344703</td>\n",
       "      <td>-6729.358857</td>\n",
       "      <td>...</td>\n",
       "      <td>2.342237</td>\n",
       "      <td>35751.487521</td>\n",
       "      <td>0.270061</td>\n",
       "      <td>1.163121</td>\n",
       "      <td>4.703589</td>\n",
       "      <td>2.095777</td>\n",
       "      <td>1.582324</td>\n",
       "      <td>67274.759667</td>\n",
       "      <td>-5.574599</td>\n",
       "      <td>0.000093</td>\n",
       "    </tr>\n",
       "  </tbody>\n",
       "</table>\n",
       "<p>5 rows × 24 columns</p>\n",
       "</div>"
      ],
      "text/plain": [
       "   id                    epoch  sat_id             x             y  \\\n",
       "0   0  2014-01-01T00:00:00.000       0  -8855.823863  13117.780146   \n",
       "1   1  2014-01-01T00:46:43.000       0 -10567.672384   1619.746066   \n",
       "2   2  2014-01-01T01:33:26.001       0 -10578.684043 -10180.467460   \n",
       "3   3  2014-01-01T02:20:09.001       0  -9148.251857 -20651.437460   \n",
       "4   4  2014-01-01T03:06:52.002       0  -6719.092336 -28929.061629   \n",
       "\n",
       "              z        Vx        Vy        Vz         x_sim  ...    Vz_sim  \\\n",
       "0 -20728.353233 -0.908303 -3.808436 -2.022083  -8843.131454  ... -2.024133   \n",
       "1 -24451.813271 -0.302590 -4.272617 -0.612796 -10555.500066  ... -0.616468   \n",
       "2 -24238.280949  0.277435 -4.047522  0.723155 -10571.858472  ...  0.718768   \n",
       "3 -20720.381279  0.715600 -3.373762  1.722115  -9149.620794  ...  1.718306   \n",
       "4 -14938.907967  0.992507 -2.519732  2.344703  -6729.358857  ...  2.342237   \n",
       "\n",
       "   semi_major_axis  eccentricity  inclination  ascending_node  \\\n",
       "0     35749.064178      0.270008     1.163115        4.703633   \n",
       "1     35747.874642      0.269992     1.163109        4.703618   \n",
       "2     35748.812215      0.270022     1.163110        4.703603   \n",
       "3     35750.416502      0.270053     1.163116        4.703593   \n",
       "4     35751.487521      0.270061     1.163121        4.703589   \n",
       "\n",
       "   argument_of_periapsis  true_anomaly        period  orbital_energy  \\\n",
       "0               2.095712      0.000784  67267.919657       -5.574977   \n",
       "1               2.095844      0.466720  67264.562214       -5.575163   \n",
       "2               2.095916      0.894597  67267.208490       -5.575017   \n",
       "3               2.095862      1.266147  67271.736631       -5.574766   \n",
       "4               2.095777      1.582324  67274.759667       -5.574599   \n",
       "\n",
       "   mean_motion  \n",
       "0     0.000093  \n",
       "1     0.000093  \n",
       "2     0.000093  \n",
       "3     0.000093  \n",
       "4     0.000093  \n",
       "\n",
       "[5 rows x 24 columns]"
      ]
     },
     "execution_count": 3,
     "metadata": {},
     "output_type": "execute_result"
    }
   ],
   "source": [
    "train.head()"
   ]
  },
  {
   "cell_type": "markdown",
   "metadata": {},
   "source": [
    "### LB Score Calc"
   ]
  },
  {
   "cell_type": "markdown",
   "metadata": {},
   "source": [
    "Для подсчета скора просто используйте функцию getLBScore"
   ]
  },
  {
   "cell_type": "code",
   "execution_count": 4,
   "metadata": {},
   "outputs": [],
   "source": [
    "def smape(satellite_predicted_values, satellite_true_values): \n",
    "    # the division, addition and subtraction are pointwise \n",
    "    return np.mean(np.abs(satellite_predicted_values - satellite_true_values) / (np.abs(satellite_predicted_values) + np.abs(satellite_true_values)))"
   ]
  },
  {
   "cell_type": "markdown",
   "metadata": {},
   "source": [
    "### Model training"
   ]
  },
  {
   "cell_type": "code",
   "execution_count": 5,
   "metadata": {},
   "outputs": [],
   "source": [
    "prediction_columns = ['x','y','z','Vx', 'Vy', 'Vz']\n",
    "training_columns = train.drop(prediction_columns + ['id'], axis=1).columns\n",
    "X = train.loc[:, training_columns]\n",
    "y = train.loc[:, prediction_columns]\n",
    "Xtest = test.loc[:, training_columns]"
   ]
  },
  {
   "cell_type": "code",
   "execution_count": 6,
   "metadata": {},
   "outputs": [],
   "source": [
    "X.drop(columns = 'epoch', inplace = True)\n",
    "Xtest.drop(columns = 'epoch', inplace = True)"
   ]
  },
  {
   "cell_type": "code",
   "execution_count": 7,
   "metadata": {},
   "outputs": [],
   "source": [
    "X['r'] = np.sqrt(X.x_sim**2 + X.y_sim**2 + X.z_sim**2)\n",
    "Xtest['r'] = np.sqrt(Xtest.x_sim**2 + Xtest.y_sim**2 + Xtest.z_sim**2)\n",
    "\n",
    "X['phi'] = np.arctan(X.y_sim/X.x_sim)\n",
    "Xtest['phi'] = np.arctan(Xtest.y_sim/Xtest.x_sim)\n",
    "\n",
    "X['theta'] = np.arccos(X.z_sim/X.r)\n",
    "Xtest['theta'] = np.arccos(Xtest.z_sim/Xtest.r)\n",
    "\n",
    "\n",
    "\n",
    "X['Vr'] = np.sqrt(X.Vx_sim**2 + X.Vy_sim**2 + X.Vz_sim**2)\n",
    "Xtest['Vr'] = np.sqrt(Xtest.Vx_sim**2 + Xtest.Vy_sim**2 + Xtest.Vz_sim**2)\n",
    "\n",
    "X['Vphi'] = np.arctan(X.Vy_sim/X.Vx_sim)\n",
    "Xtest['Vphi'] = np.arctan(Xtest.Vy_sim/Xtest.Vx_sim)\n",
    "\n",
    "X['Vtheta'] = np.arccos(X.Vz_sim/X.Vr)\n",
    "Xtest['Vtheta'] = np.arccos(Xtest.Vz_sim/Xtest.Vr)"
   ]
  },
  {
   "cell_type": "code",
   "execution_count": 8,
   "metadata": {},
   "outputs": [
    {
     "name": "stderr",
     "output_type": "stream",
     "text": [
      "100%|██████████| 600/600 [01:29<00:00,  6.67it/s]"
     ]
    },
    {
     "name": "stdout",
     "output_type": "stream",
     "text": [
      "Final 91.30743794481884\n"
     ]
    },
    {
     "name": "stderr",
     "output_type": "stream",
     "text": [
      "\n"
     ]
    }
   ],
   "source": [
    "from sklearn.linear_model import LinearRegression, Lasso, Ridge\n",
    "from sklearn.ensemble import RandomForestRegressor, ExtraTreesRegressor\n",
    "model = Ridge(random_state=13)\n",
    "trainSize = 0.8\n",
    "submissionValid = train.copy()[['id', 'sat_id', 'x', 'y', 'z', 'Vx', 'Vy', 'Vz']]\n",
    "smp = []\n",
    "SMP = []\n",
    "nTargets = 6\n",
    "for sat_id in tqdm(X['sat_id'].unique()):\n",
    "    if sat_id >= 0:\n",
    "        smp = []\n",
    "        satX = X[X['sat_id'] == sat_id]\n",
    "        satX = pd.concat([satX, satX.shift(1).fillna(0), \n",
    "                          satX.shift(2).fillna(0), satX.shift(3).fillna(0),\n",
    "                         satX.shift(4).fillna(0)], axis = 1)\n",
    "        satY = y[X['sat_id'] == sat_id]\n",
    "        \n",
    "        size = int(satX.shape[0] * trainSize)\n",
    "        Xtr, Xval = satX.iloc[:size, :], satX.iloc[size:, :]\n",
    "        ytr, yval = satY.iloc[:size, :], satY.iloc[size:, :]\n",
    "        for i in range(nTargets):\n",
    "            model.fit(Xtr, ytr.iloc[:, i])\n",
    "            ypred = model.predict(Xval)\n",
    "            smp.append(smape(ypred, yval.iloc[:, i]))\n",
    "            SMP.append(smape(ypred, yval.iloc[:, i]))\n",
    "print('Final', 100*(1- np.mean(SMP)))"
   ]
  },
  {
   "cell_type": "code",
   "execution_count": 9,
   "metadata": {},
   "outputs": [
    {
     "name": "stderr",
     "output_type": "stream",
     "text": [
      "100%|██████████| 300/300 [00:44<00:00,  6.72it/s]\n"
     ]
    }
   ],
   "source": [
    "from sklearn.linear_model import LinearRegression, Lasso, Ridge\n",
    "from sklearn.ensemble import AdaBoostRegressor\n",
    "model = Ridge(random_state=13)\n",
    "nTargets = 6\n",
    "for sat_id in tqdm(Xtest['sat_id'].unique()):\n",
    "    satX = X[X['sat_id'] == sat_id].drop(columns = ['sat_id'])\n",
    "    satX = pd.concat([satX, satX.shift(1).fillna(0), \n",
    "                          satX.shift(2).fillna(0), satX.shift(3).fillna(0),\n",
    "                         satX.shift(4).fillna(0)], axis = 1)\n",
    "    satY = y[X['sat_id'] == sat_id]\n",
    "    satXtest = Xtest[Xtest['sat_id'] == sat_id].drop(columns = ['sat_id'])\n",
    "    satXtest = pd.concat([satXtest, satXtest.shift(1).fillna(0),satXtest.shift(2).fillna(0), satXtest.shift(3).fillna(0),\n",
    "                         satXtest.shift(4).fillna(0)], axis = 1)\n",
    "    \n",
    "    for i in range(nTargets):\n",
    "        model.fit(satX, satY.iloc[:, i])\n",
    "        ypred = model.predict(satXtest)\n",
    "        submission.loc[satXtest.index, submission.columns[i+1]] = ypred"
   ]
  },
  {
   "cell_type": "code",
   "execution_count": 10,
   "metadata": {},
   "outputs": [],
   "source": [
    "submission.to_csv('submission.csv', index = None)"
   ]
  }
 ],
 "metadata": {
  "kernelspec": {
   "display_name": "Python 3",
   "language": "python",
   "name": "python3"
  },
  "language_info": {
   "codemirror_mode": {
    "name": "ipython",
    "version": 3
   },
   "file_extension": ".py",
   "mimetype": "text/x-python",
   "name": "python",
   "nbconvert_exporter": "python",
   "pygments_lexer": "ipython3",
   "version": "3.6.6"
  }
 },
 "nbformat": 4,
 "nbformat_minor": 1
}
