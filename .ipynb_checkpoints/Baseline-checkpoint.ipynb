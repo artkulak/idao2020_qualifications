{
 "cells": [
  {
   "cell_type": "code",
   "execution_count": 1,
   "metadata": {},
   "outputs": [],
   "source": [
    "import pandas as pd\n",
    "import numpy as np\n",
    "import matplotlib.pyplot as plt\n",
    "from mpl_toolkits import mplot3d\n",
    "import seaborn as sns\n",
    "import gc\n",
    "from tqdm import tqdm\n",
    "\n",
    "%matplotlib inline\n",
    "\n",
    "PATH = ''"
   ]
  },
  {
   "cell_type": "code",
   "execution_count": 2,
   "metadata": {},
   "outputs": [
    {
     "name": "stdout",
     "output_type": "stream",
     "text": [
      "Wall time: 2.57 s\n"
     ]
    }
   ],
   "source": [
    "%%time\n",
    "train = pd.read_csv(PATH + 'train.csv')\n",
    "test = pd.read_csv(PATH + 'Track 1/test.csv')\n",
    "submission = pd.read_csv(PATH + 'Track 1/submission.csv')"
   ]
  },
  {
   "cell_type": "markdown",
   "metadata": {},
   "source": [
    "### LB Score Calc"
   ]
  },
  {
   "cell_type": "markdown",
   "metadata": {},
   "source": [
    "Для подсчета скора просто используйте функцию getLBScore"
   ]
  },
  {
   "cell_type": "code",
   "execution_count": 71,
   "metadata": {},
   "outputs": [],
   "source": [
    "# там в формуле IDAO забыли двоечку походу приписать, поэтому при их формуле LB не совпадает с тем, что тут получается\n",
    "def smape(satellite_predicted_values, satellite_true_values): \n",
    "    # the division, addition and subtraction are pointwise \n",
    "    return np.mean(2*np.abs(satellite_predicted_values - satellite_true_values) \n",
    "        / (np.abs(satellite_predicted_values) + np.abs(satellite_true_values)))"
   ]
  },
  {
   "cell_type": "code",
   "execution_count": 54,
   "metadata": {},
   "outputs": [],
   "source": [
    "def getLBScore(real, predicted):\n",
    "    smp = []\n",
    "    for sat_id in real['sat_id'].unique():\n",
    "        rv = real[real['sat_id'] == sat_id][['x', 'y', 'z', 'Vx', 'Vy', 'Vz']].values\n",
    "        sym = predicted[predicted['sat_id'] == sat_id][['x', 'y', 'z', 'Vx', 'Vy', 'Vz']].values\n",
    "        smp.append(smape(sym, rv))\n",
    "    meanSmape = np.mean(smp)\n",
    "    lbScore = 100 * (1 - meanSmape)\n",
    "    print('Mean SMAPE ', meanSmape, '; LB score ', lbScore)"
   ]
  },
  {
   "cell_type": "code",
   "execution_count": 56,
   "metadata": {},
   "outputs": [
    {
     "name": "stdout",
     "output_type": "stream",
     "text": [
      "Mean SMAPE  0.30180462785158163 ; LB score  69.81953721484184\n",
      "Wall time: 2.68 s\n"
     ]
    }
   ],
   "source": [
    "%%time\n",
    "# Скор при использовании симулирующих значений на трейне как предсказаний\n",
    "trainSym = train.copy()\n",
    "trainSym.iloc[:, 3:9] = trainSym.iloc[:, 9:].values\n",
    "getLBScore(train, trainSym)"
   ]
  },
  {
   "cell_type": "code",
   "execution_count": 58,
   "metadata": {},
   "outputs": [
    {
     "name": "stdout",
     "output_type": "stream",
     "text": [
      "Mean SMAPE  0.2977465529290635 ; LB score  70.22534470709365\n",
      "Wall time: 4.17 s\n"
     ]
    }
   ],
   "source": [
    "%%time\n",
    "# Скор при использовании симулирующих значений на трейне как предсказаний только для айдишников из теста\n",
    "trainTestSatellites = train['sat_id'].unique()[[True if sat_id in test['sat_id'].unique() else False for sat_id in train['sat_id'].unique()]]\n",
    "trainTestData = train.loc[[True if sat_id in trainTestSatellites else False for sat_id in train['sat_id'].values], :]\n",
    "\n",
    "trainSym = trainTestData.copy()\n",
    "trainSym.iloc[:, 3:9] = trainSym.iloc[:, 9:].values\n",
    "\n",
    "getLBScore(trainTestData, trainSym)"
   ]
  },
  {
   "cell_type": "code",
   "execution_count": 132,
   "metadata": {},
   "outputs": [
    {
     "name": "stdout",
     "output_type": "stream",
     "text": [
      "Mean SMAPE  0.0 ; LB score  100.0\n",
      "Wall time: 2.55 s\n"
     ]
    }
   ],
   "source": [
    "%%time\n",
    "getLBScore(train, train)"
   ]
  },
  {
   "cell_type": "code",
   "execution_count": 60,
   "metadata": {},
   "outputs": [
    {
     "name": "stdout",
     "output_type": "stream",
     "text": [
      "Mean SMAPE  0.0 ; LB score  100.0\n",
      "Wall time: 3.03 s\n"
     ]
    }
   ],
   "source": [
    "%%time\n",
    "# Скор при рандомном предсказании\n",
    "trainRnd = train.copy()\n",
    "trainRnd.iloc[:, 3:9] = np.random.rand(*train.iloc[:, 3:9].shape)\n",
    "getLBScore(trainRnd, trainRnd)"
   ]
  },
  {
   "cell_type": "markdown",
   "metadata": {},
   "source": [
    "### Model training"
   ]
  },
  {
   "cell_type": "code",
   "execution_count": 61,
   "metadata": {},
   "outputs": [],
   "source": [
    "training_columns = ['epoch', 'sat_id', 'x_sim', 'y_sim', 'z_sim', 'Vx_sim', 'Vy_sim', 'Vz_sim']\n",
    "prediction_columns = ['x','y','z','Vx', 'Vy', 'Vz']\n",
    "X = train.loc[:, training_columns]\n",
    "y = train.loc[:, prediction_columns]\n",
    "Xtest = test.loc[:, training_columns]"
   ]
  },
  {
   "cell_type": "code",
   "execution_count": 62,
   "metadata": {},
   "outputs": [],
   "source": [
    "def extractTimeFeats(data):\n",
    "    timeFeats = data['epoch'].apply(lambda x: str(x).split('T')[1].split('.')[0].split(':')).values\n",
    "    h,m,s = [],[],[]\n",
    "    for feat in timeFeats:\n",
    "        h.append(feat[0]); m.append(feat[1]); s.append(feat[2])\n",
    "    return h,m,s"
   ]
  },
  {
   "cell_type": "code",
   "execution_count": 63,
   "metadata": {},
   "outputs": [],
   "source": [
    "h,m,s = extractTimeFeats(X)\n",
    "X.loc[:, 'h'] = list(map(int, h)); X.loc[:, 'm'] = list(map(int, m)); X.loc[:, 's'] =list(map(int, s))\n",
    "X.drop(columns = 'epoch', inplace = True)\n",
    "\n",
    "h,m,s = extractTimeFeats(Xtest)\n",
    "Xtest.loc[:, 'h'] = list(map(int, h)); Xtest.loc[:, 'm'] = list(map(int, m)); Xtest.loc[:, 's'] = list(map(int, s))\n",
    "Xtest.drop(columns = 'epoch', inplace = True)"
   ]
  },
  {
   "cell_type": "code",
   "execution_count": 65,
   "metadata": {},
   "outputs": [
    {
     "name": "stdout",
     "output_type": "stream",
     "text": [
      "Running model logreg...\n",
      "SMAPE on x  0.44593138666276755\n",
      "SMAPE on y  0.4569021260033375\n",
      "SMAPE on z  0.4892066897362788\n",
      "SMAPE on Vx  0.5039980169178703\n",
      "SMAPE on Vy  0.5282332941699648\n",
      "SMAPE on Vz  0.5487530191478822\n",
      "Mean SMAPE  0.43425689587355565 ; LB score  56.57431041264444\n",
      "\n",
      "-----------------------------------\n",
      "\n",
      "Running model lasso...\n",
      "SMAPE on x  0.4459088702433908\n",
      "SMAPE on y  0.45688227797431985\n",
      "SMAPE on z  0.4891867574322932\n",
      "SMAPE on Vx  0.607537166095202\n",
      "SMAPE on Vy  0.6376480619404448\n",
      "SMAPE on Vz  0.7353245025424536\n",
      "Mean SMAPE  0.5050390943702264 ; LB score  49.49609056297736\n",
      "\n",
      "-----------------------------------\n",
      "\n",
      "Running model ridge...\n",
      "SMAPE on x  0.44593138248709063\n",
      "SMAPE on y  0.4569021224603669\n",
      "SMAPE on z  0.48920667132115486\n",
      "SMAPE on Vx  0.5039981534183725\n",
      "SMAPE on Vy  0.5282334392497413\n",
      "SMAPE on Vz  0.5487532578447482\n",
      "Mean SMAPE  0.4342569861592736 ; LB score  56.57430138407265\n",
      "\n",
      "-----------------------------------\n",
      "\n"
     ]
    }
   ],
   "source": [
    "from sklearn.linear_model import LinearRegression, Lasso, Ridge\n",
    "from sklearn.neural_network import MLPRegressor\n",
    "from sklearn.neighbors import KNeighborsRegressor\n",
    "from sklearn.tree import DecisionTreeRegressor\n",
    "from sklearn.ensemble import RandomForestRegressor, GradientBoostingRegressor\n",
    "from sklearn.model_selection import train_test_split\n",
    "\n",
    "models = {\n",
    "      'logreg': LinearRegression(), \n",
    "      'lasso': Lasso(),\n",
    "      'ridge': Ridge(),\n",
    "#       'mlp': MLPRegressor(), \n",
    "      #'knn': KNeighborsRegressor(), \n",
    "      #'dtree': DecisionTreeRegressor(), \n",
    "      #'rfc': RandomForestRegressor(), \n",
    "      #'gbm': GradientBoostingRegressor()\n",
    "     }\n",
    "\n",
    "trainSize = 0.8\n",
    "for name, model in models.items():\n",
    "    print(f'Running model {name}...')\n",
    "    submissionValid = train.iloc[int(X.shape[0] * 0.8):, :].copy()[['id', 'sat_id', 'x', 'y', 'z', 'Vx', 'Vy', 'Vz']]\n",
    "    Xtr, Xval = X.iloc[:int(X.shape[0] * 0.8), :], X.iloc[int(X.shape[0] * 0.8):, :]\n",
    "    Ytr, Yval = y.iloc[:int(X.shape[0] * 0.8), :], y.iloc[int(X.shape[0] * 0.8):, :]\n",
    "    for predValue in ['x', 'y', 'z', 'Vx', 'Vy', 'Vz']:\n",
    "        ytr,yval = Ytr[predValue].values, Yval[predValue].values\n",
    "        model.fit(Xtr, ytr)\n",
    "        ypred = model.predict(Xval)\n",
    "        print(f'SMAPE on {predValue} ', smape(ypred, yval))\n",
    "        submissionValid[[predValue]] = ypred\n",
    "    getLBScore(train.iloc[int(X.shape[0] * 0.8):, :],submissionValid)\n",
    "    print('\\n-----------------------------------\\n')"
   ]
  },
  {
   "cell_type": "markdown",
   "metadata": {},
   "source": [
    "Реальный скор того что внизу - 64.63"
   ]
  },
  {
   "cell_type": "code",
   "execution_count": 72,
   "metadata": {},
   "outputs": [
    {
     "name": "stdout",
     "output_type": "stream",
     "text": [
      "Running model ridge...\n"
     ]
    },
    {
     "name": "stderr",
     "output_type": "stream",
     "text": [
      "C:\\Anaconda3\\lib\\site-packages\\sklearn\\model_selection\\_split.py:2179: FutureWarning: From version 0.21, test_size will always complement train_size unless both are specified.\n",
      "  FutureWarning)\n"
     ]
    },
    {
     "name": "stdout",
     "output_type": "stream",
     "text": [
      "SMAPE on x  0.3955118351043253\n",
      "SMAPE on y  0.4015755672843913\n",
      "SMAPE on z  0.4566425834936432\n",
      "SMAPE on Vx  0.4706716199832256\n",
      "SMAPE on Vy  0.4719360944633116\n",
      "SMAPE on Vz  0.5440604856005392\n",
      "Mean SMAPE  0.4044577157068018 ; LB score  59.55422842931982\n",
      "\n",
      "-----------------------------------\n",
      "\n"
     ]
    }
   ],
   "source": [
    "models = {\n",
    "    'ridge': Ridge()\n",
    "}\n",
    "\n",
    "trainSize = 0.9\n",
    "for name, model in models.items():\n",
    "    print(f'Running model {name}...')\n",
    "    Xtr, Xval = train_test_split(X, train_size = trainSize)\n",
    "    Ytr, Yval = y.iloc[Xtr.index], y.iloc[Xval.index]\n",
    "    submissionValid = train.iloc[Xval.index, :].copy()[['id', 'sat_id', 'x', 'y', 'z', 'Vx', 'Vy', 'Vz']]\n",
    "    for predValue in ['x', 'y', 'z', 'Vx', 'Vy', 'Vz']:\n",
    "        ytr,yval = Ytr[predValue].values, Yval[predValue].values\n",
    "        model.fit(Xtr, ytr)\n",
    "        ypred = model.predict(Xval)\n",
    "        print(f'SMAPE on {predValue} ', smape(ypred, yval))\n",
    "        submissionValid[[predValue]] = ypred\n",
    "        submission[[predValue]] = model.predict(Xtest)\n",
    "    getLBScore(train.iloc[Xval.index, :],submissionValid)\n",
    "    print('\\n-----------------------------------\\n')"
   ]
  },
  {
   "cell_type": "code",
   "execution_count": 74,
   "metadata": {},
   "outputs": [],
   "source": [
    "# Реальный скор: 64.63, скор при трейн тест сплите 56-59.66\n",
    "submission.to_csv('baseline.csv', index = None)"
   ]
  },
  {
   "cell_type": "code",
   "execution_count": null,
   "metadata": {},
   "outputs": [],
   "source": []
  }
 ],
 "metadata": {
  "kernelspec": {
   "display_name": "Python 3",
   "language": "python",
   "name": "python3"
  },
  "language_info": {
   "codemirror_mode": {
    "name": "ipython",
    "version": 3
   },
   "file_extension": ".py",
   "mimetype": "text/x-python",
   "name": "python",
   "nbconvert_exporter": "python",
   "pygments_lexer": "ipython3",
   "version": "3.6.6"
  }
 },
 "nbformat": 4,
 "nbformat_minor": 2
}
