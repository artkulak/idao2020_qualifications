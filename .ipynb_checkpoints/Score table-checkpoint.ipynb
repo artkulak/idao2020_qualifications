{
 "cells": [
  {
   "cell_type": "code",
   "execution_count": null,
   "metadata": {},
   "outputs": [],
   "source": [
    "import pandas as pd\n",
    "import numpy as np\n",
    "import matplotlib.pyplot as plt\n",
    "import seaborn as sns\n",
    "%matplotlib inline\n",
    "\n",
    "submissions = {'IDS': [29956349, 30426856, 30276814, 30270275, 30428273, 30428350, 30428424, 30428793, 30715966, 30715275, 30716317, 30741316, 30748062], \n",
    "               'LB Scores': [66.24, 82.87, 82.86, 79.38, 82.5, 78.91, 82.75, 81.75, 82.66, 83.02, 83.03, 82.12, 82.95], \n",
    "               'Validation Scores': [76.36, 90.43, 90.49, 88.49, 90.24, 88.81, 88.9, 89.65, 88.65, 91.19, 91.32, 91.14, 91.31]}\n",
    "scores = pd.DataFrame(submissions)\n",
    "scores.loc[:, 'delta'] = scores['Validation Scores'] - scores['LB Scores']\n",
    "scores.loc[:, 'Predicted LB'] = scores['Validation Scores'] - np.mean(scores['delta'])\n",
    "scores.loc[:, 'Predicted LB lower bound'] = scores['Validation Scores'] - np.mean(scores['delta']) - np.std(scores['delta']) \n",
    "scores.loc[:, 'Predicted LB upper bound'] = scores['Validation Scores'] - np.mean(scores['delta']) + np.std(scores['delta']) "
   ]
  },
  {
   "cell_type": "code",
   "execution_count": null,
   "metadata": {},
   "outputs": [],
   "source": [
    "scores"
   ]
  },
  {
   "cell_type": "code",
   "execution_count": null,
   "metadata": {},
   "outputs": [],
   "source": [
    "plt.figure(figsize = (10,5))\n",
    "plt.xticks(np.arange(len(scores)), scores['IDS'].values, rotation = '45')\n",
    "plt.xlabel('IDS')\n",
    "plt.ylabel('Scores')\n",
    "plt.plot(scores['Validation Scores'].values)\n",
    "plt.plot(scores['LB Scores'].values)\n",
    "plt.legend(['validation', 'lb'])\n",
    "plt.show()"
   ]
  }
 ],
 "metadata": {
  "kernelspec": {
   "display_name": "Python 3",
   "language": "python",
   "name": "python3"
  },
  "language_info": {
   "codemirror_mode": {
    "name": "ipython",
    "version": 3
   },
   "file_extension": ".py",
   "mimetype": "text/x-python",
   "name": "python",
   "nbconvert_exporter": "python",
   "pygments_lexer": "ipython3",
   "version": "3.6.3"
  }
 },
 "nbformat": 4,
 "nbformat_minor": 2
}
