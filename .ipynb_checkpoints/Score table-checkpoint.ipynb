{
 "cells": [
  {
   "cell_type": "code",
   "execution_count": 47,
   "metadata": {},
   "outputs": [],
   "source": [
    "import pandas as pd\n",
    "import numpy as np\n",
    "import matplotlib.pyplot as plt\n",
    "import seaborn as sns\n",
    "%matplotlib inline\n",
    "\n",
    "submissions = {'IDS': [29956349, 30426856, 30276814, 30270275, 30428273, 30428350, 30428424, 30428793], \n",
    "               'LB Scores': [66.24, 82.87, 82.86, 79.38, 82.5, 78.91, 82.75, 81.75], \n",
    "               'Validation Scores': [76.36, 90.43, 90.49, 88.49, 90.24, 88.81, 88.9, 89.65]}\n",
    "scores = pd.DataFrame(submissions)\n",
    "scores.loc[:, 'delta'] = scores['Validation Scores'] - scores['LB Scores']\n",
    "scores.loc[:, 'Predicted LB'] = scores['Validation Scores'] - np.mean(scores['delta'])\n",
    "scores.loc[:, 'Predicted LB lower bound'] = scores['Validation Scores'] - np.mean(scores['delta']) - np.std(scores['delta']) \n",
    "scores.loc[:, 'Predicted LB upper bound'] = scores['Validation Scores'] - np.mean(scores['delta']) + np.std(scores['delta']) "
   ]
  },
  {
   "cell_type": "code",
   "execution_count": 50,
   "metadata": {},
   "outputs": [
    {
     "data": {
      "text/html": [
       "<div>\n",
       "<style scoped>\n",
       "    .dataframe tbody tr th:only-of-type {\n",
       "        vertical-align: middle;\n",
       "    }\n",
       "\n",
       "    .dataframe tbody tr th {\n",
       "        vertical-align: top;\n",
       "    }\n",
       "\n",
       "    .dataframe thead th {\n",
       "        text-align: right;\n",
       "    }\n",
       "</style>\n",
       "<table border=\"1\" class=\"dataframe\">\n",
       "  <thead>\n",
       "    <tr style=\"text-align: right;\">\n",
       "      <th></th>\n",
       "      <th>IDS</th>\n",
       "      <th>LB Scores</th>\n",
       "      <th>Validation Scores</th>\n",
       "      <th>delta</th>\n",
       "      <th>Predicted LB</th>\n",
       "      <th>Predicted LB lower bound</th>\n",
       "      <th>Predicted LB upper bound</th>\n",
       "    </tr>\n",
       "  </thead>\n",
       "  <tbody>\n",
       "    <tr>\n",
       "      <th>0</th>\n",
       "      <td>29956349</td>\n",
       "      <td>66.24</td>\n",
       "      <td>76.36</td>\n",
       "      <td>10.12</td>\n",
       "      <td>68.09625</td>\n",
       "      <td>66.840733</td>\n",
       "      <td>69.351767</td>\n",
       "    </tr>\n",
       "    <tr>\n",
       "      <th>1</th>\n",
       "      <td>30426856</td>\n",
       "      <td>82.87</td>\n",
       "      <td>90.43</td>\n",
       "      <td>7.56</td>\n",
       "      <td>82.16625</td>\n",
       "      <td>80.910733</td>\n",
       "      <td>83.421767</td>\n",
       "    </tr>\n",
       "    <tr>\n",
       "      <th>2</th>\n",
       "      <td>30276814</td>\n",
       "      <td>82.86</td>\n",
       "      <td>90.49</td>\n",
       "      <td>7.63</td>\n",
       "      <td>82.22625</td>\n",
       "      <td>80.970733</td>\n",
       "      <td>83.481767</td>\n",
       "    </tr>\n",
       "    <tr>\n",
       "      <th>3</th>\n",
       "      <td>30270275</td>\n",
       "      <td>79.38</td>\n",
       "      <td>88.49</td>\n",
       "      <td>9.11</td>\n",
       "      <td>80.22625</td>\n",
       "      <td>78.970733</td>\n",
       "      <td>81.481767</td>\n",
       "    </tr>\n",
       "    <tr>\n",
       "      <th>4</th>\n",
       "      <td>30428273</td>\n",
       "      <td>82.50</td>\n",
       "      <td>90.24</td>\n",
       "      <td>7.74</td>\n",
       "      <td>81.97625</td>\n",
       "      <td>80.720733</td>\n",
       "      <td>83.231767</td>\n",
       "    </tr>\n",
       "    <tr>\n",
       "      <th>5</th>\n",
       "      <td>30428350</td>\n",
       "      <td>78.91</td>\n",
       "      <td>88.81</td>\n",
       "      <td>9.90</td>\n",
       "      <td>80.54625</td>\n",
       "      <td>79.290733</td>\n",
       "      <td>81.801767</td>\n",
       "    </tr>\n",
       "    <tr>\n",
       "      <th>6</th>\n",
       "      <td>30428424</td>\n",
       "      <td>82.75</td>\n",
       "      <td>88.90</td>\n",
       "      <td>6.15</td>\n",
       "      <td>80.63625</td>\n",
       "      <td>79.380733</td>\n",
       "      <td>81.891767</td>\n",
       "    </tr>\n",
       "    <tr>\n",
       "      <th>7</th>\n",
       "      <td>30428793</td>\n",
       "      <td>81.75</td>\n",
       "      <td>89.65</td>\n",
       "      <td>7.90</td>\n",
       "      <td>81.38625</td>\n",
       "      <td>80.130733</td>\n",
       "      <td>82.641767</td>\n",
       "    </tr>\n",
       "  </tbody>\n",
       "</table>\n",
       "</div>"
      ],
      "text/plain": [
       "        IDS  LB Scores  Validation Scores  delta  Predicted LB  \\\n",
       "0  29956349      66.24              76.36  10.12      68.09625   \n",
       "1  30426856      82.87              90.43   7.56      82.16625   \n",
       "2  30276814      82.86              90.49   7.63      82.22625   \n",
       "3  30270275      79.38              88.49   9.11      80.22625   \n",
       "4  30428273      82.50              90.24   7.74      81.97625   \n",
       "5  30428350      78.91              88.81   9.90      80.54625   \n",
       "6  30428424      82.75              88.90   6.15      80.63625   \n",
       "7  30428793      81.75              89.65   7.90      81.38625   \n",
       "\n",
       "   Predicted LB lower bound  Predicted LB upper bound  \n",
       "0                 66.840733                 69.351767  \n",
       "1                 80.910733                 83.421767  \n",
       "2                 80.970733                 83.481767  \n",
       "3                 78.970733                 81.481767  \n",
       "4                 80.720733                 83.231767  \n",
       "5                 79.290733                 81.801767  \n",
       "6                 79.380733                 81.891767  \n",
       "7                 80.130733                 82.641767  "
      ]
     },
     "execution_count": 50,
     "metadata": {},
     "output_type": "execute_result"
    }
   ],
   "source": [
    "scores"
   ]
  },
  {
   "cell_type": "code",
   "execution_count": 49,
   "metadata": {},
   "outputs": [
    {
     "data": {
      "text/plain": [
       "[<matplotlib.lines.Line2D at 0x631a812630>]"
      ]
     },
     "execution_count": 49,
     "metadata": {},
     "output_type": "execute_result"
    },
    {
     "data": {
      "image/png": "[encoded data removed]",
      "text/plain": [
       "<Figure size 720x360 with 1 Axes>"
      ]
     },
     "metadata": {
      "needs_background": "light"
     },
     "output_type": "display_data"
    }
   ],
   "source": [
    "plt.figure(figsize = (10,5))\n",
    "plt.xticks(np.arange(len(scores)), scores['IDS'].values, rotation = '45')\n",
    "plt.xlabel('IDS')\n",
    "plt.ylabel('Scores')\n",
    "plt.plot(scores['Validation Scores'].values)\n",
    "plt.plot(scores['LB Scores'].values)"
   ]
  },
  {
   "cell_type": "code",
   "execution_count": null,
   "metadata": {},
   "outputs": [],
   "source": []
  }
 ],
 "metadata": {
  "kernelspec": {
   "display_name": "Python 3",
   "language": "python",
   "name": "python3"
  },
  "language_info": {
   "codemirror_mode": {
    "name": "ipython",
    "version": 3
   },
   "file_extension": ".py",
   "mimetype": "text/x-python",
   "name": "python",
   "nbconvert_exporter": "python",
   "pygments_lexer": "ipython3",
   "version": "3.6.6"
  }
 },
 "nbformat": 4,
 "nbformat_minor": 2
}
