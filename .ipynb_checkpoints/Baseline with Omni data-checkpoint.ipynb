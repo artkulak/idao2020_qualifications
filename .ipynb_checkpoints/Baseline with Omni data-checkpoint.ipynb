{
 "cells": [
  {
   "cell_type": "code",
   "execution_count": 1,
   "metadata": {},
   "outputs": [],
   "source": [
    "import pandas as pd\n",
    "import numpy as np\n",
    "import matplotlib.pyplot as plt\n",
    "from mpl_toolkits import mplot3d\n",
    "import seaborn as sns\n",
    "import gc\n",
    "from tqdm import tqdm\n",
    "\n",
    "%matplotlib inline\n",
    "\n",
    "PATH = ''\n",
    "dataYear = 2014"
   ]
  },
  {
   "cell_type": "code",
   "execution_count": 2,
   "metadata": {},
   "outputs": [
    {
     "name": "stdout",
     "output_type": "stream",
     "text": [
      "Wall time: 7.83 s\n"
     ]
    }
   ],
   "source": [
    "%%time\n",
    "train = pd.read_csv(PATH + 'train.csv')\n",
    "test = pd.read_csv(PATH + 'Track 1/test.csv')\n",
    "submission = pd.read_csv(PATH + 'Track 1/submission.csv')\n",
    "earth = pd.read_csv(PATH + 'omni_data.csv').drop(columns = 'Unnamed: 0')\n",
    "\n",
    "earth = earth[earth['year'] == dataYear]\n",
    "earth['day'] = earth['day'].map(int)\n",
    "earth['hour'] = earth['hour'].map(int)\n",
    "earth.fillna(0, inplace = True)\n",
    "gc.collect()"
   ]
  },
  {
   "cell_type": "markdown",
   "metadata": {},
   "source": [
    "### LB Score Calc"
   ]
  },
  {
   "cell_type": "markdown",
   "metadata": {},
   "source": [
    "Для подсчета скора просто используйте функцию getLBScore"
   ]
  },
  {
   "cell_type": "code",
   "execution_count": 3,
   "metadata": {},
   "outputs": [],
   "source": [
    "def smape(satellite_predicted_values, satellite_true_values): \n",
    "    # the division, addition and subtraction are pointwise \n",
    "    return np.mean(np.abs(satellite_predicted_values - satellite_true_values) / (np.abs(satellite_predicted_values) + np.abs(satellite_true_values)))"
   ]
  },
  {
   "cell_type": "code",
   "execution_count": 4,
   "metadata": {},
   "outputs": [],
   "source": [
    "def getLBScore(real, predicted):\n",
    "    smp = []\n",
    "    for sat_id in real['sat_id'].unique():\n",
    "        rv = real[real['sat_id'] == sat_id][['x', 'y', 'z', 'Vx', 'Vy', 'Vz']].values\n",
    "        sym = predicted[predicted['sat_id'] == sat_id][['x', 'y', 'z', 'Vx', 'Vy', 'Vz']].values\n",
    "        smp.append(smape(sym.ravel(), rv.ravel()))\n",
    "    meanSmape = np.mean(smp)\n",
    "    lbScore = 100 * (1 - meanSmape)\n",
    "    print('Mean SMAPE ', meanSmape, '; LB score ', lbScore)"
   ]
  },
  {
   "cell_type": "code",
   "execution_count": 53,
   "metadata": {},
   "outputs": [
    {
     "name": "stdout",
     "output_type": "stream",
     "text": [
      "Mean SMAPE  0.15090231392579082 ; LB score  84.90976860742092\n",
      "Wall time: 2.64 s\n"
     ]
    }
   ],
   "source": [
    "%%time\n",
    "# LB ~ 66\n",
    "# Скор при использовании симулирующих значений на трейне как предсказаний\n",
    "trainSym = train.copy()\n",
    "trainSym.iloc[:, 3:9] = trainSym.iloc[:, 9:].values\n",
    "getLBScore(train, trainSym)"
   ]
  },
  {
   "cell_type": "code",
   "execution_count": 54,
   "metadata": {},
   "outputs": [
    {
     "name": "stdout",
     "output_type": "stream",
     "text": [
      "Mean SMAPE  0.14887327646453175 ; LB score  85.11267235354683\n",
      "Wall time: 4.19 s\n"
     ]
    }
   ],
   "source": [
    "%%time\n",
    "# Скор при использовании симулирующих значений на трейне как предсказаний только для айдишников из теста\n",
    "trainTestSatellites = train['sat_id'].unique()[[True if sat_id in test['sat_id'].unique() else False for sat_id in train['sat_id'].unique()]]\n",
    "trainTestData = train.loc[[True if sat_id in trainTestSatellites else False for sat_id in train['sat_id'].values], :]\n",
    "\n",
    "trainSym = trainTestData.copy()\n",
    "trainSym.iloc[:, 3:9] = trainSym.iloc[:, 9:].values\n",
    "\n",
    "getLBScore(trainTestData, trainSym)"
   ]
  },
  {
   "cell_type": "code",
   "execution_count": 55,
   "metadata": {},
   "outputs": [
    {
     "name": "stdout",
     "output_type": "stream",
     "text": [
      "Mean SMAPE  0.0 ; LB score  100.0\n",
      "Wall time: 2.26 s\n"
     ]
    }
   ],
   "source": [
    "%%time\n",
    "# Скор при полностью правильном предсказании\n",
    "getLBScore(train, train)"
   ]
  },
  {
   "cell_type": "code",
   "execution_count": 56,
   "metadata": {},
   "outputs": [
    {
     "name": "stdout",
     "output_type": "stream",
     "text": [
      "Mean SMAPE  0.8809915007551554 ; LB score  11.900849924484458\n",
      "Wall time: 2.84 s\n"
     ]
    }
   ],
   "source": [
    "%%time\n",
    "# Скор при рандомном предсказании\n",
    "trainRnd = train.copy()\n",
    "trainRnd.iloc[:, 3:9] = np.random.rand(*train.iloc[:, 3:9].shape)\n",
    "getLBScore(train, trainRnd)"
   ]
  },
  {
   "cell_type": "code",
   "execution_count": 57,
   "metadata": {},
   "outputs": [
    {
     "name": "stdout",
     "output_type": "stream",
     "text": [
      "Mean SMAPE  0.7728933735292876 ; LB score  22.710662647071246\n"
     ]
    }
   ],
   "source": [
    "# LB ~ 32\n",
    "# Половинку значений зануляем\n",
    "trainSym = train.copy()\n",
    "trainSym.iloc[:, 3:9] = trainSym.iloc[:, 9:].values\n",
    "trainSym.iloc[157810:, 3:9] = 0\n",
    "getLBScore(train, trainSym)"
   ]
  },
  {
   "cell_type": "markdown",
   "metadata": {},
   "source": [
    "### Model training"
   ]
  },
  {
   "cell_type": "code",
   "execution_count": 5,
   "metadata": {},
   "outputs": [],
   "source": [
    "training_columns = ['epoch', 'sat_id', 'x_sim', 'y_sim', 'z_sim', 'Vx_sim', 'Vy_sim', 'Vz_sim']\n",
    "prediction_columns = ['x','y','z','Vx', 'Vy', 'Vz']\n",
    "X = train.loc[:, training_columns]\n",
    "y = train.loc[:, prediction_columns]\n",
    "Xtest = test.loc[:, training_columns]"
   ]
  },
  {
   "cell_type": "code",
   "execution_count": 6,
   "metadata": {},
   "outputs": [],
   "source": [
    "def extractTimeFeats(data):\n",
    "    timeFeats = data['epoch'].apply(lambda x: str(x).split('T')[1].split('.')[0].split(':')).values\n",
    "    h,m,s = [],[],[]\n",
    "    for feat in timeFeats:\n",
    "        h.append(feat[0]); m.append(feat[1]); s.append(feat[2])\n",
    "    return h,m,s"
   ]
  },
  {
   "cell_type": "code",
   "execution_count": 7,
   "metadata": {},
   "outputs": [],
   "source": [
    "h,m,s = extractTimeFeats(X)\n",
    "X.loc[:, 'h'] = list(map(int, h)); X.loc[:, 'm'] = list(map(int, m)); X.loc[:, 's'] =list(map(int, s))\n",
    "X.loc[:, 'd'] = train['epoch'].apply(lambda x: int(str(x).split('T')[0].split('-')[2])).values\n",
    "X.drop(columns = 'epoch', inplace = True)\n",
    "\n",
    "h,m,s = extractTimeFeats(Xtest)\n",
    "Xtest.loc[:, 'h'] = list(map(int, h)); Xtest.loc[:, 'm'] = list(map(int, m)); Xtest.loc[:, 's'] = list(map(int, s))\n",
    "Xtest.loc[:, 'd'] = 31 + test['epoch'].apply(lambda x: int(str(x).split('T')[0].split('-')[2])).values\n",
    "Xtest.drop(columns = 'epoch', inplace = True)"
   ]
  },
  {
   "cell_type": "code",
   "execution_count": 8,
   "metadata": {},
   "outputs": [],
   "source": [
    "X = X.merge(earth, left_on = ['d', 'h'], right_on = ['day', 'hour'])\n",
    "Xtest = Xtest.merge(earth, left_on = ['d', 'h'], right_on = ['day', 'hour'])\n",
    "\n",
    "X.drop(columns = ['d', 'year', 'day', 'hour'], inplace = True)\n",
    "Xtest.drop(columns = ['d', 'year', 'day', 'hour'], inplace = True)"
   ]
  },
  {
   "cell_type": "code",
   "execution_count": 12,
   "metadata": {},
   "outputs": [],
   "source": [
    "from sklearn.linear_model import LinearRegression, Lasso, Ridge\n",
    "from sklearn.neural_network import MLPRegressor\n",
    "from sklearn.neighbors import KNeighborsRegressor\n",
    "from sklearn.tree import DecisionTreeRegressor\n",
    "from sklearn.ensemble import RandomForestRegressor, GradientBoostingRegressor\n",
    "from sklearn.model_selection import train_test_split"
   ]
  },
  {
   "cell_type": "code",
   "execution_count": null,
   "metadata": {},
   "outputs": [
    {
     "name": "stdout",
     "output_type": "stream",
     "text": [
      "Running model logreg...\n",
      "SMAPE on x  0.8327224219980626\n",
      "SMAPE on y  0.8236215090073176\n",
      "SMAPE on z  0.7947025237412265\n",
      "SMAPE on Vx  0.9857120780433081\n",
      "SMAPE on Vy  0.9884593079651188\n",
      "SMAPE on Vz  0.9851428683528857\n",
      "Mean SMAPE  0.9243720088063124 ; LB score  7.562799119368757\n",
      "\n",
      "-----------------------------------\n",
      "\n",
      "Running model lasso...\n"
     ]
    },
    {
     "name": "stderr",
     "output_type": "stream",
     "text": [
      "C:\\Anaconda3\\lib\\site-packages\\sklearn\\linear_model\\coordinate_descent.py:492: ConvergenceWarning: Objective did not converge. You might want to increase the number of iterations. Fitting data with very small alpha may cause precision problems.\n",
      "  ConvergenceWarning)\n"
     ]
    },
    {
     "name": "stdout",
     "output_type": "stream",
     "text": [
      "SMAPE on x  0.8353008878445565\n"
     ]
    }
   ],
   "source": [
    "from sklearn.linear_model import LinearRegression, Lasso, Ridge\n",
    "from sklearn.neural_network import MLPRegressor\n",
    "from sklearn.neighbors import KNeighborsRegressor\n",
    "from sklearn.tree import DecisionTreeRegressor\n",
    "from sklearn.ensemble import RandomForestRegressor, GradientBoostingRegressor\n",
    "from sklearn.model_selection import train_test_split\n",
    "\n",
    "models = {\n",
    "      'logreg': LinearRegression(), \n",
    "      'lasso': Lasso(),\n",
    "      'ridge': Ridge(),\n",
    "#       'mlp': MLPRegressor(), \n",
    "      #'knn': KNeighborsRegressor(), \n",
    "      #'dtree': DecisionTreeRegressor(), \n",
    "      #'rfc': RandomForestRegressor(), \n",
    "      #'gbm': GradientBoostingRegressor()\n",
    "     }\n",
    "\n",
    "trainSize = 0.8\n",
    "for name, model in models.items():\n",
    "    print(f'Running model {name}...')\n",
    "    submissionValid = train.iloc[int(X.shape[0] * 0.8):, :].copy()[['id', 'sat_id', 'x', 'y', 'z', 'Vx', 'Vy', 'Vz']]\n",
    "    Xtr, Xval = X.iloc[:int(X.shape[0] * 0.8), :], X.iloc[int(X.shape[0] * 0.8):, :]\n",
    "    Ytr, Yval = y.iloc[:int(X.shape[0] * 0.8), :], y.iloc[int(X.shape[0] * 0.8):, :]\n",
    "    for predValue in ['x', 'y', 'z', 'Vx', 'Vy', 'Vz']:\n",
    "        ytr,yval = Ytr[predValue].values, Yval[predValue].values\n",
    "        model.fit(Xtr, ytr)\n",
    "        ypred = model.predict(Xval)\n",
    "        print(f'SMAPE on {predValue} ', smape(ypred, yval))\n",
    "        submissionValid[[predValue]] = ypred\n",
    "    getLBScore(train.iloc[int(X.shape[0] * 0.8):, :],submissionValid)\n",
    "    print('\\n-----------------------------------\\n')"
   ]
  },
  {
   "cell_type": "markdown",
   "metadata": {},
   "source": [
    "Реальный скор того что внизу - 64.63"
   ]
  },
  {
   "cell_type": "code",
   "execution_count": 14,
   "metadata": {},
   "outputs": [
    {
     "name": "stdout",
     "output_type": "stream",
     "text": [
      "Running model ridge...\n"
     ]
    },
    {
     "name": "stderr",
     "output_type": "stream",
     "text": [
      "C:\\Anaconda3\\lib\\site-packages\\sklearn\\model_selection\\_split.py:2179: FutureWarning: From version 0.21, test_size will always complement train_size unless both are specified.\n",
      "  FutureWarning)\n"
     ]
    },
    {
     "name": "stdout",
     "output_type": "stream",
     "text": [
      "SMAPE on x  0.834780223017743\n",
      "SMAPE on y  0.9432737939571062\n",
      "SMAPE on z  0.8526274878404746\n",
      "SMAPE on Vx  0.9786190960221042\n",
      "SMAPE on Vy  0.9874047146710144\n",
      "SMAPE on Vz  0.9757479135028767\n",
      "Mean SMAPE  0.94057951015458 ; LB score  5.942048984542003\n",
      "\n",
      "-----------------------------------\n",
      "\n"
     ]
    }
   ],
   "source": [
    "# LB ~ 64\n",
    "models = {\n",
    "    'ridge': DecisionTreeRegressor(max_depth = 3)\n",
    "}\n",
    "\n",
    "trainSize = 0.9\n",
    "for name, model in models.items():\n",
    "    print(f'Running model {name}...')\n",
    "    Xtr, Xval = train_test_split(X, train_size = trainSize)\n",
    "    Ytr, Yval = y.iloc[Xtr.index], y.iloc[Xval.index]\n",
    "    submissionValid = train.iloc[Xval.index, :].copy()[['id', 'sat_id', 'x', 'y', 'z', 'Vx', 'Vy', 'Vz']]\n",
    "    for predValue in ['x', 'y', 'z', 'Vx', 'Vy', 'Vz']:\n",
    "        ytr,yval = Ytr[predValue].values, Yval[predValue].values\n",
    "        model.fit(Xtr, ytr)\n",
    "        ypred = model.predict(Xval)\n",
    "        print(f'SMAPE on {predValue} ', smape(ypred, yval))\n",
    "        submissionValid[[predValue]] = ypred\n",
    "        submission[[predValue]] = model.predict(Xtest)\n",
    "    getLBScore(train.iloc[Xval.index, :],submissionValid)\n",
    "    print('\\n-----------------------------------\\n')"
   ]
  },
  {
   "cell_type": "code",
   "execution_count": 67,
   "metadata": {},
   "outputs": [],
   "source": [
    "submission.to_csv('submission.csv', index = None)"
   ]
  }
 ],
 "metadata": {
  "kernelspec": {
   "display_name": "Python 3",
   "language": "python",
   "name": "python3"
  },
  "language_info": {
   "codemirror_mode": {
    "name": "ipython",
    "version": 3
   },
   "file_extension": ".py",
   "mimetype": "text/x-python",
   "name": "python",
   "nbconvert_exporter": "python",
   "pygments_lexer": "ipython3",
   "version": "3.6.6"
  }
 },
 "nbformat": 4,
 "nbformat_minor": 2
}
